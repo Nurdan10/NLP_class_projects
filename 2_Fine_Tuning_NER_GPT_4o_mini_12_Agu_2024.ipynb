{
 "cells": [
  {
   "cell_type": "markdown",
   "metadata": {
    "id": "P4VmEGHIJY35"
   },
   "source": [
    "Try chatgpt for your task before fine-tuning. If chatgpt is not enough, then fine-tune it. Do not forget that chat-gpt may be sufficient for most simple tasks.\n",
    "\n",
    "To fine-tune the GPT-3.5 model, you need to convert each observation in your data to the following message template (Jsonline Format):"
   ]
  },
  {
   "cell_type": "code",
   "execution_count": null,
   "metadata": {
    "id": "1pMzh-puJgHY"
   },
   "outputs": [],
   "source": [
    "# \"\"\"{'messages': [{'role': 'system', 'content': 'Given a text, provide the following fields in a JSON format, where applicable:\\\n",
    "#                                              'person (only name/surname)', 'time (week, month, summer etc.)', 'currency (USD, EURO etc.)',\\\n",
    "#                                               and 'place (country, city etc.)'.'},\n",
    "#                  {'role': 'user', 'content': 'The White House is located in Washington, D.C.'},\n",
    "#                  {'role': 'assistant', 'content': \"{'Person': 'null', 'Time': 'null', 'Currency': 'null', 'Place': 'Washington, D.C.'}\"}]}\"\"\"\n",
    "\n",
    "# system: the instructions you give to the model.\n",
    "# user: the feature/independent variable/text of each observation in your data (X)\n",
    "# assistant: the dependent variable/target/label of each observation in your data (y)."
   ]
  },
  {
   "cell_type": "code",
   "execution_count": 1,
   "metadata": {
    "colab": {
     "base_uri": "https://localhost:8080/"
    },
    "id": "WCEPg5weDWJR",
    "outputId": "84ee1bbd-9aa5-42a8-d3f6-3698981b3236"
   },
   "outputs": [],
   "source": [
    "!pip install -qU openai"
   ]
  },
  {
   "cell_type": "code",
   "execution_count": 2,
   "metadata": {
    "colab": {
     "base_uri": "https://localhost:8080/"
    },
    "id": "2MdfZxyAmvig",
    "outputId": "9c85a4df-0ce0-43bb-af7f-c258ccd38690"
   },
   "outputs": [],
   "source": [
    "!pip install -q tiktoken"
   ]
  },
  {
   "cell_type": "code",
   "execution_count": 3,
   "metadata": {
    "id": "I16ivpcrDto6"
   },
   "outputs": [],
   "source": [
    "import matplotlib.pyplot as plt\n",
    "import seaborn as sns\n",
    "import pandas as pd\n",
    "import numpy as np"
   ]
  },
  {
   "cell_type": "code",
   "execution_count": 4,
   "metadata": {
    "id": "VYGy7Msa_tY1"
   },
   "outputs": [
    {
     "ename": "ModuleNotFoundError",
     "evalue": "No module named 'google.colab'",
     "output_type": "error",
     "traceback": [
      "\u001b[1;31m---------------------------------------------------------------------------\u001b[0m",
      "\u001b[1;31mModuleNotFoundError\u001b[0m                       Traceback (most recent call last)",
      "Cell \u001b[1;32mIn[4], line 2\u001b[0m\n\u001b[0;32m      1\u001b[0m \u001b[38;5;28;01mimport\u001b[39;00m \u001b[38;5;21;01mos\u001b[39;00m\n\u001b[1;32m----> 2\u001b[0m \u001b[38;5;28;01mfrom\u001b[39;00m \u001b[38;5;21;01mgoogle\u001b[39;00m\u001b[38;5;21;01m.\u001b[39;00m\u001b[38;5;21;01mcolab\u001b[39;00m \u001b[38;5;28;01mimport\u001b[39;00m userdata\n\u001b[0;32m      4\u001b[0m os\u001b[38;5;241m.\u001b[39menviron[\u001b[38;5;124m'\u001b[39m\u001b[38;5;124mOPENAI_API_KEY\u001b[39m\u001b[38;5;124m'\u001b[39m]\u001b[38;5;241m=\u001b[39muserdata\u001b[38;5;241m.\u001b[39mget(\u001b[38;5;124m'\u001b[39m\u001b[38;5;124mOPENAI_API_KEY\u001b[39m\u001b[38;5;124m'\u001b[39m)\n",
      "\u001b[1;31mModuleNotFoundError\u001b[0m: No module named 'google.colab'"
     ]
    }
   ],
   "source": [
    "import os\n",
    "from google.colab import userdata\n",
    "\n",
    "os.environ['OPENAI_API_KEY']=userdata.get('OPENAI_API_KEY')"
   ]
  },
  {
   "cell_type": "code",
   "execution_count": null,
   "metadata": {
    "id": "1PKcnVGQmgTp"
   },
   "outputs": [],
   "source": [
    "from openai import OpenAI\n",
    "\n",
    "client = OpenAI() #api_key=os.environ['OPENAI_API_KEY']"
   ]
  },
  {
   "cell_type": "markdown",
   "metadata": {
    "id": "5eMrh3BrLfzf"
   },
   "source": [
    "We're getting 20 observations ready for NER fine tuning."
   ]
  },
  {
   "cell_type": "code",
   "execution_count": null,
   "metadata": {
    "id": "Y1e-9iYwl7sF"
   },
   "outputs": [],
   "source": [
    "prompt_train= [\"After spending several months studying abroad in Spain, John Wick returned home with a newfound appreciation for the Spanish language and culture.\",\n",
    "         \"Despite the fact that I had saved up 100.000 USD, I still found it difficult to afford a house in the city.\",\n",
    "         \"When I was a child, my grandparents would take me on long walks through the countryside, and those memories are still some of my most cherished.\",\n",
    "         \"After years of working in the corporate world, I decided to start my own business, and I've never looked back.\",\n",
    "         \"The ancient ruins we visited in Rome were so awe-inspiring that I found myself speechless.\",\n",
    "         \"Despite the fact that I had been practicing for months, my piano recital was a disaster, and I was humiliated.\",\n",
    "         \"When she traveled to Thailand, Mary was amazed by the beauty and serenity of the Buddhist temples.\",\n",
    "         \"My grandmother's estate, which had been passed down through several generations of our family, was the site of many cherished family gatherings.\",\n",
    "         \"When I was a student, I spent a semester studying abroad in France, and it was one of the most enriching experiences of my life.\",\n",
    "         \"After my grandfather passed away, my family and I spent weeks going through his belongings and reminiscing about his life.\",\n",
    "         \"The White House is located in Washington, D.C.\",\n",
    "         \"I need to exchange dollars for euros before I travel to Europe.\",\n",
    "         \"The exchange rate between the pound and the euro is favorable.\",\n",
    "         \"As a child, I used to spend my summers at my grandparents' farm, and those days are some of my most cherished memories.\",\n",
    "         \"After years of working for a multinational corporation, I decided to quit my job and travel the World.\",\n",
    "         \"My great-grandfather fought in World War II, and his stories about the war have been passed down through the generations of our family.\",\n",
    "         \"When I was in college, I spent a semester studying abroad in China, and it was an eye-opening experience.\",\n",
    "         \"My best friend and I have been planning a trip to South America for years, and we're finally going to make it happen this summer.\",\n",
    "         \"My parents own a small motel in a charming seaside town, and they've been running it for over 20 years.\",\n",
    "         \"Johnson and I decided to take a road trip across the United States during the summer after we graduated from college.\"]"
   ]
  },
  {
   "cell_type": "code",
   "execution_count": null,
   "metadata": {
    "id": "gSIpljkUJEdr"
   },
   "outputs": [],
   "source": [
    "# Çıktıyı istediğiniz gibi düzenleyebilirsiniz. Çıktının sözlük formatında olmasını istedik, bu yüzden onu bu şekilde formatladık.\n",
    "\n",
    "target_train= [{\"Person\": \"John Wick\", \"Time\": \"several months\", \"Currency\": \"null\", \"Place\": \"Spain\"},\n",
    "         {\"Person\": \"null\", \"Time\": \"null\", \"Currency\": \"USD\", \"Place\": \"null\"},\n",
    "         {\"Person\": \"null\", \"Time\": \"null\", \"Currency\": \"null\", \"Place\": \"null\"},\n",
    "         {\"Person\": \"null\", \"Time\": \"years\", \"Currency\": \"null\", \"Place\": \"null\"},\n",
    "         {\"Person\": \"null\", \"Time\": \"null\", \"Currency\": \"null\", \"Place\": \"Rome\"},\n",
    "         {\"Person\": \"null\", \"Time\": \"months\", \"Currency\": \"null\", \"Place\": \"null\"},\n",
    "         {\"Person\": \"Mary\", \"Time\": \"null\", \"Currency\": \"null\", \"Place\": \"Thailand\"},\n",
    "         {\"Person\": \"null\", \"Time\": \"null\", \"Currency\": \"null\", \"Place\": \"null\"},\n",
    "         {\"Person\": \"null\", \"Time\": \"semester\", \"Currency\": \"null\", \"Place\": \"France\"},\n",
    "         {\"Person\": \"null\", \"Time\": \"weeks\", \"Currency\": \"null\", \"Place\": \"null\"},\n",
    "         {\"Person\": \"null\", \"Time\": \"null\", \"Currency\": \"null\", \"Place\": \"Washington, D.C.\"},\n",
    "         {\"Person\": \"null\", \"Time\": \"null\", \"Currency\": [\"dollars\", \"euros\"], \"Place\": \"Europe\"},\n",
    "         {\"Person\": \"null\", \"Time\": \"null\", \"Currency\": [\"pound\", \"euro\"], \"Place\": \"null\"},\n",
    "         {\"Person\": \"null\", \"Time\": [\"summers\", \"those days\"], \"Currency\": \"null\", \"Place\": \"null\"},\n",
    "         {\"Person\": \"null\", \"Time\": \"years\", \"Currency\": \"null\", \"Place\": \"World\"},\n",
    "         {\"Person\": \"null\", \"Time\": \"null\", \"Currency\": \"null\", \"Place\": \"null\"},\n",
    "         {\"Person\": \"null\", \"Time\": \"semester\", \"Currency\": \"null\", \"Place\": \"China\"},\n",
    "         {\"Person\": \"null\", \"Time\": [\"years\", \"summer\"], \"Currency\": \"null\", \"Place\": \"South America\"},\n",
    "         {\"Person\": \"null\", \"Time\": \"over 20 years\", \"Currency\": \"null\", \"Place\": \"null\"},\n",
    "         {\"Person\": \"Johnson\", \"Time\": \"summer\", \"Currency\": \"null\", \"Place\": \"United States\"}]"
   ]
  },
  {
   "cell_type": "code",
   "execution_count": null,
   "metadata": {
    "id": "06pmmR5IQ3DM"
   },
   "outputs": [],
   "source": [
    "prompt_test=[\"My grandmother always talks about the time she spent in Paris when she was young, and how it was the most magical experience of her life.\",\n",
    "      \"After receiving his bonus in USD, Mark decided to invest in the stock market.\",\n",
    "      \"My cousin Sarah plans to visit Tokyo next spring.\",\n",
    "      \"During the winter holidays, we traveled to the Swiss Alps to enjoy skiing and the beautiful scenery.\",\n",
    "      \"Jennifer won a cash prize of 1000 euros at the competition in Berlin.\"\n",
    "]"
   ]
  },
  {
   "cell_type": "code",
   "execution_count": null,
   "metadata": {
    "id": "cZyil5FcQ3NC"
   },
   "outputs": [],
   "source": [
    "target_test= [{\"Person\": \"null\", \"Time\": \"null\", \"Currency\": \"null\", \"Place\": \"Paris\"},\n",
    "              {\"Person\": \"Mark\", \"Time\": \"null\", \"Currency\": \"USD\", \"Place\": \"null\"},\n",
    "              {\"Person\": \"Sarah\", \"Time\": \"next spring\", \"Currency\": \"null\", \"Place\": \"Tokyo\"},\n",
    "              {\"Person\": \"null\", \"Time\": \"winter holidays\", \"Currency\": \"null\", \"Place\": \"Swiss Alps\"},\n",
    "              {\"Person\": \"Jennifer\", \"Time\": \"null\", \"Currency\": \"euros\", \"Place\": \"Berlin\"}\n",
    "]"
   ]
  },
  {
   "cell_type": "code",
   "execution_count": null,
   "metadata": {
    "colab": {
     "base_uri": "https://localhost:8080/",
     "height": 676
    },
    "id": "CYbO8k2ArW1B",
    "outputId": "f1a9670b-9334-4b6f-cb5c-64873ba5e5e5"
   },
   "outputs": [
    {
     "data": {
      "application/vnd.google.colaboratory.intrinsic+json": {
       "summary": "{\n  \"name\": \"train_df\",\n  \"rows\": 20,\n  \"fields\": [\n    {\n      \"column\": \"text\",\n      \"properties\": {\n        \"dtype\": \"string\",\n        \"num_unique_values\": 20,\n        \"samples\": [\n          \"After spending several months studying abroad in Spain, John Wick returned home with a newfound appreciation for the Spanish language and culture.\",\n          \"My best friend and I have been planning a trip to South America for years, and we're finally going to make it happen this summer.\",\n          \"My great-grandfather fought in World War II, and his stories about the war have been passed down through the generations of our family.\"\n        ],\n        \"semantic_type\": \"\",\n        \"description\": \"\"\n      }\n    },\n    {\n      \"column\": \"target\",\n      \"properties\": {\n        \"dtype\": \"object\",\n        \"semantic_type\": \"\",\n        \"description\": \"\"\n      }\n    }\n  ]\n}",
       "type": "dataframe",
       "variable_name": "train_df"
      },
      "text/html": [
       "\n",
       "  <div id=\"df-a0c806d9-dd9b-4b17-b81a-b005e487ddbd\" class=\"colab-df-container\">\n",
       "    <div>\n",
       "<style scoped>\n",
       "    .dataframe tbody tr th:only-of-type {\n",
       "        vertical-align: middle;\n",
       "    }\n",
       "\n",
       "    .dataframe tbody tr th {\n",
       "        vertical-align: top;\n",
       "    }\n",
       "\n",
       "    .dataframe thead th {\n",
       "        text-align: right;\n",
       "    }\n",
       "</style>\n",
       "<table border=\"1\" class=\"dataframe\">\n",
       "  <thead>\n",
       "    <tr style=\"text-align: right;\">\n",
       "      <th></th>\n",
       "      <th>text</th>\n",
       "      <th>target</th>\n",
       "    </tr>\n",
       "  </thead>\n",
       "  <tbody>\n",
       "    <tr>\n",
       "      <th>0</th>\n",
       "      <td>After spending several months studying abroad ...</td>\n",
       "      <td>{'Person': 'John Wick', 'Time': 'several month...</td>\n",
       "    </tr>\n",
       "    <tr>\n",
       "      <th>1</th>\n",
       "      <td>Despite the fact that I had saved up 100.000 U...</td>\n",
       "      <td>{'Person': 'null', 'Time': 'null', 'Currency':...</td>\n",
       "    </tr>\n",
       "    <tr>\n",
       "      <th>2</th>\n",
       "      <td>When I was a child, my grandparents would take...</td>\n",
       "      <td>{'Person': 'null', 'Time': 'null', 'Currency':...</td>\n",
       "    </tr>\n",
       "    <tr>\n",
       "      <th>3</th>\n",
       "      <td>After years of working in the corporate world,...</td>\n",
       "      <td>{'Person': 'null', 'Time': 'years', 'Currency'...</td>\n",
       "    </tr>\n",
       "    <tr>\n",
       "      <th>4</th>\n",
       "      <td>The ancient ruins we visited in Rome were so a...</td>\n",
       "      <td>{'Person': 'null', 'Time': 'null', 'Currency':...</td>\n",
       "    </tr>\n",
       "    <tr>\n",
       "      <th>5</th>\n",
       "      <td>Despite the fact that I had been practicing fo...</td>\n",
       "      <td>{'Person': 'null', 'Time': 'months', 'Currency...</td>\n",
       "    </tr>\n",
       "    <tr>\n",
       "      <th>6</th>\n",
       "      <td>When she traveled to Thailand, Mary was amazed...</td>\n",
       "      <td>{'Person': 'Mary', 'Time': 'null', 'Currency':...</td>\n",
       "    </tr>\n",
       "    <tr>\n",
       "      <th>7</th>\n",
       "      <td>My grandmother's estate, which had been passed...</td>\n",
       "      <td>{'Person': 'null', 'Time': 'null', 'Currency':...</td>\n",
       "    </tr>\n",
       "    <tr>\n",
       "      <th>8</th>\n",
       "      <td>When I was a student, I spent a semester study...</td>\n",
       "      <td>{'Person': 'null', 'Time': 'semester', 'Curren...</td>\n",
       "    </tr>\n",
       "    <tr>\n",
       "      <th>9</th>\n",
       "      <td>After my grandfather passed away, my family an...</td>\n",
       "      <td>{'Person': 'null', 'Time': 'weeks', 'Currency'...</td>\n",
       "    </tr>\n",
       "    <tr>\n",
       "      <th>10</th>\n",
       "      <td>The White House is located in Washington, D.C.</td>\n",
       "      <td>{'Person': 'null', 'Time': 'null', 'Currency':...</td>\n",
       "    </tr>\n",
       "    <tr>\n",
       "      <th>11</th>\n",
       "      <td>I need to exchange dollars for euros before I ...</td>\n",
       "      <td>{'Person': 'null', 'Time': 'null', 'Currency':...</td>\n",
       "    </tr>\n",
       "    <tr>\n",
       "      <th>12</th>\n",
       "      <td>The exchange rate between the pound and the eu...</td>\n",
       "      <td>{'Person': 'null', 'Time': 'null', 'Currency':...</td>\n",
       "    </tr>\n",
       "    <tr>\n",
       "      <th>13</th>\n",
       "      <td>As a child, I used to spend my summers at my g...</td>\n",
       "      <td>{'Person': 'null', 'Time': ['summers', 'those ...</td>\n",
       "    </tr>\n",
       "    <tr>\n",
       "      <th>14</th>\n",
       "      <td>After years of working for a multinational cor...</td>\n",
       "      <td>{'Person': 'null', 'Time': 'years', 'Currency'...</td>\n",
       "    </tr>\n",
       "    <tr>\n",
       "      <th>15</th>\n",
       "      <td>My great-grandfather fought in World War II, a...</td>\n",
       "      <td>{'Person': 'null', 'Time': 'null', 'Currency':...</td>\n",
       "    </tr>\n",
       "    <tr>\n",
       "      <th>16</th>\n",
       "      <td>When I was in college, I spent a semester stud...</td>\n",
       "      <td>{'Person': 'null', 'Time': 'semester', 'Curren...</td>\n",
       "    </tr>\n",
       "    <tr>\n",
       "      <th>17</th>\n",
       "      <td>My best friend and I have been planning a trip...</td>\n",
       "      <td>{'Person': 'null', 'Time': ['years', 'summer']...</td>\n",
       "    </tr>\n",
       "    <tr>\n",
       "      <th>18</th>\n",
       "      <td>My parents own a small motel in a charming sea...</td>\n",
       "      <td>{'Person': 'null', 'Time': 'over 20 years', 'C...</td>\n",
       "    </tr>\n",
       "    <tr>\n",
       "      <th>19</th>\n",
       "      <td>Johnson and I decided to take a road trip acro...</td>\n",
       "      <td>{'Person': 'Johnson', 'Time': 'summer', 'Curre...</td>\n",
       "    </tr>\n",
       "  </tbody>\n",
       "</table>\n",
       "</div>\n",
       "    <div class=\"colab-df-buttons\">\n",
       "\n",
       "  <div class=\"colab-df-container\">\n",
       "    <button class=\"colab-df-convert\" onclick=\"convertToInteractive('df-a0c806d9-dd9b-4b17-b81a-b005e487ddbd')\"\n",
       "            title=\"Convert this dataframe to an interactive table.\"\n",
       "            style=\"display:none;\">\n",
       "\n",
       "  <svg xmlns=\"http://www.w3.org/2000/svg\" height=\"24px\" viewBox=\"0 -960 960 960\">\n",
       "    <path d=\"M120-120v-720h720v720H120Zm60-500h600v-160H180v160Zm220 220h160v-160H400v160Zm0 220h160v-160H400v160ZM180-400h160v-160H180v160Zm440 0h160v-160H620v160ZM180-180h160v-160H180v160Zm440 0h160v-160H620v160Z\"/>\n",
       "  </svg>\n",
       "    </button>\n",
       "\n",
       "  <style>\n",
       "    .colab-df-container {\n",
       "      display:flex;\n",
       "      gap: 12px;\n",
       "    }\n",
       "\n",
       "    .colab-df-convert {\n",
       "      background-color: #E8F0FE;\n",
       "      border: none;\n",
       "      border-radius: 50%;\n",
       "      cursor: pointer;\n",
       "      display: none;\n",
       "      fill: #1967D2;\n",
       "      height: 32px;\n",
       "      padding: 0 0 0 0;\n",
       "      width: 32px;\n",
       "    }\n",
       "\n",
       "    .colab-df-convert:hover {\n",
       "      background-color: #E2EBFA;\n",
       "      box-shadow: 0px 1px 2px rgba(60, 64, 67, 0.3), 0px 1px 3px 1px rgba(60, 64, 67, 0.15);\n",
       "      fill: #174EA6;\n",
       "    }\n",
       "\n",
       "    .colab-df-buttons div {\n",
       "      margin-bottom: 4px;\n",
       "    }\n",
       "\n",
       "    [theme=dark] .colab-df-convert {\n",
       "      background-color: #3B4455;\n",
       "      fill: #D2E3FC;\n",
       "    }\n",
       "\n",
       "    [theme=dark] .colab-df-convert:hover {\n",
       "      background-color: #434B5C;\n",
       "      box-shadow: 0px 1px 3px 1px rgba(0, 0, 0, 0.15);\n",
       "      filter: drop-shadow(0px 1px 2px rgba(0, 0, 0, 0.3));\n",
       "      fill: #FFFFFF;\n",
       "    }\n",
       "  </style>\n",
       "\n",
       "    <script>\n",
       "      const buttonEl =\n",
       "        document.querySelector('#df-a0c806d9-dd9b-4b17-b81a-b005e487ddbd button.colab-df-convert');\n",
       "      buttonEl.style.display =\n",
       "        google.colab.kernel.accessAllowed ? 'block' : 'none';\n",
       "\n",
       "      async function convertToInteractive(key) {\n",
       "        const element = document.querySelector('#df-a0c806d9-dd9b-4b17-b81a-b005e487ddbd');\n",
       "        const dataTable =\n",
       "          await google.colab.kernel.invokeFunction('convertToInteractive',\n",
       "                                                    [key], {});\n",
       "        if (!dataTable) return;\n",
       "\n",
       "        const docLinkHtml = 'Like what you see? Visit the ' +\n",
       "          '<a target=\"_blank\" href=https://colab.research.google.com/notebooks/data_table.ipynb>data table notebook</a>'\n",
       "          + ' to learn more about interactive tables.';\n",
       "        element.innerHTML = '';\n",
       "        dataTable['output_type'] = 'display_data';\n",
       "        await google.colab.output.renderOutput(dataTable, element);\n",
       "        const docLink = document.createElement('div');\n",
       "        docLink.innerHTML = docLinkHtml;\n",
       "        element.appendChild(docLink);\n",
       "      }\n",
       "    </script>\n",
       "  </div>\n",
       "\n",
       "\n",
       "<div id=\"df-43e72118-7639-4797-8ffd-049c0bbefbbc\">\n",
       "  <button class=\"colab-df-quickchart\" onclick=\"quickchart('df-43e72118-7639-4797-8ffd-049c0bbefbbc')\"\n",
       "            title=\"Suggest charts\"\n",
       "            style=\"display:none;\">\n",
       "\n",
       "<svg xmlns=\"http://www.w3.org/2000/svg\" height=\"24px\"viewBox=\"0 0 24 24\"\n",
       "     width=\"24px\">\n",
       "    <g>\n",
       "        <path d=\"M19 3H5c-1.1 0-2 .9-2 2v14c0 1.1.9 2 2 2h14c1.1 0 2-.9 2-2V5c0-1.1-.9-2-2-2zM9 17H7v-7h2v7zm4 0h-2V7h2v10zm4 0h-2v-4h2v4z\"/>\n",
       "    </g>\n",
       "</svg>\n",
       "  </button>\n",
       "\n",
       "<style>\n",
       "  .colab-df-quickchart {\n",
       "      --bg-color: #E8F0FE;\n",
       "      --fill-color: #1967D2;\n",
       "      --hover-bg-color: #E2EBFA;\n",
       "      --hover-fill-color: #174EA6;\n",
       "      --disabled-fill-color: #AAA;\n",
       "      --disabled-bg-color: #DDD;\n",
       "  }\n",
       "\n",
       "  [theme=dark] .colab-df-quickchart {\n",
       "      --bg-color: #3B4455;\n",
       "      --fill-color: #D2E3FC;\n",
       "      --hover-bg-color: #434B5C;\n",
       "      --hover-fill-color: #FFFFFF;\n",
       "      --disabled-bg-color: #3B4455;\n",
       "      --disabled-fill-color: #666;\n",
       "  }\n",
       "\n",
       "  .colab-df-quickchart {\n",
       "    background-color: var(--bg-color);\n",
       "    border: none;\n",
       "    border-radius: 50%;\n",
       "    cursor: pointer;\n",
       "    display: none;\n",
       "    fill: var(--fill-color);\n",
       "    height: 32px;\n",
       "    padding: 0;\n",
       "    width: 32px;\n",
       "  }\n",
       "\n",
       "  .colab-df-quickchart:hover {\n",
       "    background-color: var(--hover-bg-color);\n",
       "    box-shadow: 0 1px 2px rgba(60, 64, 67, 0.3), 0 1px 3px 1px rgba(60, 64, 67, 0.15);\n",
       "    fill: var(--button-hover-fill-color);\n",
       "  }\n",
       "\n",
       "  .colab-df-quickchart-complete:disabled,\n",
       "  .colab-df-quickchart-complete:disabled:hover {\n",
       "    background-color: var(--disabled-bg-color);\n",
       "    fill: var(--disabled-fill-color);\n",
       "    box-shadow: none;\n",
       "  }\n",
       "\n",
       "  .colab-df-spinner {\n",
       "    border: 2px solid var(--fill-color);\n",
       "    border-color: transparent;\n",
       "    border-bottom-color: var(--fill-color);\n",
       "    animation:\n",
       "      spin 1s steps(1) infinite;\n",
       "  }\n",
       "\n",
       "  @keyframes spin {\n",
       "    0% {\n",
       "      border-color: transparent;\n",
       "      border-bottom-color: var(--fill-color);\n",
       "      border-left-color: var(--fill-color);\n",
       "    }\n",
       "    20% {\n",
       "      border-color: transparent;\n",
       "      border-left-color: var(--fill-color);\n",
       "      border-top-color: var(--fill-color);\n",
       "    }\n",
       "    30% {\n",
       "      border-color: transparent;\n",
       "      border-left-color: var(--fill-color);\n",
       "      border-top-color: var(--fill-color);\n",
       "      border-right-color: var(--fill-color);\n",
       "    }\n",
       "    40% {\n",
       "      border-color: transparent;\n",
       "      border-right-color: var(--fill-color);\n",
       "      border-top-color: var(--fill-color);\n",
       "    }\n",
       "    60% {\n",
       "      border-color: transparent;\n",
       "      border-right-color: var(--fill-color);\n",
       "    }\n",
       "    80% {\n",
       "      border-color: transparent;\n",
       "      border-right-color: var(--fill-color);\n",
       "      border-bottom-color: var(--fill-color);\n",
       "    }\n",
       "    90% {\n",
       "      border-color: transparent;\n",
       "      border-bottom-color: var(--fill-color);\n",
       "    }\n",
       "  }\n",
       "</style>\n",
       "\n",
       "  <script>\n",
       "    async function quickchart(key) {\n",
       "      const quickchartButtonEl =\n",
       "        document.querySelector('#' + key + ' button');\n",
       "      quickchartButtonEl.disabled = true;  // To prevent multiple clicks.\n",
       "      quickchartButtonEl.classList.add('colab-df-spinner');\n",
       "      try {\n",
       "        const charts = await google.colab.kernel.invokeFunction(\n",
       "            'suggestCharts', [key], {});\n",
       "      } catch (error) {\n",
       "        console.error('Error during call to suggestCharts:', error);\n",
       "      }\n",
       "      quickchartButtonEl.classList.remove('colab-df-spinner');\n",
       "      quickchartButtonEl.classList.add('colab-df-quickchart-complete');\n",
       "    }\n",
       "    (() => {\n",
       "      let quickchartButtonEl =\n",
       "        document.querySelector('#df-43e72118-7639-4797-8ffd-049c0bbefbbc button');\n",
       "      quickchartButtonEl.style.display =\n",
       "        google.colab.kernel.accessAllowed ? 'block' : 'none';\n",
       "    })();\n",
       "  </script>\n",
       "</div>\n",
       "\n",
       "  <div id=\"id_fa040251-6a75-4978-834c-6eb8873e1a69\">\n",
       "    <style>\n",
       "      .colab-df-generate {\n",
       "        background-color: #E8F0FE;\n",
       "        border: none;\n",
       "        border-radius: 50%;\n",
       "        cursor: pointer;\n",
       "        display: none;\n",
       "        fill: #1967D2;\n",
       "        height: 32px;\n",
       "        padding: 0 0 0 0;\n",
       "        width: 32px;\n",
       "      }\n",
       "\n",
       "      .colab-df-generate:hover {\n",
       "        background-color: #E2EBFA;\n",
       "        box-shadow: 0px 1px 2px rgba(60, 64, 67, 0.3), 0px 1px 3px 1px rgba(60, 64, 67, 0.15);\n",
       "        fill: #174EA6;\n",
       "      }\n",
       "\n",
       "      [theme=dark] .colab-df-generate {\n",
       "        background-color: #3B4455;\n",
       "        fill: #D2E3FC;\n",
       "      }\n",
       "\n",
       "      [theme=dark] .colab-df-generate:hover {\n",
       "        background-color: #434B5C;\n",
       "        box-shadow: 0px 1px 3px 1px rgba(0, 0, 0, 0.15);\n",
       "        filter: drop-shadow(0px 1px 2px rgba(0, 0, 0, 0.3));\n",
       "        fill: #FFFFFF;\n",
       "      }\n",
       "    </style>\n",
       "    <button class=\"colab-df-generate\" onclick=\"generateWithVariable('train_df')\"\n",
       "            title=\"Generate code using this dataframe.\"\n",
       "            style=\"display:none;\">\n",
       "\n",
       "  <svg xmlns=\"http://www.w3.org/2000/svg\" height=\"24px\"viewBox=\"0 0 24 24\"\n",
       "       width=\"24px\">\n",
       "    <path d=\"M7,19H8.4L18.45,9,17,7.55,7,17.6ZM5,21V16.75L18.45,3.32a2,2,0,0,1,2.83,0l1.4,1.43a1.91,1.91,0,0,1,.58,1.4,1.91,1.91,0,0,1-.58,1.4L9.25,21ZM18.45,9,17,7.55Zm-12,3A5.31,5.31,0,0,0,4.9,8.1,5.31,5.31,0,0,0,1,6.5,5.31,5.31,0,0,0,4.9,4.9,5.31,5.31,0,0,0,6.5,1,5.31,5.31,0,0,0,8.1,4.9,5.31,5.31,0,0,0,12,6.5,5.46,5.46,0,0,0,6.5,12Z\"/>\n",
       "  </svg>\n",
       "    </button>\n",
       "    <script>\n",
       "      (() => {\n",
       "      const buttonEl =\n",
       "        document.querySelector('#id_fa040251-6a75-4978-834c-6eb8873e1a69 button.colab-df-generate');\n",
       "      buttonEl.style.display =\n",
       "        google.colab.kernel.accessAllowed ? 'block' : 'none';\n",
       "\n",
       "      buttonEl.onclick = () => {\n",
       "        google.colab.notebook.generateWithVariable('train_df');\n",
       "      }\n",
       "      })();\n",
       "    </script>\n",
       "  </div>\n",
       "\n",
       "    </div>\n",
       "  </div>\n"
      ],
      "text/plain": [
       "                                                 text  \\\n",
       "0   After spending several months studying abroad ...   \n",
       "1   Despite the fact that I had saved up 100.000 U...   \n",
       "2   When I was a child, my grandparents would take...   \n",
       "3   After years of working in the corporate world,...   \n",
       "4   The ancient ruins we visited in Rome were so a...   \n",
       "5   Despite the fact that I had been practicing fo...   \n",
       "6   When she traveled to Thailand, Mary was amazed...   \n",
       "7   My grandmother's estate, which had been passed...   \n",
       "8   When I was a student, I spent a semester study...   \n",
       "9   After my grandfather passed away, my family an...   \n",
       "10     The White House is located in Washington, D.C.   \n",
       "11  I need to exchange dollars for euros before I ...   \n",
       "12  The exchange rate between the pound and the eu...   \n",
       "13  As a child, I used to spend my summers at my g...   \n",
       "14  After years of working for a multinational cor...   \n",
       "15  My great-grandfather fought in World War II, a...   \n",
       "16  When I was in college, I spent a semester stud...   \n",
       "17  My best friend and I have been planning a trip...   \n",
       "18  My parents own a small motel in a charming sea...   \n",
       "19  Johnson and I decided to take a road trip acro...   \n",
       "\n",
       "                                               target  \n",
       "0   {'Person': 'John Wick', 'Time': 'several month...  \n",
       "1   {'Person': 'null', 'Time': 'null', 'Currency':...  \n",
       "2   {'Person': 'null', 'Time': 'null', 'Currency':...  \n",
       "3   {'Person': 'null', 'Time': 'years', 'Currency'...  \n",
       "4   {'Person': 'null', 'Time': 'null', 'Currency':...  \n",
       "5   {'Person': 'null', 'Time': 'months', 'Currency...  \n",
       "6   {'Person': 'Mary', 'Time': 'null', 'Currency':...  \n",
       "7   {'Person': 'null', 'Time': 'null', 'Currency':...  \n",
       "8   {'Person': 'null', 'Time': 'semester', 'Curren...  \n",
       "9   {'Person': 'null', 'Time': 'weeks', 'Currency'...  \n",
       "10  {'Person': 'null', 'Time': 'null', 'Currency':...  \n",
       "11  {'Person': 'null', 'Time': 'null', 'Currency':...  \n",
       "12  {'Person': 'null', 'Time': 'null', 'Currency':...  \n",
       "13  {'Person': 'null', 'Time': ['summers', 'those ...  \n",
       "14  {'Person': 'null', 'Time': 'years', 'Currency'...  \n",
       "15  {'Person': 'null', 'Time': 'null', 'Currency':...  \n",
       "16  {'Person': 'null', 'Time': 'semester', 'Curren...  \n",
       "17  {'Person': 'null', 'Time': ['years', 'summer']...  \n",
       "18  {'Person': 'null', 'Time': 'over 20 years', 'C...  \n",
       "19  {'Person': 'Johnson', 'Time': 'summer', 'Curre...  "
      ]
     },
     "execution_count": 11,
     "metadata": {},
     "output_type": "execute_result"
    }
   ],
   "source": [
    "my_dict_train={\"text\":prompt_train, \"target\":target_train}\n",
    "train_df=pd.DataFrame(my_dict_train)\n",
    "train_df"
   ]
  },
  {
   "cell_type": "code",
   "execution_count": null,
   "metadata": {
    "colab": {
     "base_uri": "https://localhost:8080/",
     "height": 206
    },
    "id": "GHrmpr8ZTaVn",
    "outputId": "180acc41-881e-4631-b954-9803e76a1149"
   },
   "outputs": [
    {
     "data": {
      "application/vnd.google.colaboratory.intrinsic+json": {
       "summary": "{\n  \"name\": \"test_df\",\n  \"rows\": 5,\n  \"fields\": [\n    {\n      \"column\": \"text\",\n      \"properties\": {\n        \"dtype\": \"string\",\n        \"num_unique_values\": 5,\n        \"samples\": [\n          \"After receiving his bonus in USD, Mark decided to invest in the stock market.\",\n          \"Jennifer won a cash prize of 1000 euros at the competition in Berlin.\",\n          \"My cousin Sarah plans to visit Tokyo next spring.\"\n        ],\n        \"semantic_type\": \"\",\n        \"description\": \"\"\n      }\n    },\n    {\n      \"column\": \"target\",\n      \"properties\": {\n        \"dtype\": \"object\",\n        \"semantic_type\": \"\",\n        \"description\": \"\"\n      }\n    }\n  ]\n}",
       "type": "dataframe",
       "variable_name": "test_df"
      },
      "text/html": [
       "\n",
       "  <div id=\"df-d4d0dad2-1c2f-4a34-ba46-f07e78dc069b\" class=\"colab-df-container\">\n",
       "    <div>\n",
       "<style scoped>\n",
       "    .dataframe tbody tr th:only-of-type {\n",
       "        vertical-align: middle;\n",
       "    }\n",
       "\n",
       "    .dataframe tbody tr th {\n",
       "        vertical-align: top;\n",
       "    }\n",
       "\n",
       "    .dataframe thead th {\n",
       "        text-align: right;\n",
       "    }\n",
       "</style>\n",
       "<table border=\"1\" class=\"dataframe\">\n",
       "  <thead>\n",
       "    <tr style=\"text-align: right;\">\n",
       "      <th></th>\n",
       "      <th>text</th>\n",
       "      <th>target</th>\n",
       "    </tr>\n",
       "  </thead>\n",
       "  <tbody>\n",
       "    <tr>\n",
       "      <th>0</th>\n",
       "      <td>My grandmother always talks about the time she...</td>\n",
       "      <td>{'Person': 'null', 'Time': 'null', 'Currency':...</td>\n",
       "    </tr>\n",
       "    <tr>\n",
       "      <th>1</th>\n",
       "      <td>After receiving his bonus in USD, Mark decided...</td>\n",
       "      <td>{'Person': 'Mark', 'Time': 'null', 'Currency':...</td>\n",
       "    </tr>\n",
       "    <tr>\n",
       "      <th>2</th>\n",
       "      <td>My cousin Sarah plans to visit Tokyo next spring.</td>\n",
       "      <td>{'Person': 'Sarah', 'Time': 'next spring', 'Cu...</td>\n",
       "    </tr>\n",
       "    <tr>\n",
       "      <th>3</th>\n",
       "      <td>During the winter holidays, we traveled to the...</td>\n",
       "      <td>{'Person': 'null', 'Time': 'winter holidays', ...</td>\n",
       "    </tr>\n",
       "    <tr>\n",
       "      <th>4</th>\n",
       "      <td>Jennifer won a cash prize of 1000 euros at the...</td>\n",
       "      <td>{'Person': 'Jennifer', 'Time': 'null', 'Curren...</td>\n",
       "    </tr>\n",
       "  </tbody>\n",
       "</table>\n",
       "</div>\n",
       "    <div class=\"colab-df-buttons\">\n",
       "\n",
       "  <div class=\"colab-df-container\">\n",
       "    <button class=\"colab-df-convert\" onclick=\"convertToInteractive('df-d4d0dad2-1c2f-4a34-ba46-f07e78dc069b')\"\n",
       "            title=\"Convert this dataframe to an interactive table.\"\n",
       "            style=\"display:none;\">\n",
       "\n",
       "  <svg xmlns=\"http://www.w3.org/2000/svg\" height=\"24px\" viewBox=\"0 -960 960 960\">\n",
       "    <path d=\"M120-120v-720h720v720H120Zm60-500h600v-160H180v160Zm220 220h160v-160H400v160Zm0 220h160v-160H400v160ZM180-400h160v-160H180v160Zm440 0h160v-160H620v160ZM180-180h160v-160H180v160Zm440 0h160v-160H620v160Z\"/>\n",
       "  </svg>\n",
       "    </button>\n",
       "\n",
       "  <style>\n",
       "    .colab-df-container {\n",
       "      display:flex;\n",
       "      gap: 12px;\n",
       "    }\n",
       "\n",
       "    .colab-df-convert {\n",
       "      background-color: #E8F0FE;\n",
       "      border: none;\n",
       "      border-radius: 50%;\n",
       "      cursor: pointer;\n",
       "      display: none;\n",
       "      fill: #1967D2;\n",
       "      height: 32px;\n",
       "      padding: 0 0 0 0;\n",
       "      width: 32px;\n",
       "    }\n",
       "\n",
       "    .colab-df-convert:hover {\n",
       "      background-color: #E2EBFA;\n",
       "      box-shadow: 0px 1px 2px rgba(60, 64, 67, 0.3), 0px 1px 3px 1px rgba(60, 64, 67, 0.15);\n",
       "      fill: #174EA6;\n",
       "    }\n",
       "\n",
       "    .colab-df-buttons div {\n",
       "      margin-bottom: 4px;\n",
       "    }\n",
       "\n",
       "    [theme=dark] .colab-df-convert {\n",
       "      background-color: #3B4455;\n",
       "      fill: #D2E3FC;\n",
       "    }\n",
       "\n",
       "    [theme=dark] .colab-df-convert:hover {\n",
       "      background-color: #434B5C;\n",
       "      box-shadow: 0px 1px 3px 1px rgba(0, 0, 0, 0.15);\n",
       "      filter: drop-shadow(0px 1px 2px rgba(0, 0, 0, 0.3));\n",
       "      fill: #FFFFFF;\n",
       "    }\n",
       "  </style>\n",
       "\n",
       "    <script>\n",
       "      const buttonEl =\n",
       "        document.querySelector('#df-d4d0dad2-1c2f-4a34-ba46-f07e78dc069b button.colab-df-convert');\n",
       "      buttonEl.style.display =\n",
       "        google.colab.kernel.accessAllowed ? 'block' : 'none';\n",
       "\n",
       "      async function convertToInteractive(key) {\n",
       "        const element = document.querySelector('#df-d4d0dad2-1c2f-4a34-ba46-f07e78dc069b');\n",
       "        const dataTable =\n",
       "          await google.colab.kernel.invokeFunction('convertToInteractive',\n",
       "                                                    [key], {});\n",
       "        if (!dataTable) return;\n",
       "\n",
       "        const docLinkHtml = 'Like what you see? Visit the ' +\n",
       "          '<a target=\"_blank\" href=https://colab.research.google.com/notebooks/data_table.ipynb>data table notebook</a>'\n",
       "          + ' to learn more about interactive tables.';\n",
       "        element.innerHTML = '';\n",
       "        dataTable['output_type'] = 'display_data';\n",
       "        await google.colab.output.renderOutput(dataTable, element);\n",
       "        const docLink = document.createElement('div');\n",
       "        docLink.innerHTML = docLinkHtml;\n",
       "        element.appendChild(docLink);\n",
       "      }\n",
       "    </script>\n",
       "  </div>\n",
       "\n",
       "\n",
       "<div id=\"df-6b3828fb-e74d-4b29-b99c-9e49611cff49\">\n",
       "  <button class=\"colab-df-quickchart\" onclick=\"quickchart('df-6b3828fb-e74d-4b29-b99c-9e49611cff49')\"\n",
       "            title=\"Suggest charts\"\n",
       "            style=\"display:none;\">\n",
       "\n",
       "<svg xmlns=\"http://www.w3.org/2000/svg\" height=\"24px\"viewBox=\"0 0 24 24\"\n",
       "     width=\"24px\">\n",
       "    <g>\n",
       "        <path d=\"M19 3H5c-1.1 0-2 .9-2 2v14c0 1.1.9 2 2 2h14c1.1 0 2-.9 2-2V5c0-1.1-.9-2-2-2zM9 17H7v-7h2v7zm4 0h-2V7h2v10zm4 0h-2v-4h2v4z\"/>\n",
       "    </g>\n",
       "</svg>\n",
       "  </button>\n",
       "\n",
       "<style>\n",
       "  .colab-df-quickchart {\n",
       "      --bg-color: #E8F0FE;\n",
       "      --fill-color: #1967D2;\n",
       "      --hover-bg-color: #E2EBFA;\n",
       "      --hover-fill-color: #174EA6;\n",
       "      --disabled-fill-color: #AAA;\n",
       "      --disabled-bg-color: #DDD;\n",
       "  }\n",
       "\n",
       "  [theme=dark] .colab-df-quickchart {\n",
       "      --bg-color: #3B4455;\n",
       "      --fill-color: #D2E3FC;\n",
       "      --hover-bg-color: #434B5C;\n",
       "      --hover-fill-color: #FFFFFF;\n",
       "      --disabled-bg-color: #3B4455;\n",
       "      --disabled-fill-color: #666;\n",
       "  }\n",
       "\n",
       "  .colab-df-quickchart {\n",
       "    background-color: var(--bg-color);\n",
       "    border: none;\n",
       "    border-radius: 50%;\n",
       "    cursor: pointer;\n",
       "    display: none;\n",
       "    fill: var(--fill-color);\n",
       "    height: 32px;\n",
       "    padding: 0;\n",
       "    width: 32px;\n",
       "  }\n",
       "\n",
       "  .colab-df-quickchart:hover {\n",
       "    background-color: var(--hover-bg-color);\n",
       "    box-shadow: 0 1px 2px rgba(60, 64, 67, 0.3), 0 1px 3px 1px rgba(60, 64, 67, 0.15);\n",
       "    fill: var(--button-hover-fill-color);\n",
       "  }\n",
       "\n",
       "  .colab-df-quickchart-complete:disabled,\n",
       "  .colab-df-quickchart-complete:disabled:hover {\n",
       "    background-color: var(--disabled-bg-color);\n",
       "    fill: var(--disabled-fill-color);\n",
       "    box-shadow: none;\n",
       "  }\n",
       "\n",
       "  .colab-df-spinner {\n",
       "    border: 2px solid var(--fill-color);\n",
       "    border-color: transparent;\n",
       "    border-bottom-color: var(--fill-color);\n",
       "    animation:\n",
       "      spin 1s steps(1) infinite;\n",
       "  }\n",
       "\n",
       "  @keyframes spin {\n",
       "    0% {\n",
       "      border-color: transparent;\n",
       "      border-bottom-color: var(--fill-color);\n",
       "      border-left-color: var(--fill-color);\n",
       "    }\n",
       "    20% {\n",
       "      border-color: transparent;\n",
       "      border-left-color: var(--fill-color);\n",
       "      border-top-color: var(--fill-color);\n",
       "    }\n",
       "    30% {\n",
       "      border-color: transparent;\n",
       "      border-left-color: var(--fill-color);\n",
       "      border-top-color: var(--fill-color);\n",
       "      border-right-color: var(--fill-color);\n",
       "    }\n",
       "    40% {\n",
       "      border-color: transparent;\n",
       "      border-right-color: var(--fill-color);\n",
       "      border-top-color: var(--fill-color);\n",
       "    }\n",
       "    60% {\n",
       "      border-color: transparent;\n",
       "      border-right-color: var(--fill-color);\n",
       "    }\n",
       "    80% {\n",
       "      border-color: transparent;\n",
       "      border-right-color: var(--fill-color);\n",
       "      border-bottom-color: var(--fill-color);\n",
       "    }\n",
       "    90% {\n",
       "      border-color: transparent;\n",
       "      border-bottom-color: var(--fill-color);\n",
       "    }\n",
       "  }\n",
       "</style>\n",
       "\n",
       "  <script>\n",
       "    async function quickchart(key) {\n",
       "      const quickchartButtonEl =\n",
       "        document.querySelector('#' + key + ' button');\n",
       "      quickchartButtonEl.disabled = true;  // To prevent multiple clicks.\n",
       "      quickchartButtonEl.classList.add('colab-df-spinner');\n",
       "      try {\n",
       "        const charts = await google.colab.kernel.invokeFunction(\n",
       "            'suggestCharts', [key], {});\n",
       "      } catch (error) {\n",
       "        console.error('Error during call to suggestCharts:', error);\n",
       "      }\n",
       "      quickchartButtonEl.classList.remove('colab-df-spinner');\n",
       "      quickchartButtonEl.classList.add('colab-df-quickchart-complete');\n",
       "    }\n",
       "    (() => {\n",
       "      let quickchartButtonEl =\n",
       "        document.querySelector('#df-6b3828fb-e74d-4b29-b99c-9e49611cff49 button');\n",
       "      quickchartButtonEl.style.display =\n",
       "        google.colab.kernel.accessAllowed ? 'block' : 'none';\n",
       "    })();\n",
       "  </script>\n",
       "</div>\n",
       "\n",
       "  <div id=\"id_80d5e49b-3fe3-4cda-b2fc-86d4e52b14da\">\n",
       "    <style>\n",
       "      .colab-df-generate {\n",
       "        background-color: #E8F0FE;\n",
       "        border: none;\n",
       "        border-radius: 50%;\n",
       "        cursor: pointer;\n",
       "        display: none;\n",
       "        fill: #1967D2;\n",
       "        height: 32px;\n",
       "        padding: 0 0 0 0;\n",
       "        width: 32px;\n",
       "      }\n",
       "\n",
       "      .colab-df-generate:hover {\n",
       "        background-color: #E2EBFA;\n",
       "        box-shadow: 0px 1px 2px rgba(60, 64, 67, 0.3), 0px 1px 3px 1px rgba(60, 64, 67, 0.15);\n",
       "        fill: #174EA6;\n",
       "      }\n",
       "\n",
       "      [theme=dark] .colab-df-generate {\n",
       "        background-color: #3B4455;\n",
       "        fill: #D2E3FC;\n",
       "      }\n",
       "\n",
       "      [theme=dark] .colab-df-generate:hover {\n",
       "        background-color: #434B5C;\n",
       "        box-shadow: 0px 1px 3px 1px rgba(0, 0, 0, 0.15);\n",
       "        filter: drop-shadow(0px 1px 2px rgba(0, 0, 0, 0.3));\n",
       "        fill: #FFFFFF;\n",
       "      }\n",
       "    </style>\n",
       "    <button class=\"colab-df-generate\" onclick=\"generateWithVariable('test_df')\"\n",
       "            title=\"Generate code using this dataframe.\"\n",
       "            style=\"display:none;\">\n",
       "\n",
       "  <svg xmlns=\"http://www.w3.org/2000/svg\" height=\"24px\"viewBox=\"0 0 24 24\"\n",
       "       width=\"24px\">\n",
       "    <path d=\"M7,19H8.4L18.45,9,17,7.55,7,17.6ZM5,21V16.75L18.45,3.32a2,2,0,0,1,2.83,0l1.4,1.43a1.91,1.91,0,0,1,.58,1.4,1.91,1.91,0,0,1-.58,1.4L9.25,21ZM18.45,9,17,7.55Zm-12,3A5.31,5.31,0,0,0,4.9,8.1,5.31,5.31,0,0,0,1,6.5,5.31,5.31,0,0,0,4.9,4.9,5.31,5.31,0,0,0,6.5,1,5.31,5.31,0,0,0,8.1,4.9,5.31,5.31,0,0,0,12,6.5,5.46,5.46,0,0,0,6.5,12Z\"/>\n",
       "  </svg>\n",
       "    </button>\n",
       "    <script>\n",
       "      (() => {\n",
       "      const buttonEl =\n",
       "        document.querySelector('#id_80d5e49b-3fe3-4cda-b2fc-86d4e52b14da button.colab-df-generate');\n",
       "      buttonEl.style.display =\n",
       "        google.colab.kernel.accessAllowed ? 'block' : 'none';\n",
       "\n",
       "      buttonEl.onclick = () => {\n",
       "        google.colab.notebook.generateWithVariable('test_df');\n",
       "      }\n",
       "      })();\n",
       "    </script>\n",
       "  </div>\n",
       "\n",
       "    </div>\n",
       "  </div>\n"
      ],
      "text/plain": [
       "                                                text  \\\n",
       "0  My grandmother always talks about the time she...   \n",
       "1  After receiving his bonus in USD, Mark decided...   \n",
       "2  My cousin Sarah plans to visit Tokyo next spring.   \n",
       "3  During the winter holidays, we traveled to the...   \n",
       "4  Jennifer won a cash prize of 1000 euros at the...   \n",
       "\n",
       "                                              target  \n",
       "0  {'Person': 'null', 'Time': 'null', 'Currency':...  \n",
       "1  {'Person': 'Mark', 'Time': 'null', 'Currency':...  \n",
       "2  {'Person': 'Sarah', 'Time': 'next spring', 'Cu...  \n",
       "3  {'Person': 'null', 'Time': 'winter holidays', ...  \n",
       "4  {'Person': 'Jennifer', 'Time': 'null', 'Curren...  "
      ]
     },
     "execution_count": 12,
     "metadata": {},
     "output_type": "execute_result"
    }
   ],
   "source": [
    "my_dict_test={\"text\":prompt_test, \"target\":target_test}\n",
    "test_df=pd.DataFrame(my_dict_test)\n",
    "test_df"
   ]
  },
  {
   "cell_type": "code",
   "execution_count": null,
   "metadata": {
    "id": "DBe6r_19v9fO"
   },
   "outputs": [],
   "source": [
    "X_train=train_df[\"text\"]\n",
    "y_train=train_df[\"target\"]\n",
    "\n",
    "X_test=test_df[\"text\"]\n",
    "y_test=test_df[\"target\"]"
   ]
  },
  {
   "cell_type": "code",
   "execution_count": null,
   "metadata": {
    "colab": {
     "base_uri": "https://localhost:8080/",
     "height": 70
    },
    "id": "rWBYqiR8CHbc",
    "outputId": "4690f3d2-f2f8-4f16-8719-cee133a97327"
   },
   "outputs": [
    {
     "data": {
      "application/vnd.google.colaboratory.intrinsic+json": {
       "type": "string"
      },
      "text/plain": [
       "\"Extract the labels delimited by XML tags from text delimited by XML tags and return them in dict type.\\n<labels>'Person': <person names and surnames>, 'Time': <word or words indicating time like this week, last month, summer, next month etc.>', 'Currency':<all currencies like USD, EURO, etc.>, 'Place':<settlement like country, city, district etc.> </labels>\""
      ]
     },
     "execution_count": 14,
     "metadata": {},
     "output_type": "execute_result"
    }
   ],
   "source": [
    "system=\"\"\"Extract the labels delimited by XML tags from text delimited by XML tags and return them in dict type.\n",
    "<labels>'Person': <person names and surnames>, 'Time': <word or words indicating time \\\n",
    "like this week, last month, summer, next month etc.>', 'Currency':<all currencies like USD, EURO, etc.>, \\\n",
    "'Place':<settlement like country, city, district etc.> </labels>\"\"\"\n",
    "system\n",
    "# commonly used delimiters:\n",
    "# triple quotes: \"\"\"\n",
    "# triple backticks: '''\n",
    "# riple dashes: ___\n",
    "# angle brackets : <>\n",
    "# curly brackets: {}\n",
    "# XML tags: <tag> </tag> ---> <text>This is sentence</text>"
   ]
  },
  {
   "cell_type": "code",
   "execution_count": null,
   "metadata": {
    "id": "Mnuvrc2FCRy3"
   },
   "outputs": [],
   "source": [
    "#system=\"\"\"Extract {labels} from text and return them in dict type.\n",
    "#labels: 'Person (name, surname)', 'Time (this week, last month, summer, next month etc.)', 'Currency (USD, EURO, etc.)', 'Place (country, city, etc.)'.\"\"\" #"
   ]
  },
  {
   "cell_type": "code",
   "execution_count": null,
   "metadata": {
    "id": "aw_wCp3irWtz"
   },
   "outputs": [],
   "source": [
    "import json\n",
    "import pandas as pd\n",
    "\n",
    "def convert_df_to_dict(X, y):\n",
    "  \"\"\"Converts X and y to dictionary format.\n",
    "\n",
    "  Args:\n",
    "    X: text\n",
    "    y: label\n",
    "\n",
    "  Returns:\n",
    "    A dataframe(as X and y) in dictionary format.\n",
    "  \"\"\"\n",
    "  #df = pd.read_csv(csv_file)\n",
    "  dict_data = []\n",
    "  for i, j in zip(X, y):\n",
    "    dict_data.append({\n",
    "        \"messages\": [\n",
    "            {\n",
    "                \"role\": \"system\",\n",
    "                \"content\": system\n",
    "            },\n",
    "            {\n",
    "                \"role\": \"user\",\n",
    "                \"content\": '<text>'+str(i)+'</text>'\n",
    "            },\n",
    "            {\n",
    "                \"role\": \"assistant\",\n",
    "                \"content\": str(j) # Dictionary formatındaki assistant content'i string'e dönüştürüyoruz.\n",
    "            }                     # Tüm contentler string'lerden oluşmalıdır, aksi takdirde Format validation bölümünde hata alırsınız.\n",
    "        ]\n",
    "    })\n",
    "\n",
    "  return dict_data"
   ]
  },
  {
   "cell_type": "code",
   "execution_count": null,
   "metadata": {
    "id": "cCsO_z3qJEqZ"
   },
   "outputs": [],
   "source": [
    "train=convert_df_to_dict(X_train, y_train)\n",
    "test=convert_df_to_dict(X_test, y_test)"
   ]
  },
  {
   "cell_type": "code",
   "execution_count": null,
   "metadata": {
    "colab": {
     "base_uri": "https://localhost:8080/"
    },
    "id": "gVwTSGxKP1u3",
    "outputId": "23bffa1f-80b7-43fd-8ba4-d5a23f1944c1"
   },
   "outputs": [
    {
     "data": {
      "text/plain": [
       "{'messages': [{'role': 'system',\n",
       "   'content': \"Extract the labels delimited by XML tags from text delimited by XML tags and return them in dict type.\\n<labels>'Person': <person names and surnames>, 'Time': <word or words indicating time like this week, last month, summer, next month etc.>', 'Currency':<all currencies like USD, EURO, etc.>, 'Place':<settlement like country, city, district etc.> </labels>\"},\n",
       "  {'role': 'user',\n",
       "   'content': '<text>After spending several months studying abroad in Spain, John Wick returned home with a newfound appreciation for the Spanish language and culture.</text>'},\n",
       "  {'role': 'assistant',\n",
       "   'content': \"{'Person': 'John Wick', 'Time': 'several months', 'Currency': 'null', 'Place': 'Spain'}\"}]}"
      ]
     },
     "execution_count": 18,
     "metadata": {},
     "output_type": "execute_result"
    }
   ],
   "source": [
    "train[0]"
   ]
  },
  {
   "cell_type": "code",
   "execution_count": null,
   "metadata": {
    "id": "vZrT07WQymOA"
   },
   "outputs": [],
   "source": [
    "import json\n",
    "\n",
    "with open(\"train.jsonl\", \"w\") as f:\n",
    "    for item in train:\n",
    "        f.write(json.dumps(item) + \"\\n\") # Python'da bir dictionary'i JSON formatına dönüştürmek için json.dumps() fonksiyonu kullanılır.\n",
    "                                         # Bu fonksiyon dictionary'i bir JSON string'e dönüştürür.\n",
    "\n",
    "# İnce ayar için modele besleyeceğimiz train ve test datası JSON line formatında olmalıdır. Bunun için dictionary formatındaki tüm gözlemleri\n",
    "# JSON line formatına dönüştürüyoruz.\n",
    "\n",
    "# JSON formatı dictionary formatının string'e dönüştürülmesidir.\n",
    "\n",
    "# dict format: {'name': 'johnson', 'age':44}\n",
    "# json format: \"{'name': 'johnson', 'age':'44'}\""
   ]
  },
  {
   "cell_type": "code",
   "execution_count": null,
   "metadata": {
    "id": "Owqgm_8XUrso"
   },
   "outputs": [],
   "source": [
    "with open(\"test.jsonl\", \"w\") as f:\n",
    "    for item in test:\n",
    "        f.write(json.dumps(item) + \"\\n\")"
   ]
  },
  {
   "cell_type": "markdown",
   "metadata": {
    "id": "ACoGWUdfy_oM"
   },
   "source": [
    "## Data preparation and analysis for chat model fine-tuning\n",
    "\n",
    "**Data loading**, **Format validation**, **Token Counting Utilities**, **Data Warnings and Token Counts**, ve **Cost Estimation** bölümleri için aşağıdaki kod blokları OpenAI tarafından hazırlanmıştır. Ve ince ayardan önce kullanılması tavsiye edilir.\n",
    "\n",
    "Bu kod blokları, bir chatgpt modeline ince ayar yapmak için kullanılan datayı önceden işlemek ve analiz etmek için bir araç görevi görür. Biçim hatalarını kontrol eder, temel istatistikler sağlar ve ince ayar maliyetini belirlemek için gerekli olan token sayılarını tahmin eder."
   ]
  },
  {
   "cell_type": "code",
   "execution_count": null,
   "metadata": {
    "id": "xRbs4Px5zD_O"
   },
   "outputs": [],
   "source": [
    "import json\n",
    "import tiktoken # for token counting\n",
    "import numpy as np\n",
    "from collections import defaultdict"
   ]
  },
  {
   "cell_type": "markdown",
   "metadata": {
    "id": "KTc7l0-8zLwz"
   },
   "source": [
    "## Data loading\n",
    "\n",
    "We first load the chat dataset from an example JSONL file."
   ]
  },
  {
   "cell_type": "code",
   "execution_count": null,
   "metadata": {
    "colab": {
     "base_uri": "https://localhost:8080/"
    },
    "id": "yt3gSCRpzOc3",
    "outputId": "8a82a98d-bc42-408b-d093-a5b5361c56e8"
   },
   "outputs": [
    {
     "name": "stdout",
     "output_type": "stream",
     "text": [
      "Num examples: 20\n",
      "First example:\n",
      "{'role': 'system', 'content': \"Extract the labels delimited by XML tags from text delimited by XML tags and return them in dict type.\\n<labels>'Person': <person names and surnames>, 'Time': <word or words indicating time like this week, last month, summer, next month etc.>', 'Currency':<all currencies like USD, EURO, etc.>, 'Place':<settlement like country, city, district etc.> </labels>\"}\n",
      "{'role': 'user', 'content': '<text>After spending several months studying abroad in Spain, John Wick returned home with a newfound appreciation for the Spanish language and culture.</text>'}\n",
      "{'role': 'assistant', 'content': \"{'Person': 'John Wick', 'Time': 'several months', 'Currency': 'null', 'Place': 'Spain'}\"}\n"
     ]
    }
   ],
   "source": [
    "data_path = \"/content/train.jsonl\" # data_path değişkeni jsonl dosyasının yolunu belirtir.\n",
    "\n",
    "# Load the dataset\n",
    "with open(data_path, 'r', encoding='utf-8') as f: # with open() dosyayı açar ve json.loads() işlevini\n",
    "                                                  # kullanarak her satırı bir dict nesnesi olarak yükler.\n",
    "\n",
    "    dataset = [json.loads(line) for line in f] # tüm dict nesnelerini dataset listesine atıyoruz.\n",
    "\n",
    "# Initial dataset stats\n",
    "print(\"Num examples:\", len(dataset))\n",
    "print(\"First example:\")\n",
    "for message in dataset[0][\"messages\"]:\n",
    "    print(message)"
   ]
  },
  {
   "cell_type": "markdown",
   "metadata": {
    "id": "Cs-LTmYAzbsg"
   },
   "source": [
    "## Format validation\n",
    "\n",
    "Veri kümesindeki her bir gözlemin ince ayar API'sinin beklediği formata uygun olduğunu doğrulamak için çeşitli hata kontrolleri gerçekleştirebiliriz. Hatalar, daha kolay hata ayıklama için niteliklerine göre kategorize edilir.\n",
    "\n",
    "1.**Data Type Check(Veri Tipi Kontrolü)**:Veri setindeki her girdinin(input) bir dict olup olmadığını kontrol eder. Error type: data_type.\n",
    "\n",
    "2.**Presence of Message List(Mesaj Listesinin Varlığı)**: Her girdi için mesaj listesinin olup olmadığını kontrol eder. Error type: missing_messages_list.\n",
    "\n",
    "3.**Message Keys Check(Mesaj Anahtarları Kontrolü)**: Mesajların içerisindeki \"role\" ve \"content\" anahtarlarının varlığını kontrol eder. Error type: message_missing_key.\n",
    "\n",
    "4.**Unrecognized Keys in Messages(Mesajlardaki Tanınmayan Anahtarlar)**: Bir mesajın \"role\", \"content\" ve role_name(system, user, assistant) dışında anahtarları olup olmadığını kontrol eder. Error type: message_unrecognized_key.\n",
    "\n",
    "5.**Role Validation(role doğrulaması)**: \"Role\"lerin \"system\", \"user\", veya \"assistant\" olduğunu teyit eder. Error type: unrecognized_role.\n",
    "\n",
    "6.**Content Validation(content doğrulaması)**: contentin string bir ifade olduğunu teyit eder. Error type: missing_content.\n",
    "\n",
    "7.**Assistant Message Presence(Asistan Mesajı Varlığı:)**: mesajın içinde assistant'a ait bir içerik olup olmadığını kontrol eder. Error type: example_missing_assistant_message.\n",
    "\n",
    "Aşağıdaki kod, bu kontrolleri gerçekleştirir ve bulunan her türlü hatanın sayısını yazdırır. Bu, hata ayıklama ve veri kümesinin bir sonraki adımlara hazır olup olmadığını kontrol etme açısından faydalıdır."
   ]
  },
  {
   "cell_type": "code",
   "execution_count": null,
   "metadata": {
    "colab": {
     "base_uri": "https://localhost:8080/"
    },
    "id": "3M3niQ78z_Se",
    "outputId": "6393ea29-3e44-4610-a36a-0bfadb11a7aa"
   },
   "outputs": [
    {
     "name": "stdout",
     "output_type": "stream",
     "text": [
      "No errors found\n"
     ]
    }
   ],
   "source": [
    "# Format error checks\n",
    "format_errors = defaultdict(int)\n",
    "\n",
    "for ex in dataset:\n",
    "    if not isinstance(ex, dict):\n",
    "        format_errors[\"data_type\"] += 1\n",
    "        continue\n",
    "\n",
    "    messages = ex.get(\"messages\", None)\n",
    "    if not messages:\n",
    "        format_errors[\"missing_messages_list\"] += 1\n",
    "        continue\n",
    "\n",
    "    for message in messages:\n",
    "        if \"role\" not in message or \"content\" not in message:\n",
    "            format_errors[\"message_missing_key\"] += 1\n",
    "\n",
    "        if any(k not in (\"role\", \"content\", \"name\") for k in message):\n",
    "            format_errors[\"message_unrecognized_key\"] += 1\n",
    "\n",
    "        if message.get(\"role\", None) not in (\"system\", \"user\", \"assistant\"):\n",
    "            format_errors[\"unrecognized_role\"] += 1\n",
    "\n",
    "        content = message.get(\"content\", None)\n",
    "        if not content or not isinstance(content, str):\n",
    "            format_errors[\"missing_content\"] += 1\n",
    "\n",
    "    if not any(message.get(\"role\", None) == \"assistant\" for message in messages):\n",
    "        format_errors[\"example_missing_assistant_message\"] += 1\n",
    "\n",
    "if format_errors:\n",
    "    print(\"Found errors:\")\n",
    "    for k, v in format_errors.items():\n",
    "        print(f\"{k}: {v}\")\n",
    "else:\n",
    "    print(\"No errors found\")\n",
    "\n",
    "# bu fonksiyon, verilerin ince ayar için hazır olup olmadığını kontrol eder. Eksik veya geçersiz veriler için hata döndürür.\n",
    "# datada problem yoksa \"Hata bulunamadı\" mesajını döndürür."
   ]
  },
  {
   "cell_type": "markdown",
   "metadata": {
    "id": "L2jSHp0y0jBx"
   },
   "source": [
    "## Token Counting Utilities\n",
    "\n",
    "Lets define a few helpful utilities to be used in the rest of the notebook."
   ]
  },
  {
   "cell_type": "code",
   "execution_count": null,
   "metadata": {
    "id": "WJNuG6gr0l-P"
   },
   "outputs": [],
   "source": [
    "encoding = tiktoken.get_encoding(\"cl100k_base\")\n",
    "\n",
    "# not exact!\n",
    "# simplified from https://github.com/openai/openai-cookbook/blob/main/examples/How_to_count_tokens_with_tiktoken.ipynb\n",
    "def num_tokens_from_messages(messages, tokens_per_message=3, tokens_per_name=1):\n",
    "    num_tokens = 0\n",
    "    for message in messages:\n",
    "        num_tokens += tokens_per_message\n",
    "        for key, value in message.items():\n",
    "            num_tokens += len(encoding.encode(value))\n",
    "            if key == \"name\":\n",
    "                num_tokens += tokens_per_name\n",
    "    num_tokens += 3\n",
    "    return num_tokens\n",
    "\n",
    "def num_assistant_tokens_from_messages(messages):\n",
    "    num_tokens = 0\n",
    "    for message in messages:\n",
    "        if message[\"role\"] == \"assistant\":\n",
    "            num_tokens += len(encoding.encode(message[\"content\"]))\n",
    "    return num_tokens\n",
    "\n",
    "def print_distribution(values, name):\n",
    "    print(f\"\\n#### Distribution of {name}:\")\n",
    "    print(f\"min / max: {min(values)}, {max(values)}\")\n",
    "    print(f\"mean / median: {np.mean(values)}, {np.median(values)}\")\n",
    "    print(f\"p5 / p95: {np.quantile(values, 0.05)}, {np.quantile(values, 0.95)}\")"
   ]
  },
  {
   "cell_type": "markdown",
   "metadata": {
    "id": "QRZOQX8E3mgY"
   },
   "source": [
    "## Data Warnings and Token Counts\n",
    "\n",
    "Aşağıdaki analizlerle, verilerdeki potansiyel sorunları, eksik mesajları belirleyebilir ve mesaj ve token sayıları hakkında istatistiksel bilgiler sağlayabiliriz.\n",
    "\n",
    "1.**Missing System/User Messages**: \"system\" veya \"user\" mesajı eksik olan gözlemleri sayar. Bu mesajlar, assistant'ın davranışını tanımlamak ve konuşmayı başlatmak için kritik öneme sahiptir.\n",
    "\n",
    "2.**Number of Messages Per Example**: Her bir gözlemdeki mesaj (system, user, assistant) sayısının dağılımını özetler ve diyalog karmaşıklığı hakkında bilgi sağlar. Her mesajın 3 ayrı bölümü olup olmadığını kontrol eder: system, user, assistant. Öyleyse, her mesajdaki parça sayısının min, max, mean, median, %5 ve %95 dilimlerdeki değeri her zaman 3 olacaktır. Aksi takdirde, bu değerler 3'ten farklı olacaktır.\n",
    "\n",
    "3.**Total Tokens Per Example**: Her gözlemdeki toplam token sayısının dağılımını hesaplar ve özetler. İnce ayar maliyetlerini anlamak için önemlidir. Bu, system, user ve assistant parçaları da dahil olmak üzere her mesajdaki toplam token sayısı ve dağılımları (mean, median, minimum, maximum, etc.) hakkında bilgi sağlar.\n",
    "\n",
    "4.**Tokens in Assistant's Messages**: her gözlemdeki assistant mesajlarındaki toekn sayısını hesaplar ve bu dağılımı özetler (mean, median, minimum, maximum, etc.). Assistant hakkında bilgi sağlar.\n",
    "\n",
    "5.**Token Limit Warnings**:  Herhangi bir gözlem maksimum toekn sınırını (65536 token) aşarsa kontrol eder, çünkü bu tür gözlemler ince ayar sırasında kırpılacak ve bu da veri kaybına neden olacaktır."
   ]
  },
  {
   "cell_type": "code",
   "execution_count": null,
   "metadata": {
    "colab": {
     "base_uri": "https://localhost:8080/"
    },
    "id": "3k4FwTMZ0pK2",
    "outputId": "4469d31d-4960-4c5e-97e6-0178e798ce47"
   },
   "outputs": [
    {
     "name": "stdout",
     "output_type": "stream",
     "text": [
      "Num examples missing system message: 0\n",
      "Num examples missing user message: 0\n",
      "\n",
      "#### Distribution of num_messages_per_example:\n",
      "min / max: 3, 3\n",
      "mean / median: 3.0, 3.0\n",
      "p5 / p95: 3.0, 3.0\n",
      "\n",
      "#### Distribution of num_total_tokens_per_example:\n",
      "min / max: 146, 164\n",
      "mean / median: 156.05, 156.5\n",
      "p5 / p95: 147.9, 164.0\n",
      "\n",
      "#### Distribution of num_assistant_tokens_per_example:\n",
      "min / max: 24, 29\n",
      "mean / median: 25.6, 24.5\n",
      "p5 / p95: 24.0, 29.0\n",
      "\n",
      "0 examples may be over the 4096 token limit, they will be truncated during fine-tuning\n"
     ]
    }
   ],
   "source": [
    "# Warnings and tokens counts\n",
    "n_missing_system = 0\n",
    "n_missing_user = 0\n",
    "n_messages = []\n",
    "convo_lens = []\n",
    "assistant_message_lens = []\n",
    "\n",
    "for ex in dataset:\n",
    "    messages = ex[\"messages\"]\n",
    "    if not any(message[\"role\"] == \"system\" for message in messages):\n",
    "        n_missing_system += 1\n",
    "    if not any(message[\"role\"] == \"user\" for message in messages):\n",
    "        n_missing_user += 1\n",
    "    n_messages.append(len(messages))\n",
    "    convo_lens.append(num_tokens_from_messages(messages))\n",
    "    assistant_message_lens.append(num_assistant_tokens_from_messages(messages))\n",
    "\n",
    "print(\"Num examples missing system message:\", n_missing_system)\n",
    "print(\"Num examples missing user message:\", n_missing_user)\n",
    "print_distribution(n_messages, \"num_messages_per_example\")\n",
    "print_distribution(convo_lens, \"num_total_tokens_per_example\")\n",
    "print_distribution(assistant_message_lens, \"num_assistant_tokens_per_example\")\n",
    "n_too_long = sum(l > 65536 for l in convo_lens) #gpt-3.5 için 16385\n",
    "print(f\"\\n{n_too_long} examples may be over the 4096 token limit, they will be truncated during fine-tuning\")"
   ]
  },
  {
   "cell_type": "code",
   "execution_count": null,
   "metadata": {
    "id": "mD1LCr2x0u3-"
   },
   "outputs": [],
   "source": []
  },
  {
   "cell_type": "markdown",
   "metadata": {
    "id": "YbOEAqJK3-fI"
   },
   "source": [
    "## Cost Estimation\n",
    "\n",
    "Bu son bölümde, ince ayar için kullanılacak toplam token sayısını tahmin ediyoruz, bu da maliyeti yaklaşık olarak tahmin etmemizi sağlıyor. Token sayısı arttıkça ince ayar işlemlerinin süresinin de artacağını belirtmekte fayda var."
   ]
  },
  {
   "cell_type": "code",
   "execution_count": null,
   "metadata": {
    "colab": {
     "base_uri": "https://localhost:8080/"
    },
    "id": "4IdZITlY4Abs",
    "outputId": "aa6df427-57e7-4786-f74f-d239c8553070"
   },
   "outputs": [
    {
     "name": "stdout",
     "output_type": "stream",
     "text": [
      "Dataset has ~3121 tokens that will be charged for during training\n",
      "By default, you'll train for 5 epochs on this dataset\n",
      "By default, you'll be charged for ~15605 tokens\n",
      "Estimate total costs ~0.046815\n"
     ]
    }
   ],
   "source": [
    "# Pricing and default n_epochs estimate\n",
    "MAX_TOKENS_PER_EXAMPLE = 65536\n",
    "\n",
    "TARGET_EPOCHS = 3\n",
    "MIN_TARGET_EXAMPLES = 100\n",
    "MAX_TARGET_EXAMPLES = 25000\n",
    "MIN_DEFAULT_EPOCHS = 1\n",
    "MAX_DEFAULT_EPOCHS = 25\n",
    "\n",
    "n_epochs = TARGET_EPOCHS\n",
    "n_train_examples = len(dataset)\n",
    "if n_train_examples * TARGET_EPOCHS < MIN_TARGET_EXAMPLES:\n",
    "    n_epochs = min(MAX_DEFAULT_EPOCHS, MIN_TARGET_EXAMPLES // n_train_examples)\n",
    "elif n_train_examples * TARGET_EPOCHS > MAX_TARGET_EXAMPLES:\n",
    "    n_epochs = max(MIN_DEFAULT_EPOCHS, MAX_TARGET_EXAMPLES // n_train_examples)\n",
    "\n",
    "n_billing_tokens_in_dataset = sum(min(MAX_TOKENS_PER_EXAMPLE, length) for length in convo_lens)\n",
    "print(f\"Dataset has ~{n_billing_tokens_in_dataset} tokens that will be charged for during training\")\n",
    "print(f\"By default, you'll train for {n_epochs} epochs on this dataset\")\n",
    "print(f\"By default, you'll be charged for ~{n_epochs * n_billing_tokens_in_dataset} tokens\")\n",
    "\n",
    "current_price=3 # bir milyon token başına fiyat, lütfen güncel fiyat için openai web sayfasını kontrol edin.\n",
    "print(f\"Estimate total costs ~{(n_epochs * n_billing_tokens_in_dataset)/1000000 * current_price}\")\n",
    "\n",
    "# İnce ayar için modele en az 10 gözlem verilmelidir. Aksi takdirde model hata döndürecektir. Ancak ince ayar için modele minimum 100, maksimum 25000\n",
    "# gözlem verilmesi tavsiye edilir.\n",
    "\n",
    "# GPT modelleri, ince ayar için varsayılan olarak 3 epoch ile çalışır. Ancak bu kod, verilerinizdeki gözlem sayısına göre minimum 1'den maksimum 25'e\n",
    "# kadar kaç epoch eğitim yapmanız gerektiğini size önerir.\n",
    "\n",
    "# Tüm eğitim boyunca işlenecek token sayısını ve bu token sayısına göre ince ayar maliyetini döndürür.\n",
    "\n",
    "# NOT: Bu bölüm yalnızca eğitim verilerine uygulanacaktır."
   ]
  },
  {
   "cell_type": "code",
   "execution_count": null,
   "metadata": {
    "colab": {
     "base_uri": "https://localhost:8080/"
    },
    "id": "xqyOWQZQ4H2u",
    "outputId": "207be469-4348-437d-f6fb-1d0973517b51"
   },
   "outputs": [
    {
     "name": "stdout",
     "output_type": "stream",
     "text": [
      "Training file id: file-uyhpnihtjozF9JK0y34ZQUK1\n",
      "Validation file id: file-Z1RarPDddirYwvf3B5v7ffCC\n"
     ]
    }
   ],
   "source": [
    "training_response = client.files.create(\n",
    "                                        file=open(\"/content/train.jsonl\", \"rb\"),\n",
    "                                        purpose=\"fine-tune\") # Train datasını ince ayar için hazırlıyoruz.\n",
    "\n",
    "training_file_id = training_response.id # Hazır olan train datası için oluşturulan ID’yi çekiyoruz.\n",
    "\n",
    "\n",
    "validation_response = client.files.create(\n",
    "                                        file=open(\"/content/test.jsonl\", \"rb\"),\n",
    "                                        purpose=\"fine-tune\") # Test datasını ince ayar için hazırlıyoruz.\n",
    "\n",
    "validation_file_id = validation_response.id\n",
    "\n",
    "print(\"Training file id:\", training_file_id)\n",
    "print(\"Validation file id:\", validation_file_id)"
   ]
  },
  {
   "cell_type": "code",
   "execution_count": null,
   "metadata": {
    "colab": {
     "base_uri": "https://localhost:8080/"
    },
    "id": "F702yNIP4bVH",
    "outputId": "3f35081c-1e24-4d14-bd7e-cf7da429631c"
   },
   "outputs": [
    {
     "name": "stdout",
     "output_type": "stream",
     "text": [
      "FineTuningJob(id='ftjob-aCzu49O9poTR2wJBdRNUZjsg', created_at=1723361413, error=Error(code=None, message=None, param=None), fine_tuned_model=None, finished_at=None, hyperparameters=Hyperparameters(n_epochs=5, batch_size='auto', learning_rate_multiplier='auto'), model='gpt-4o-mini-2024-07-18', object='fine_tuning.job', organization_id='org-b88r78OSLP9wnPnDMsswFKhJ', result_files=[], seed=998221641, status='validating_files', trained_tokens=None, training_file='file-uyhpnihtjozF9JK0y34ZQUK1', validation_file='file-Z1RarPDddirYwvf3B5v7ffCC', estimated_finish=None, integrations=[], user_provided_suffix='ner 4')\n"
     ]
    }
   ],
   "source": [
    "suffix_name = \"ner 4\"\n",
    "\n",
    "response = client.fine_tuning.jobs.create(\n",
    "    training_file=training_file_id, # Train datasının ID'si ince ayar modeline veriliyor. Train datasının ID'si mutlaka sağlanmalıdır\n",
    "    validation_file=validation_file_id, #Validation datsının ID'si ince ayar modeline veriliyor. Bu kimliği sağlamak isteğe bağlıdır\n",
    "    model=\"gpt-4o-mini-2024-07-18\", # \"gpt-3.5-turbo\"\n",
    "    suffix=suffix_name, # İnce ayar yapılan modelin ismine kendi seçeceğimiz bir ek ekleyebiliyoruz ancak modelin ismini tam olarak belirleyemiyoruz.\n",
    "    hyperparameters={\"n_epochs\":5}, # Yalnızca Epoch, batch size parametresini ayarlamamıza izin veriliyor. Diğer parametreleri düzenlememize izin verilmiyor.\n",
    "                                    # Önerilen epoch sayısı 3 olduğundan epoch'u 3 olarak ayarladık.\n",
    ")\n",
    "\n",
    "job_id = response.id # The ID of fine-tune model.\n",
    "\n",
    "print(response)"
   ]
  },
  {
   "cell_type": "code",
   "execution_count": null,
   "metadata": {
    "colab": {
     "base_uri": "https://localhost:8080/",
     "height": 35
    },
    "id": "xQeg6ubbXE5o",
    "outputId": "fab84985-fe37-4598-f81d-b14270129f91"
   },
   "outputs": [
    {
     "data": {
      "application/vnd.google.colaboratory.intrinsic+json": {
       "type": "string"
      },
      "text/plain": [
       "'ftjob-aCzu49O9poTR2wJBdRNUZjsg'"
      ]
     },
     "execution_count": 39,
     "metadata": {},
     "output_type": "execute_result"
    }
   ],
   "source": [
    "job_id=client.fine_tuning.jobs.list().data[0].id\n",
    "job_id"
   ]
  },
  {
   "cell_type": "code",
   "execution_count": null,
   "metadata": {
    "colab": {
     "base_uri": "https://localhost:8080/",
     "height": 35
    },
    "id": "9ZZte7beSdkh",
    "outputId": "5ecaaf28-3555-49cf-dc80-6728465c9876"
   },
   "outputs": [
    {
     "data": {
      "application/vnd.google.colaboratory.intrinsic+json": {
       "type": "string"
      },
      "text/plain": [
       "'ftjob-aCzu49O9poTR2wJBdRNUZjsg'"
      ]
     },
     "execution_count": 40,
     "metadata": {},
     "output_type": "execute_result"
    }
   ],
   "source": [
    "job_id"
   ]
  },
  {
   "cell_type": "code",
   "execution_count": null,
   "metadata": {
    "colab": {
     "base_uri": "https://localhost:8080/"
    },
    "id": "3NsEywLJ4ref",
    "outputId": "97fe9937-049a-42b6-8828-ba2a1f880571"
   },
   "outputs": [
    {
     "data": {
      "text/plain": [
       "FineTuningJob(id='ftjob-aCzu49O9poTR2wJBdRNUZjsg', created_at=1723361413, error=Error(code=None, message=None, param=None), fine_tuned_model=None, finished_at=None, hyperparameters=Hyperparameters(n_epochs=5, batch_size='auto', learning_rate_multiplier='auto'), model='gpt-4o-mini-2024-07-18', object='fine_tuning.job', organization_id='org-b88r78OSLP9wnPnDMsswFKhJ', result_files=[], seed=998221641, status='validating_files', trained_tokens=None, training_file='file-uyhpnihtjozF9JK0y34ZQUK1', validation_file='file-Z1RarPDddirYwvf3B5v7ffCC', estimated_finish=None, integrations=[], user_provided_suffix='ner 4')"
      ]
     },
     "execution_count": 30,
     "metadata": {},
     "output_type": "execute_result"
    }
   ],
   "source": [
    "#client.fine_tuning.jobs.retrieve(job_id) # İnce ayar hakkında genel bilgiler alıyoruz."
   ]
  },
  {
   "cell_type": "code",
   "execution_count": null,
   "metadata": {
    "colab": {
     "base_uri": "https://localhost:8080/"
    },
    "id": "7vIExkSOWPre",
    "outputId": "2ba5ab84-23dd-48ec-d08e-333fdfe9290f"
   },
   "outputs": [
    {
     "data": {
      "text/plain": [
       "FineTuningJob(id='ftjob-aCzu49O9poTR2wJBdRNUZjsg', created_at=1723361413, error=Error(code=None, message=None, param=None), fine_tuned_model=None, finished_at=None, hyperparameters=Hyperparameters(n_epochs=5, batch_size=1, learning_rate_multiplier=1.8), model='gpt-4o-mini-2024-07-18', object='fine_tuning.job', organization_id='org-b88r78OSLP9wnPnDMsswFKhJ', result_files=[], seed=998221641, status='running', trained_tokens=None, training_file='file-uyhpnihtjozF9JK0y34ZQUK1', validation_file='file-Z1RarPDddirYwvf3B5v7ffCC', estimated_finish=None, integrations=[], user_provided_suffix='ner 4')"
      ]
     },
     "execution_count": 31,
     "metadata": {},
     "output_type": "execute_result"
    }
   ],
   "source": [
    "#client.fine_tuning.jobs.retrieve(job_id)"
   ]
  },
  {
   "cell_type": "code",
   "execution_count": null,
   "metadata": {
    "colab": {
     "base_uri": "https://localhost:8080/"
    },
    "id": "yqSllWWzTuPI",
    "outputId": "6d695463-045b-4641-984c-53943a606332"
   },
   "outputs": [
    {
     "data": {
      "text/plain": [
       "FineTuningJob(id='ftjob-aCzu49O9poTR2wJBdRNUZjsg', created_at=1723361413, error=Error(code=None, message=None, param=None), fine_tuned_model='ft:gpt-4o-mini-2024-07-18:personal:ner-4:9uxSYzGm', finished_at=1723361956, hyperparameters=Hyperparameters(n_epochs=5, batch_size=1, learning_rate_multiplier=1.8), model='gpt-4o-mini-2024-07-18', object='fine_tuning.job', organization_id='org-b88r78OSLP9wnPnDMsswFKhJ', result_files=['file-lxucRnZDvrP7NBhFt39M9qkK'], seed=998221641, status='succeeded', trained_tokens=15465, training_file='file-uyhpnihtjozF9JK0y34ZQUK1', validation_file='file-Z1RarPDddirYwvf3B5v7ffCC', estimated_finish=None, integrations=[], user_provided_suffix='ner 4')"
      ]
     },
     "execution_count": 41,
     "metadata": {},
     "output_type": "execute_result"
    }
   ],
   "source": [
    "client.fine_tuning.jobs.retrieve(job_id)"
   ]
  },
  {
   "cell_type": "code",
   "execution_count": null,
   "metadata": {
    "colab": {
     "base_uri": "https://localhost:8080/"
    },
    "id": "YSL-R7PZ4u39",
    "outputId": "4657c30a-1ea4-488a-94d2-01ef57a7d40c"
   },
   "outputs": [
    {
     "data": {
      "text/plain": [
       "SyncCursorPage[FineTuningJobEvent](data=[FineTuningJobEvent(id='ftevent-eRB1CQoSLWz9aRFj7yHav69s', created_at=1723361966, level='info', message='The job has successfully completed', object='fine_tuning.job.event', data={}, type='message'), FineTuningJobEvent(id='ftevent-Q28kYeQDo5NFfAQjjmHxMBMw', created_at=1723361959, level='info', message='New fine-tuned model created: ft:gpt-4o-mini-2024-07-18:personal:ner-4:9uxSYzGm', object='fine_tuning.job.event', data={}, type='message'), FineTuningJobEvent(id='ftevent-mZx1F2DYMlKE1oZximftuqdA', created_at=1723361959, level='info', message='Checkpoint created at step 80 with Snapshot ID: ft:gpt-4o-mini-2024-07-18:personal:ner-4:9uxSYMyw:ckpt-step-80', object='fine_tuning.job.event', data={}, type='message'), FineTuningJobEvent(id='ftevent-z2qTxNM2urwfEUQYtBqusODk', created_at=1723361959, level='info', message='Checkpoint created at step 60 with Snapshot ID: ft:gpt-4o-mini-2024-07-18:personal:ner-4:9uxSY9yn:ckpt-step-60', object='fine_tuning.job.event', data={}, type='message'), FineTuningJobEvent(id='ftevent-P007mgfxwDuvQw03viftWsqY', created_at=1723361939, level='info', message='Step 100/100: training loss=0.00, validation loss=0.00, full validation loss=0.00', object='fine_tuning.job.event', data={'step': 100, 'train_loss': 3.007742179761408e-06, 'valid_loss': 3.6027696397569444e-06, 'total_steps': 100, 'full_valid_loss': 6.907733518685867e-05, 'train_mean_token_accuracy': 1.0, 'valid_mean_token_accuracy': 1.0, 'full_valid_mean_token_accuracy': 1.0}, type='metrics'), FineTuningJobEvent(id='ftevent-qnZBlO1H1YkYfVpwrIPg2yJ9', created_at=1723361902, level='info', message='Step 99/100: training loss=0.00, validation loss=0.00', object='fine_tuning.job.event', data={'step': 99, 'train_loss': 5.086263172415784e-06, 'valid_loss': 1.743861607142857e-05, 'total_steps': 100, 'train_mean_token_accuracy': 1.0, 'valid_mean_token_accuracy': 1.0}, type='metrics'), FineTuningJobEvent(id='ftevent-XIrJ5kvMKf9X9NpyRDGS6Icv', created_at=1723361899, level='info', message='Step 98/100: training loss=0.00, validation loss=0.00', object='fine_tuning.job.event', data={'step': 98, 'train_loss': 4.401573733048281e-06, 'valid_loss': 0.00019829361527054398, 'total_steps': 100, 'train_mean_token_accuracy': 1.0, 'valid_mean_token_accuracy': 1.0}, type='metrics'), FineTuningJobEvent(id='ftevent-anBs115qSESyJui1xzHLwj2j', created_at=1723361899, level='info', message='Step 97/100: training loss=0.00, validation loss=0.00', object='fine_tuning.job.event', data={'step': 97, 'train_loss': 3.3745398013707018e-06, 'valid_loss': 3.814697265625e-06, 'total_steps': 100, 'train_mean_token_accuracy': 1.0, 'valid_mean_token_accuracy': 1.0}, type='metrics'), FineTuningJobEvent(id='ftevent-m8TH919FuDWQbXC7weDMdYkV', created_at=1723361895, level='info', message='Step 96/100: training loss=0.00, validation loss=0.00', object='fine_tuning.job.event', data={'step': 96, 'train_loss': 3.4478994166420307e-06, 'valid_loss': 1.137073223407452e-05, 'total_steps': 100, 'train_mean_token_accuracy': 1.0, 'valid_mean_token_accuracy': 1.0}, type='metrics'), FineTuningJobEvent(id='ftevent-JFyhtWV2PGaUSChVogWKafkN', created_at=1723361895, level='info', message='Step 95/100: training loss=0.00, validation loss=0.00', object='fine_tuning.job.event', data={'step': 95, 'train_loss': 2.054067863355158e-06, 'valid_loss': 3.3908420138888887e-06, 'total_steps': 100, 'train_mean_token_accuracy': 1.0, 'valid_mean_token_accuracy': 1.0}, type='metrics')], object='list', has_more=True)"
      ]
     },
     "execution_count": 42,
     "metadata": {},
     "output_type": "execute_result"
    }
   ],
   "source": [
    "client.fine_tuning.jobs.list_events(fine_tuning_job_id=job_id, limit=10) # Son 10 adımdaki ince ayar işleminin olaylarını görüntüler."
   ]
  },
  {
   "cell_type": "code",
   "execution_count": null,
   "metadata": {
    "colab": {
     "base_uri": "https://localhost:8080/"
    },
    "id": "GrHbhby25Rve",
    "outputId": "2dffa656-0709-4b44-956a-25de4beb9647"
   },
   "outputs": [
    {
     "name": "stdout",
     "output_type": "stream",
     "text": [
      "Step 5/100: training loss=0.73, validation loss=0.54\n",
      "Step 6/100: training loss=0.57, validation loss=1.61\n",
      "Step 7/100: training loss=0.67, validation loss=0.59\n",
      "Step 8/100: training loss=0.61, validation loss=0.39\n",
      "Step 9/100: training loss=0.34, validation loss=0.11\n",
      "Step 10/100: training loss=0.63, validation loss=0.17\n",
      "Step 11/100: training loss=0.22, validation loss=0.19\n",
      "Step 12/100: training loss=0.61, validation loss=0.06\n",
      "Step 13/100: training loss=0.08, validation loss=0.06\n",
      "Step 14/100: training loss=0.03, validation loss=0.15\n",
      "Step 15/100: training loss=0.42, validation loss=0.10\n",
      "Step 16/100: training loss=0.10, validation loss=0.06\n",
      "Step 17/100: training loss=0.03, validation loss=0.01\n",
      "Step 18/100: training loss=0.10, validation loss=0.05\n",
      "Step 19/100: training loss=0.01, validation loss=0.07\n",
      "Step 20/100: training loss=0.17, validation loss=0.03, full validation loss=0.01\n",
      "Step 21/100: training loss=0.01, validation loss=0.00\n",
      "Step 22/100: training loss=0.00, validation loss=0.01\n",
      "Step 23/100: training loss=0.01, validation loss=0.02\n",
      "Step 24/100: training loss=0.05, validation loss=0.02\n",
      "Step 25/100: training loss=0.04, validation loss=0.01\n",
      "Step 26/100: training loss=0.00, validation loss=0.00\n",
      "Step 27/100: training loss=0.31, validation loss=0.00\n",
      "Step 28/100: training loss=0.21, validation loss=0.01\n",
      "Step 29/100: training loss=0.02, validation loss=0.03\n",
      "Step 30/100: training loss=0.07, validation loss=0.00\n",
      "Step 31/100: training loss=0.25, validation loss=0.00\n",
      "Step 32/100: training loss=0.00, validation loss=0.00\n",
      "Step 33/100: training loss=0.00, validation loss=0.03\n",
      "Step 34/100: training loss=0.03, validation loss=0.01\n",
      "Step 35/100: training loss=0.00, validation loss=0.00\n",
      "Step 36/100: training loss=0.00, validation loss=0.00\n",
      "Step 37/100: training loss=0.00, validation loss=0.00\n",
      "Step 38/100: training loss=0.00, validation loss=0.00\n",
      "Step 39/100: training loss=0.00, validation loss=0.00\n",
      "Step 40/100: training loss=0.00, validation loss=0.00, full validation loss=0.00\n",
      "Step 41/100: training loss=0.00, validation loss=0.00\n",
      "Step 42/100: training loss=0.00, validation loss=0.00\n",
      "Step 43/100: training loss=0.08, validation loss=0.00\n",
      "Step 44/100: training loss=0.00, validation loss=0.00\n",
      "Step 45/100: training loss=0.00, validation loss=0.00\n",
      "Step 46/100: training loss=0.00, validation loss=0.00\n",
      "Step 47/100: training loss=0.02, validation loss=0.00\n",
      "Step 48/100: training loss=0.03, validation loss=0.00\n",
      "Step 49/100: training loss=0.00, validation loss=0.00\n",
      "Step 50/100: training loss=0.00, validation loss=0.00\n",
      "Step 51/100: training loss=0.02, validation loss=0.00\n",
      "Step 52/100: training loss=0.00, validation loss=0.00\n",
      "Step 53/100: training loss=0.00, validation loss=0.00\n",
      "Step 54/100: training loss=0.00, validation loss=0.00\n",
      "Step 55/100: training loss=0.00, validation loss=0.00\n",
      "Step 56/100: training loss=0.00, validation loss=0.00\n",
      "Step 57/100: training loss=0.00, validation loss=0.00\n",
      "Step 58/100: training loss=0.00, validation loss=0.00\n",
      "Step 59/100: training loss=0.00, validation loss=0.00\n",
      "Step 60/100: training loss=0.00, validation loss=0.00, full validation loss=0.00\n",
      "Step 61/100: training loss=0.00, validation loss=0.00\n",
      "Step 62/100: training loss=0.00, validation loss=0.00\n",
      "Step 63/100: training loss=0.00, validation loss=0.00\n",
      "Step 64/100: training loss=0.00, validation loss=0.00\n",
      "Step 65/100: training loss=0.00, validation loss=0.00\n",
      "Step 66/100: training loss=0.00, validation loss=0.00\n",
      "Step 67/100: training loss=0.00, validation loss=0.00\n",
      "Step 68/100: training loss=0.00, validation loss=0.00\n",
      "Step 69/100: training loss=0.00, validation loss=0.00\n",
      "Step 70/100: training loss=0.00, validation loss=0.00\n",
      "Step 71/100: training loss=0.00, validation loss=0.00\n",
      "Step 72/100: training loss=0.00, validation loss=0.00\n",
      "Step 73/100: training loss=0.00, validation loss=0.00\n",
      "Step 74/100: training loss=0.00, validation loss=0.00\n",
      "Step 75/100: training loss=0.00, validation loss=0.00\n",
      "Step 76/100: training loss=0.00, validation loss=0.00\n",
      "Step 77/100: training loss=0.00, validation loss=0.00\n",
      "Step 78/100: training loss=0.00, validation loss=0.00\n",
      "Step 79/100: training loss=0.00, validation loss=0.00\n",
      "Step 80/100: training loss=0.00, validation loss=0.00, full validation loss=0.00\n",
      "Step 81/100: training loss=0.00, validation loss=0.00\n",
      "Step 82/100: training loss=0.00, validation loss=0.00\n",
      "Step 83/100: training loss=0.00, validation loss=0.00\n",
      "Step 84/100: training loss=0.00, validation loss=0.00\n",
      "Step 85/100: training loss=0.00, validation loss=0.00\n",
      "Step 86/100: training loss=0.00, validation loss=0.00\n",
      "Step 87/100: training loss=0.00, validation loss=0.00\n",
      "Step 88/100: training loss=0.00, validation loss=0.00\n",
      "Step 89/100: training loss=0.00, validation loss=0.00\n",
      "Step 90/100: training loss=0.00, validation loss=0.00\n",
      "Step 91/100: training loss=0.00, validation loss=0.00\n",
      "Step 92/100: training loss=0.00, validation loss=0.00\n",
      "Step 93/100: training loss=0.00, validation loss=0.00\n",
      "Step 94/100: training loss=0.00, validation loss=0.00\n",
      "Step 95/100: training loss=0.00, validation loss=0.00\n",
      "Step 96/100: training loss=0.00, validation loss=0.00\n",
      "Step 97/100: training loss=0.00, validation loss=0.00\n",
      "Step 98/100: training loss=0.00, validation loss=0.00\n",
      "Step 99/100: training loss=0.00, validation loss=0.00\n",
      "Step 100/100: training loss=0.00, validation loss=0.00, full validation loss=0.00\n",
      "Checkpoint created at step 60 with Snapshot ID: ft:gpt-4o-mini-2024-07-18:personal:ner-4:9uxSY9yn:ckpt-step-60\n",
      "Checkpoint created at step 80 with Snapshot ID: ft:gpt-4o-mini-2024-07-18:personal:ner-4:9uxSYMyw:ckpt-step-80\n",
      "New fine-tuned model created: ft:gpt-4o-mini-2024-07-18:personal:ner-4:9uxSYzGm\n",
      "The job has successfully completed\n"
     ]
    }
   ],
   "source": [
    "response= client.fine_tuning.jobs.list_events(fine_tuning_job_id=job_id, limit=100)\n",
    "\n",
    "events=response.data\n",
    "\n",
    "events.reverse() # İnce ayar işleminin ilk adımları başlangıçta olacak şekilde, rever() fonksiyonunu kullanarak\n",
    "                 # ince ayar adımlarının sırasını tersine çeviriyoruz.\n",
    "\n",
    "for event in events:\n",
    "  print(event.message)\n",
    "\n",
    "# Her adım için training loss skorlarını alıyoruz."
   ]
  },
  {
   "cell_type": "code",
   "execution_count": null,
   "metadata": {
    "colab": {
     "base_uri": "https://localhost:8080/"
    },
    "id": "bAfZutEWVkwH",
    "outputId": "f8f238c8-1f1a-4f7f-83bb-c7e3fe2c6e49"
   },
   "outputs": [
    {
     "data": {
      "text/plain": [
       "FineTuningJob(id='ftjob-nKraJjw1ggsXvBT8TNkrSoZw', created_at=1713810376, error=Error(code=None, message=None, param=None, error=None), fine_tuned_model=None, finished_at=None, hyperparameters=Hyperparameters(n_epochs=5, batch_size=1, learning_rate_multiplier=2), model='gpt-3.5-turbo-1106', object='fine_tuning.job', organization_id='org-b88r78OSLP9wnPnDMsswFKhJ', result_files=[], seed=483893693, status='cancelled', trained_tokens=None, training_file='file-QETofvgMzM3vaF3XZ7HywbLP', validation_file=None, integrations=[], user_provided_suffix='NER')"
      ]
     },
     "execution_count": 29,
     "metadata": {},
     "output_type": "execute_result"
    }
   ],
   "source": [
    "#client.fine_tuning.jobs.cancel(job_id)\n",
    "\n",
    "# You can cancel the fine-tuning process you have started with this code. However, the fine-tuning process will start in 5-10 minutes,\n",
    "# so you need to cancel it before that. If you don't, you won't be able to cancel it."
   ]
  },
  {
   "cell_type": "code",
   "execution_count": null,
   "metadata": {
    "colab": {
     "base_uri": "https://localhost:8080/"
    },
    "id": "1_wMCIvTZjrM",
    "outputId": "916419e1-b6dd-4d12-f6da-03950181d9be"
   },
   "outputs": [
    {
     "data": {
      "text/plain": [
       "0.9323938199059483"
      ]
     },
     "execution_count": 45,
     "metadata": {},
     "output_type": "execute_result"
    }
   ],
   "source": [
    "import numpy as np\n",
    "np.exp(-0.07)"
   ]
  },
  {
   "cell_type": "code",
   "execution_count": null,
   "metadata": {
    "colab": {
     "base_uri": "https://localhost:8080/"
    },
    "id": "uh9zhCjhZmqT",
    "outputId": "c30e95ed-0460-443e-bf27-59903a968a74"
   },
   "outputs": [
    {
     "data": {
      "text/plain": [
       "-0.06999999999999995"
      ]
     },
     "execution_count": 46,
     "metadata": {},
     "output_type": "execute_result"
    }
   ],
   "source": [
    "np.log(0.9323938199059483)"
   ]
  },
  {
   "cell_type": "markdown",
   "metadata": {
    "id": "_jgiLQPuV1JC"
   },
   "source": [
    "## Prediction"
   ]
  },
  {
   "cell_type": "code",
   "execution_count": null,
   "metadata": {
    "colab": {
     "base_uri": "https://localhost:8080/"
    },
    "id": "Aq8jJwcKV6qd",
    "outputId": "bb07beac-73e2-4e1d-c0be-c5853f48f0f2"
   },
   "outputs": [
    {
     "data": {
      "text/plain": [
       "FineTuningJob(id='ftjob-aCzu49O9poTR2wJBdRNUZjsg', created_at=1723361413, error=Error(code=None, message=None, param=None), fine_tuned_model='ft:gpt-4o-mini-2024-07-18:personal:ner-4:9uxSYzGm', finished_at=1723361956, hyperparameters=Hyperparameters(n_epochs=5, batch_size=1, learning_rate_multiplier=1.8), model='gpt-4o-mini-2024-07-18', object='fine_tuning.job', organization_id='org-b88r78OSLP9wnPnDMsswFKhJ', result_files=['file-lxucRnZDvrP7NBhFt39M9qkK'], seed=998221641, status='succeeded', trained_tokens=15465, training_file='file-uyhpnihtjozF9JK0y34ZQUK1', validation_file='file-Z1RarPDddirYwvf3B5v7ffCC', estimated_finish=None, integrations=[], user_provided_suffix='ner 4')"
      ]
     },
     "execution_count": 47,
     "metadata": {},
     "output_type": "execute_result"
    }
   ],
   "source": [
    "client.fine_tuning.jobs.retrieve(job_id) # İnce ayar hakkında genel bilgiler alıyoruz öncelikle. burdan fine-tune model ismini çekeceğiz"
   ]
  },
  {
   "cell_type": "code",
   "execution_count": null,
   "metadata": {
    "colab": {
     "base_uri": "https://localhost:8080/",
     "height": 35
    },
    "id": "KuSeT27fp6fu",
    "outputId": "887f9582-4eee-4d1d-993f-9724f41dae28"
   },
   "outputs": [
    {
     "data": {
      "application/vnd.google.colaboratory.intrinsic+json": {
       "type": "string"
      },
      "text/plain": [
       "'ft:gpt-4o-mini-2024-07-18:personal:ner-4:9uxSYzGm'"
      ]
     },
     "execution_count": 48,
     "metadata": {},
     "output_type": "execute_result"
    }
   ],
   "source": [
    "model_name= client.fine_tuning.jobs.retrieve(job_id).fine_tuned_model # model ismini çekiyoruz.\n",
    "model_name"
   ]
  },
  {
   "cell_type": "code",
   "execution_count": null,
   "metadata": {
    "colab": {
     "base_uri": "https://localhost:8080/",
     "height": 70
    },
    "id": "vw0ISTRpnImW",
    "outputId": "30cbca90-8b08-4a53-a5e9-a87f47877ab0"
   },
   "outputs": [
    {
     "data": {
      "application/vnd.google.colaboratory.intrinsic+json": {
       "type": "string"
      },
      "text/plain": [
       "\"Extract the labels delimited by XML tags from text delimited by XML tags and return them in dict type.\\n<labels>'Person': <person names and surnames>, 'Time': <word or words indicating time like this week, last month, summer, next month etc.>', 'Currency':<all currencies like USD, EURO, etc.>, 'Place':<settlement like country, city, district etc.> </labels>\""
      ]
     },
     "execution_count": 49,
     "metadata": {},
     "output_type": "execute_result"
    }
   ],
   "source": [
    "system"
   ]
  },
  {
   "cell_type": "code",
   "execution_count": null,
   "metadata": {
    "colab": {
     "base_uri": "https://localhost:8080/"
    },
    "id": "0P4VHMw78kN1",
    "outputId": "720b906b-8d79-4a32-c82e-862d3e4bb845"
   },
   "outputs": [
    {
     "name": "stdout",
     "output_type": "stream",
     "text": [
      "{'Person': 'null', 'Time': 'null', 'Currency': 'null', 'Place': 'null'}\n"
     ]
    }
   ],
   "source": [
    "user=\"My grandmother was a talented seamstress, and she taught me how to sew when I was young, which sparked a lifelong passion for fashion and design.\"\n",
    "completion = client.chat.completions.create(\n",
    "  model=model_name,\n",
    "  messages=[\n",
    "    {\"role\": \"system\", \"content\": system},\n",
    "    {\"role\": \"user\", \"content\": '<text>'+user+'</text>' }\n",
    "  ],\n",
    "  temperature=0.0,\n",
    "  top_p=1.0\n",
    ")\n",
    "\n",
    "print(completion.choices[0].message.content)"
   ]
  },
  {
   "cell_type": "code",
   "execution_count": null,
   "metadata": {
    "colab": {
     "base_uri": "https://localhost:8080/"
    },
    "id": "gEH9Asxy-BW3",
    "outputId": "29f722af-e850-41b5-9026-17747caa74e2"
   },
   "outputs": [
    {
     "name": "stdout",
     "output_type": "stream",
     "text": [
      "{'Person': 'Joseph', 'Time': 'summer vacation', 'Currency': ['dollars', 'euros'], 'Place': ['Turkey', 'Germany']}\n"
     ]
    }
   ],
   "source": [
    "user=\"While I was on summer vacation, Joseph earned 100 dollars and 100 euros in Turkey and he returned to Germany\"\n",
    "completion = client.chat.completions.create(\n",
    "  model=model_name,\n",
    "  messages=[\n",
    "    {\"role\": \"system\", \"content\": system},\n",
    "    {\"role\": \"user\", \"content\": '<text>'+user+'</text>'}\n",
    "  ],\n",
    "  temperature=1.0,\n",
    "  top_p=1.0\n",
    ")\n",
    "\n",
    "print(completion.choices[0].message.content)"
   ]
  },
  {
   "cell_type": "code",
   "execution_count": null,
   "metadata": {
    "colab": {
     "base_uri": "https://localhost:8080/"
    },
    "id": "CXCUPZMk-Wo9",
    "outputId": "2a6aadaf-f854-4707-e0a4-62721ebdda26"
   },
   "outputs": [
    {
     "name": "stdout",
     "output_type": "stream",
     "text": [
      "{'Person': ['Johnson Walker', 'Maria'], 'Time': 'last month', 'Currency': 'sterling pounds', 'Place': 'London'}\n"
     ]
    }
   ],
   "source": [
    "user=\"Johnson Walker and Maria got married last month. They bought a house in London for 100,000 sterling pounds.\"\n",
    "completion = client.chat.completions.create(\n",
    "  model=model_name,\n",
    "  messages=[\n",
    "    {\"role\": \"system\", \"content\": system},\n",
    "    {\"role\": \"user\", \"content\": '<text>'+user+'</text>'}\n",
    "  ],\n",
    "  temperature=0.0,\n",
    "  top_p=1.0\n",
    ")\n",
    "\n",
    "print(completion.choices[0].message.content)"
   ]
  },
  {
   "cell_type": "code",
   "execution_count": null,
   "metadata": {
    "id": "RHuIFa2MZ7qI"
   },
   "outputs": [],
   "source": []
  },
  {
   "cell_type": "markdown",
   "metadata": {
    "id": "y5rDz34wZ8k6"
   },
   "source": [
    "## Checkpoints"
   ]
  },
  {
   "cell_type": "code",
   "execution_count": null,
   "metadata": {
    "colab": {
     "base_uri": "https://localhost:8080/"
    },
    "id": "njp21DyoZ_MR",
    "outputId": "f304689a-b52c-4230-a7f9-1048cad4a65b"
   },
   "outputs": [
    {
     "name": "stdout",
     "output_type": "stream",
     "text": [
      "Step 100/100: training loss=0.00, validation loss=0.00, full validation loss=0.00\n",
      "Step 80/100: training loss=0.00, validation loss=0.00, full validation loss=0.00\n",
      "Step 60/100: training loss=0.00, validation loss=0.00, full validation loss=0.00\n",
      "Step 40/100: training loss=0.00, validation loss=0.00, full validation loss=0.00\n",
      "Step 20/100: training loss=0.17, validation loss=0.03, full validation loss=0.01\n"
     ]
    }
   ],
   "source": [
    "events=client.fine_tuning.jobs.list_events(fine_tuning_job_id=job_id, limit=100)\n",
    "\n",
    "for event in events:\n",
    "  if \"full validation loss\" in event.message:\n",
    "    print(event.message)"
   ]
  },
  {
   "cell_type": "code",
   "execution_count": null,
   "metadata": {
    "colab": {
     "base_uri": "https://localhost:8080/"
    },
    "id": "dSIysmIHaDzC",
    "outputId": "e7a017d0-0620-4be3-d79f-fc0683549f37"
   },
   "outputs": [
    {
     "data": {
      "text/plain": [
       "[FineTuningJobCheckpoint(id='ftckpt_Riivjv5LZBwgCh1UgsedzofR', created_at=1723361917, fine_tuned_model_checkpoint='ft:gpt-4o-mini-2024-07-18:personal:ner-4:9uxSYzGm', fine_tuning_job_id='ftjob-aCzu49O9poTR2wJBdRNUZjsg', metrics=Metrics(full_valid_loss=None, full_valid_mean_token_accuracy=None, step=100.0, train_loss=3.007742179761408e-06, train_mean_token_accuracy=1.0, valid_loss=3.6027696397569444e-06, valid_mean_token_accuracy=1.0), object='fine_tuning.job.checkpoint', step_number=100),\n",
       " FineTuningJobCheckpoint(id='ftckpt_sgzzaz5lZxOPaybYZNhHmfEs', created_at=1723361842, fine_tuned_model_checkpoint='ft:gpt-4o-mini-2024-07-18:personal:ner-4:9uxSYMyw:ckpt-step-80', fine_tuning_job_id='ftjob-aCzu49O9poTR2wJBdRNUZjsg', metrics=Metrics(full_valid_loss=None, full_valid_mean_token_accuracy=None, step=80.0, train_loss=3.814697265625e-06, train_mean_token_accuracy=1.0, valid_loss=2.966986762152778e-06, valid_mean_token_accuracy=1.0), object='fine_tuning.job.checkpoint', step_number=80),\n",
       " FineTuningJobCheckpoint(id='ftckpt_FNgaAmvecYu6xTlsf125zif5', created_at=1723361765, fine_tuned_model_checkpoint='ft:gpt-4o-mini-2024-07-18:personal:ner-4:9uxSY9yn:ckpt-step-60', fine_tuning_job_id='ftjob-aCzu49O9poTR2wJBdRNUZjsg', metrics=Metrics(full_valid_loss=None, full_valid_mean_token_accuracy=None, step=60.0, train_loss=0.00010641689732437953, train_mean_token_accuracy=1.0, valid_loss=6.576820656105324e-05, valid_mean_token_accuracy=1.0), object='fine_tuning.job.checkpoint', step_number=60)]"
      ]
     },
     "execution_count": 55,
     "metadata": {},
     "output_type": "execute_result"
    }
   ],
   "source": [
    "client.fine_tuning.jobs.checkpoints.list(fine_tuning_job_id=job_id).data"
   ]
  },
  {
   "cell_type": "code",
   "execution_count": null,
   "metadata": {
    "colab": {
     "base_uri": "https://localhost:8080/",
     "height": 35
    },
    "id": "gRDas4wAaUXA",
    "outputId": "773f573c-1e64-4258-a864-89d252c3a40c"
   },
   "outputs": [
    {
     "data": {
      "application/vnd.google.colaboratory.intrinsic+json": {
       "type": "string"
      },
      "text/plain": [
       "'ft:gpt-4o-mini-2024-07-18:personal:ner-4:9uxSY9yn:ckpt-step-60'"
      ]
     },
     "execution_count": 56,
     "metadata": {},
     "output_type": "execute_result"
    }
   ],
   "source": [
    "model_name_ckpt = client.fine_tuning.jobs.checkpoints.list(fine_tuning_job_id=job_id).data[2].fine_tuned_model_checkpoint\n",
    "model_name_ckpt"
   ]
  },
  {
   "cell_type": "code",
   "execution_count": null,
   "metadata": {
    "colab": {
     "base_uri": "https://localhost:8080/"
    },
    "id": "Y7Ug9xYKann2",
    "outputId": "ede5cec7-5694-4c7a-b5c8-62d48fd6b64b"
   },
   "outputs": [
    {
     "name": "stdout",
     "output_type": "stream",
     "text": [
      "{'Person': 'null', 'Time': 'null', 'Currency': 'null', 'Place': 'null'}\n"
     ]
    }
   ],
   "source": [
    "user=\"My grandmother was a talented seamstress, and she taught me how to sew when I was young, which sparked a lifelong passion for fashion and design.\"\n",
    "completion = client.chat.completions.create(\n",
    "  model=model_name_ckpt,\n",
    "  messages=[\n",
    "    {\"role\": \"system\", \"content\": system},\n",
    "    {\"role\": \"user\", \"content\": '<text>'+user+'</text>' }\n",
    "  ],\n",
    "  temperature=0.0,\n",
    "  top_p=1.0\n",
    ")\n",
    "\n",
    "print(completion.choices[0].message.content)"
   ]
  },
  {
   "cell_type": "code",
   "execution_count": null,
   "metadata": {
    "colab": {
     "base_uri": "https://localhost:8080/"
    },
    "id": "3y38qbswanur",
    "outputId": "f8978fb9-27db-4033-cad1-76f71dc1f757"
   },
   "outputs": [
    {
     "name": "stdout",
     "output_type": "stream",
     "text": [
      "{'Person': ['Johnson Walker', 'Maria'], 'Time': 'last month', 'Currency': 'sterling pounds', 'Place': 'London'}\n"
     ]
    }
   ],
   "source": [
    "user=\"Johnson Walker and Maria got married last month. They bought a house in London for 100,000 sterling pounds.\"\n",
    "completion = client.chat.completions.create(\n",
    "  model=model_name_ckpt,\n",
    "  messages=[\n",
    "    {\"role\": \"system\", \"content\": system},\n",
    "    {\"role\": \"user\", \"content\": '<text>'+user+'</text>'}\n",
    "  ],\n",
    "  temperature=0.0,\n",
    "  top_p=1.0\n",
    ")\n",
    "\n",
    "print(completion.choices[0].message.content)"
   ]
  },
  {
   "cell_type": "code",
   "execution_count": null,
   "metadata": {
    "id": "8A6aB-uoan0w"
   },
   "outputs": [],
   "source": []
  },
  {
   "cell_type": "code",
   "execution_count": null,
   "metadata": {
    "id": "BnNMjkT6an68"
   },
   "outputs": [],
   "source": []
  }
 ],
 "metadata": {
  "colab": {
   "provenance": []
  },
  "kernelspec": {
   "display_name": "Python 3 (ipykernel)",
   "language": "python",
   "name": "python3"
  },
  "language_info": {
   "codemirror_mode": {
    "name": "ipython",
    "version": 3
   },
   "file_extension": ".py",
   "mimetype": "text/x-python",
   "name": "python",
   "nbconvert_exporter": "python",
   "pygments_lexer": "ipython3",
   "version": "3.8.19"
  }
 },
 "nbformat": 4,
 "nbformat_minor": 4
}
