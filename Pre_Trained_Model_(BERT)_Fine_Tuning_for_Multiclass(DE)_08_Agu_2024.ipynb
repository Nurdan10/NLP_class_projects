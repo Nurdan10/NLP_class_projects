{
 "cells": [
  {
   "cell_type": "markdown",
   "metadata": {
    "id": "biZeX7ujTOhZ"
   },
   "source": [
    "## Installing Libraries\n",
    "\n"
   ]
  },
  {
   "cell_type": "code",
   "execution_count": 6,
   "metadata": {
    "colab": {
     "base_uri": "https://localhost:8080/"
    },
    "id": "EAlvDHCxrqSf",
    "outputId": "5ced3489-62c9-4200-b31c-560b02c9914a"
   },
   "outputs": [],
   "source": [
    "#!pip install -q datasets"
   ]
  },
  {
   "cell_type": "code",
   "execution_count": 7,
   "metadata": {
    "colab": {
     "base_uri": "https://localhost:8080/"
    },
    "id": "PHkaACRkwteq",
    "outputId": "4fc8352f-f526-463d-fa75-4a7f6e79537f"
   },
   "outputs": [],
   "source": [
    "#!pip install -q openpyxl #for read excel files"
   ]
  },
  {
   "cell_type": "markdown",
   "metadata": {
    "id": "KD-ZEPiFTffT"
   },
   "source": [
    "## Using TPU Cores"
   ]
  },
  {
   "cell_type": "code",
   "execution_count": 3,
   "metadata": {
    "colab": {
     "base_uri": "https://localhost:8080/"
    },
    "id": "vtwMnpAVGSq7",
    "outputId": "8f13f3e5-d9a0-462a-f1dc-e1ffc0397f9a"
   },
   "outputs": [
    {
     "name": "stdout",
     "output_type": "stream",
     "text": [
      "Tensorflow version 2.13.0\n"
     ]
    },
    {
     "ename": "BaseException",
     "evalue": "ERROR: Not connected to a TPU runtime; please see the previous cell in this notebook for instructions!",
     "output_type": "error",
     "traceback": [
      "\u001b[1;31m---------------------------------------------------------------------------\u001b[0m",
      "\u001b[1;31mValueError\u001b[0m                                Traceback (most recent call last)",
      "Cell \u001b[1;32mIn[3], line 5\u001b[0m\n\u001b[0;32m      4\u001b[0m \u001b[38;5;28;01mtry\u001b[39;00m:\n\u001b[1;32m----> 5\u001b[0m   tpu \u001b[38;5;241m=\u001b[39m \u001b[43mtf\u001b[49m\u001b[38;5;241;43m.\u001b[39;49m\u001b[43mdistribute\u001b[49m\u001b[38;5;241;43m.\u001b[39;49m\u001b[43mcluster_resolver\u001b[49m\u001b[38;5;241;43m.\u001b[39;49m\u001b[43mTPUClusterResolver\u001b[49m\u001b[43m(\u001b[49m\u001b[43m)\u001b[49m  \u001b[38;5;66;03m# TPU detection\u001b[39;00m\n\u001b[0;32m      6\u001b[0m   \u001b[38;5;66;03m#TPUClusterResolver, TPU'ların bulunduğu kümeyi (cluster) bulmak için kullanılır.\u001b[39;00m\n",
      "File \u001b[1;32m~\\anaconda3\\envs\\NlpEnv\\lib\\site-packages\\tensorflow\\python\\distribute\\cluster_resolver\\tpu\\tpu_cluster_resolver.py:198\u001b[0m, in \u001b[0;36mTPUClusterResolver.__init__\u001b[1;34m(self, tpu, zone, project, job_name, coordinator_name, coordinator_address, credentials, service, discovery_url)\u001b[0m\n\u001b[0;32m    196\u001b[0m \u001b[38;5;28;01mif\u001b[39;00m tpu \u001b[38;5;241m!=\u001b[39m \u001b[38;5;124m'\u001b[39m\u001b[38;5;124mlocal\u001b[39m\u001b[38;5;124m'\u001b[39m:\n\u001b[0;32m    197\u001b[0m   \u001b[38;5;66;03m# Default Cloud environment\u001b[39;00m\n\u001b[1;32m--> 198\u001b[0m   \u001b[38;5;28mself\u001b[39m\u001b[38;5;241m.\u001b[39m_cloud_tpu_client \u001b[38;5;241m=\u001b[39m \u001b[43mclient\u001b[49m\u001b[38;5;241;43m.\u001b[39;49m\u001b[43mClient\u001b[49m\u001b[43m(\u001b[49m\n\u001b[0;32m    199\u001b[0m \u001b[43m      \u001b[49m\u001b[43mtpu\u001b[49m\u001b[38;5;241;43m=\u001b[39;49m\u001b[43mtpu\u001b[49m\u001b[43m,\u001b[49m\n\u001b[0;32m    200\u001b[0m \u001b[43m      \u001b[49m\u001b[43mzone\u001b[49m\u001b[38;5;241;43m=\u001b[39;49m\u001b[43mzone\u001b[49m\u001b[43m,\u001b[49m\n\u001b[0;32m    201\u001b[0m \u001b[43m      \u001b[49m\u001b[43mproject\u001b[49m\u001b[38;5;241;43m=\u001b[39;49m\u001b[43mproject\u001b[49m\u001b[43m,\u001b[49m\n\u001b[0;32m    202\u001b[0m \u001b[43m      \u001b[49m\u001b[43mcredentials\u001b[49m\u001b[38;5;241;43m=\u001b[39;49m\u001b[43mcredentials\u001b[49m\u001b[43m,\u001b[49m\n\u001b[0;32m    203\u001b[0m \u001b[43m      \u001b[49m\u001b[43mservice\u001b[49m\u001b[38;5;241;43m=\u001b[39;49m\u001b[43mservice\u001b[49m\u001b[43m,\u001b[49m\n\u001b[0;32m    204\u001b[0m \u001b[43m      \u001b[49m\u001b[43mdiscovery_url\u001b[49m\u001b[38;5;241;43m=\u001b[39;49m\u001b[43mdiscovery_url\u001b[49m\u001b[43m)\u001b[49m\n\u001b[0;32m    205\u001b[0m   \u001b[38;5;28mself\u001b[39m\u001b[38;5;241m.\u001b[39m_tpu \u001b[38;5;241m=\u001b[39m \u001b[38;5;28mself\u001b[39m\u001b[38;5;241m.\u001b[39m_cloud_tpu_client\u001b[38;5;241m.\u001b[39mname()\n",
      "File \u001b[1;32m~\\anaconda3\\envs\\NlpEnv\\lib\\site-packages\\tensorflow\\python\\tpu\\client\\client.py:159\u001b[0m, in \u001b[0;36mClient.__init__\u001b[1;34m(self, tpu, zone, project, credentials, service, discovery_url)\u001b[0m\n\u001b[0;32m    158\u001b[0m   \u001b[38;5;28;01melse\u001b[39;00m:\n\u001b[1;32m--> 159\u001b[0m     \u001b[38;5;28;01mraise\u001b[39;00m \u001b[38;5;167;01mValueError\u001b[39;00m(\u001b[38;5;124m'\u001b[39m\u001b[38;5;124mPlease provide a TPU Name to connect to.\u001b[39m\u001b[38;5;124m'\u001b[39m)\n\u001b[0;32m    161\u001b[0m \u001b[38;5;28mself\u001b[39m\u001b[38;5;241m.\u001b[39m_tpu \u001b[38;5;241m=\u001b[39m _as_text(tpu)\n",
      "\u001b[1;31mValueError\u001b[0m: Please provide a TPU Name to connect to.",
      "\nDuring handling of the above exception, another exception occurred:\n",
      "\u001b[1;31mBaseException\u001b[0m                             Traceback (most recent call last)",
      "Cell \u001b[1;32mIn[3], line 9\u001b[0m\n\u001b[0;32m      7\u001b[0m   \u001b[38;5;28mprint\u001b[39m(\u001b[38;5;124mf\u001b[39m\u001b[38;5;124m'\u001b[39m\u001b[38;5;124mRunning on a TPU w/\u001b[39m\u001b[38;5;132;01m{\u001b[39;00mtpu\u001b[38;5;241m.\u001b[39mnum_accelerators()[\u001b[38;5;124m\"\u001b[39m\u001b[38;5;124mTPU\u001b[39m\u001b[38;5;124m\"\u001b[39m]\u001b[38;5;132;01m}\u001b[39;00m\u001b[38;5;124m cores\u001b[39m\u001b[38;5;124m'\u001b[39m)\n\u001b[0;32m      8\u001b[0m \u001b[38;5;28;01mexcept\u001b[39;00m \u001b[38;5;167;01mValueError\u001b[39;00m:\n\u001b[1;32m----> 9\u001b[0m   \u001b[38;5;28;01mraise\u001b[39;00m \u001b[38;5;167;01mBaseException\u001b[39;00m(\u001b[38;5;124m'\u001b[39m\u001b[38;5;124mERROR: Not connected to a TPU runtime; please see the previous cell in this notebook for instructions!\u001b[39m\u001b[38;5;124m'\u001b[39m)\n\u001b[0;32m     11\u001b[0m tf\u001b[38;5;241m.\u001b[39mconfig\u001b[38;5;241m.\u001b[39mexperimental_connect_to_cluster(tpu)\n\u001b[0;32m     12\u001b[0m \u001b[38;5;66;03m#Bu kod satırı, TensorFlow'u daha önce oluşturulan tpu nesnesi ile belirtilen TPU kümesine bağlar.\u001b[39;00m\n",
      "\u001b[1;31mBaseException\u001b[0m: ERROR: Not connected to a TPU runtime; please see the previous cell in this notebook for instructions!"
     ]
    }
   ],
   "source": [
    "import tensorflow as tf\n",
    "print(\"Tensorflow version \" + tf.__version__)\n",
    "\n",
    "try:\n",
    "  tpu = tf.distribute.cluster_resolver.TPUClusterResolver()  # TPU detection\n",
    "  #TPUClusterResolver, TPU'ların bulunduğu kümeyi (cluster) bulmak için kullanılır.\n",
    "  print(f'Running on a TPU w/{tpu.num_accelerators()[\"TPU\"]} cores')\n",
    "except ValueError:\n",
    "  raise BaseException('ERROR: Not connected to a TPU runtime; please see the previous cell in this notebook for instructions!')\n",
    "\n",
    "tf.config.experimental_connect_to_cluster(tpu)\n",
    "#Bu kod satırı, TensorFlow'u daha önce oluşturulan tpu nesnesi ile belirtilen TPU kümesine bağlar.\n",
    "tf.tpu.experimental.initialize_tpu_system(tpu)\n",
    "#Bu adım, TPU sistemini başlatır ve kullanıma hazır hale getirir.\n",
    "tpu_strategy = tf.distribute.TPUStrategy(tpu)\n",
    "#Modeli birden fazla TPU çekirdeğine dağıtarak eğitimi hızlandırır."
   ]
  },
  {
   "cell_type": "code",
   "execution_count": 8,
   "metadata": {
    "colab": {
     "base_uri": "https://localhost:8080/"
    },
    "id": "7Xm5gGNm9zbj",
    "outputId": "2cb3487c-7ec7-4835-a666-cbbea82a651e"
   },
   "outputs": [],
   "source": [
    "#from google.colab import drive\n",
    "#drive.mount('/content/drive')"
   ]
  },
  {
   "cell_type": "markdown",
   "metadata": {
    "id": "RSArY1mxT77w"
   },
   "source": [
    "## Reading Data"
   ]
  },
  {
   "cell_type": "code",
   "execution_count": 9,
   "metadata": {
    "id": "JKrlZV5P-r00"
   },
   "outputs": [],
   "source": [
    "import numpy as np\n",
    "import pandas as pd\n",
    "import warnings\n",
    "warnings.filterwarnings('ignore')"
   ]
  },
  {
   "cell_type": "code",
   "execution_count": 10,
   "metadata": {
    "colab": {
     "base_uri": "https://localhost:8080/",
     "height": 423
    },
    "id": "gxFM1DebdqkN",
    "outputId": "37a86fcf-2df5-4dc3-ac13-12b8008da71e"
   },
   "outputs": [
    {
     "data": {
      "text/html": [
       "<div>\n",
       "<style scoped>\n",
       "    .dataframe tbody tr th:only-of-type {\n",
       "        vertical-align: middle;\n",
       "    }\n",
       "\n",
       "    .dataframe tbody tr th {\n",
       "        vertical-align: top;\n",
       "    }\n",
       "\n",
       "    .dataframe thead th {\n",
       "        text-align: right;\n",
       "    }\n",
       "</style>\n",
       "<table border=\"1\" class=\"dataframe\">\n",
       "  <thead>\n",
       "    <tr style=\"text-align: right;\">\n",
       "      <th></th>\n",
       "      <th>Unnamed: 0.1</th>\n",
       "      <th>Unnamed: 0</th>\n",
       "      <th>title</th>\n",
       "      <th>context</th>\n",
       "      <th>category</th>\n",
       "    </tr>\n",
       "  </thead>\n",
       "  <tbody>\n",
       "    <tr>\n",
       "      <th>0</th>\n",
       "      <td>0</td>\n",
       "      <td>0</td>\n",
       "      <td>BTK'nın sosyal ağ sağlayıcılara tanıdığı süre ...</td>\n",
       "      <td>Sosyal medya devlerinin temsilci bildirmesi iç...</td>\n",
       "      <td>bilim_teknoloji</td>\n",
       "    </tr>\n",
       "    <tr>\n",
       "      <th>1</th>\n",
       "      <td>1</td>\n",
       "      <td>1</td>\n",
       "      <td>Samsung Yönetim Kurulu Başkanı Lee hayatını ka...</td>\n",
       "      <td>Lee'nin oğlu ve Samsung'un fiili yöneticisi Le...</td>\n",
       "      <td>bilim_teknoloji</td>\n",
       "    </tr>\n",
       "    <tr>\n",
       "      <th>2</th>\n",
       "      <td>2</td>\n",
       "      <td>2</td>\n",
       "      <td>Yerli ve milli 5G şebekesi hedefi: Radyolink b...</td>\n",
       "      <td>Uçtan Uca Yerli ve Milli 5G Haberleşme Şebekes...</td>\n",
       "      <td>bilim_teknoloji</td>\n",
       "    </tr>\n",
       "    <tr>\n",
       "      <th>3</th>\n",
       "      <td>3</td>\n",
       "      <td>3</td>\n",
       "      <td>Elektrik direğindeki kaçağı haber veren akıllı...</td>\n",
       "      <td>Enerjisa'dan yapılan açıklamaya göre, söz konu...</td>\n",
       "      <td>bilim_teknoloji</td>\n",
       "    </tr>\n",
       "    <tr>\n",
       "      <th>4</th>\n",
       "      <td>4</td>\n",
       "      <td>4</td>\n",
       "      <td>Sosyal medya sitelerinin temsilci bildirmesi i...</td>\n",
       "      <td>Kamuoyunda \"Sosyal Medya Yasası\" olarak biline...</td>\n",
       "      <td>bilim_teknoloji</td>\n",
       "    </tr>\n",
       "    <tr>\n",
       "      <th>...</th>\n",
       "      <td>...</td>\n",
       "      <td>...</td>\n",
       "      <td>...</td>\n",
       "      <td>...</td>\n",
       "      <td>...</td>\n",
       "    </tr>\n",
       "    <tr>\n",
       "      <th>35195</th>\n",
       "      <td>3195</td>\n",
       "      <td>3195</td>\n",
       "      <td>Kahramanlığıyla iz bırakan Eren Bülbül'ün şeha...</td>\n",
       "      <td>Eren Bülbül, Maçkalı Ayşe ve Hasan Bülbül çift...</td>\n",
       "      <td>yasam</td>\n",
       "    </tr>\n",
       "    <tr>\n",
       "      <th>35196</th>\n",
       "      <td>3196</td>\n",
       "      <td>3196</td>\n",
       "      <td>Kurban keserken nelere dikkat edilmeli? Kurban...</td>\n",
       "      <td>Kurban Bayramı, Müslümanlar tarafından Hicri T...</td>\n",
       "      <td>yasam</td>\n",
       "    </tr>\n",
       "    <tr>\n",
       "      <th>35197</th>\n",
       "      <td>3197</td>\n",
       "      <td>3197</td>\n",
       "      <td>Sanatsever kardeşlerden Fatsa'da nostaljik fil...</td>\n",
       "      <td>Tiyatro ve sinemaya gönül veren Ali Can ve İlk...</td>\n",
       "      <td>yasam</td>\n",
       "    </tr>\n",
       "    <tr>\n",
       "      <th>35198</th>\n",
       "      <td>3198</td>\n",
       "      <td>3198</td>\n",
       "      <td>Yaralı kaplumbağalar rehabilitasyon merkezinde...</td>\n",
       "      <td>Oltalar, balıkçı ağları, plastik atıklar... De...</td>\n",
       "      <td>yasam</td>\n",
       "    </tr>\n",
       "    <tr>\n",
       "      <th>35199</th>\n",
       "      <td>3199</td>\n",
       "      <td>3199</td>\n",
       "      <td>Anafartalar Zaferi'nin 104. yılında kahramanla...</td>\n",
       "      <td>Kurmay Albay Mustafa Kemal komutasındaki Mehme...</td>\n",
       "      <td>yasam</td>\n",
       "    </tr>\n",
       "  </tbody>\n",
       "</table>\n",
       "<p>35200 rows × 5 columns</p>\n",
       "</div>"
      ],
      "text/plain": [
       "       Unnamed: 0.1  Unnamed: 0  \\\n",
       "0                 0           0   \n",
       "1                 1           1   \n",
       "2                 2           2   \n",
       "3                 3           3   \n",
       "4                 4           4   \n",
       "...             ...         ...   \n",
       "35195          3195        3195   \n",
       "35196          3196        3196   \n",
       "35197          3197        3197   \n",
       "35198          3198        3198   \n",
       "35199          3199        3199   \n",
       "\n",
       "                                                   title  \\\n",
       "0      BTK'nın sosyal ağ sağlayıcılara tanıdığı süre ...   \n",
       "1      Samsung Yönetim Kurulu Başkanı Lee hayatını ka...   \n",
       "2      Yerli ve milli 5G şebekesi hedefi: Radyolink b...   \n",
       "3      Elektrik direğindeki kaçağı haber veren akıllı...   \n",
       "4      Sosyal medya sitelerinin temsilci bildirmesi i...   \n",
       "...                                                  ...   \n",
       "35195  Kahramanlığıyla iz bırakan Eren Bülbül'ün şeha...   \n",
       "35196  Kurban keserken nelere dikkat edilmeli? Kurban...   \n",
       "35197  Sanatsever kardeşlerden Fatsa'da nostaljik fil...   \n",
       "35198  Yaralı kaplumbağalar rehabilitasyon merkezinde...   \n",
       "35199  Anafartalar Zaferi'nin 104. yılında kahramanla...   \n",
       "\n",
       "                                                 context         category  \n",
       "0      Sosyal medya devlerinin temsilci bildirmesi iç...  bilim_teknoloji  \n",
       "1      Lee'nin oğlu ve Samsung'un fiili yöneticisi Le...  bilim_teknoloji  \n",
       "2      Uçtan Uca Yerli ve Milli 5G Haberleşme Şebekes...  bilim_teknoloji  \n",
       "3      Enerjisa'dan yapılan açıklamaya göre, söz konu...  bilim_teknoloji  \n",
       "4      Kamuoyunda \"Sosyal Medya Yasası\" olarak biline...  bilim_teknoloji  \n",
       "...                                                  ...              ...  \n",
       "35195  Eren Bülbül, Maçkalı Ayşe ve Hasan Bülbül çift...            yasam  \n",
       "35196  Kurban Bayramı, Müslümanlar tarafından Hicri T...            yasam  \n",
       "35197  Tiyatro ve sinemaya gönül veren Ali Can ve İlk...            yasam  \n",
       "35198  Oltalar, balıkçı ağları, plastik atıklar... De...            yasam  \n",
       "35199  Kurmay Albay Mustafa Kemal komutasındaki Mehme...            yasam  \n",
       "\n",
       "[35200 rows x 5 columns]"
      ]
     },
     "execution_count": 10,
     "metadata": {},
     "output_type": "execute_result"
    }
   ],
   "source": [
    "df = pd.read_excel('trt_11_category.xlsx')\n",
    "df"
   ]
  },
  {
   "cell_type": "code",
   "execution_count": 11,
   "metadata": {
    "id": "pI2J_Lb1GyaE"
   },
   "outputs": [],
   "source": [
    "df[\"context\"]=df.title+\" \"+df.context"
   ]
  },
  {
   "cell_type": "code",
   "execution_count": 12,
   "metadata": {
    "colab": {
     "base_uri": "https://localhost:8080/",
     "height": 423
    },
    "id": "88-RrBrQeat-",
    "outputId": "4e114d7c-819d-460c-c378-0b53a0151a06"
   },
   "outputs": [
    {
     "data": {
      "text/html": [
       "<div>\n",
       "<style scoped>\n",
       "    .dataframe tbody tr th:only-of-type {\n",
       "        vertical-align: middle;\n",
       "    }\n",
       "\n",
       "    .dataframe tbody tr th {\n",
       "        vertical-align: top;\n",
       "    }\n",
       "\n",
       "    .dataframe thead th {\n",
       "        text-align: right;\n",
       "    }\n",
       "</style>\n",
       "<table border=\"1\" class=\"dataframe\">\n",
       "  <thead>\n",
       "    <tr style=\"text-align: right;\">\n",
       "      <th></th>\n",
       "      <th>context</th>\n",
       "      <th>category</th>\n",
       "    </tr>\n",
       "  </thead>\n",
       "  <tbody>\n",
       "    <tr>\n",
       "      <th>0</th>\n",
       "      <td>BTK'nın sosyal ağ sağlayıcılara tanıdığı süre ...</td>\n",
       "      <td>bilim_teknoloji</td>\n",
       "    </tr>\n",
       "    <tr>\n",
       "      <th>1</th>\n",
       "      <td>Samsung Yönetim Kurulu Başkanı Lee hayatını ka...</td>\n",
       "      <td>bilim_teknoloji</td>\n",
       "    </tr>\n",
       "    <tr>\n",
       "      <th>2</th>\n",
       "      <td>Yerli ve milli 5G şebekesi hedefi: Radyolink b...</td>\n",
       "      <td>bilim_teknoloji</td>\n",
       "    </tr>\n",
       "    <tr>\n",
       "      <th>3</th>\n",
       "      <td>Elektrik direğindeki kaçağı haber veren akıllı...</td>\n",
       "      <td>bilim_teknoloji</td>\n",
       "    </tr>\n",
       "    <tr>\n",
       "      <th>4</th>\n",
       "      <td>Sosyal medya sitelerinin temsilci bildirmesi i...</td>\n",
       "      <td>bilim_teknoloji</td>\n",
       "    </tr>\n",
       "    <tr>\n",
       "      <th>...</th>\n",
       "      <td>...</td>\n",
       "      <td>...</td>\n",
       "    </tr>\n",
       "    <tr>\n",
       "      <th>35195</th>\n",
       "      <td>Kahramanlığıyla iz bırakan Eren Bülbül'ün şeha...</td>\n",
       "      <td>yasam</td>\n",
       "    </tr>\n",
       "    <tr>\n",
       "      <th>35196</th>\n",
       "      <td>Kurban keserken nelere dikkat edilmeli? Kurban...</td>\n",
       "      <td>yasam</td>\n",
       "    </tr>\n",
       "    <tr>\n",
       "      <th>35197</th>\n",
       "      <td>Sanatsever kardeşlerden Fatsa'da nostaljik fil...</td>\n",
       "      <td>yasam</td>\n",
       "    </tr>\n",
       "    <tr>\n",
       "      <th>35198</th>\n",
       "      <td>Yaralı kaplumbağalar rehabilitasyon merkezinde...</td>\n",
       "      <td>yasam</td>\n",
       "    </tr>\n",
       "    <tr>\n",
       "      <th>35199</th>\n",
       "      <td>Anafartalar Zaferi'nin 104. yılında kahramanla...</td>\n",
       "      <td>yasam</td>\n",
       "    </tr>\n",
       "  </tbody>\n",
       "</table>\n",
       "<p>35200 rows × 2 columns</p>\n",
       "</div>"
      ],
      "text/plain": [
       "                                                 context         category\n",
       "0      BTK'nın sosyal ağ sağlayıcılara tanıdığı süre ...  bilim_teknoloji\n",
       "1      Samsung Yönetim Kurulu Başkanı Lee hayatını ka...  bilim_teknoloji\n",
       "2      Yerli ve milli 5G şebekesi hedefi: Radyolink b...  bilim_teknoloji\n",
       "3      Elektrik direğindeki kaçağı haber veren akıllı...  bilim_teknoloji\n",
       "4      Sosyal medya sitelerinin temsilci bildirmesi i...  bilim_teknoloji\n",
       "...                                                  ...              ...\n",
       "35195  Kahramanlığıyla iz bırakan Eren Bülbül'ün şeha...            yasam\n",
       "35196  Kurban keserken nelere dikkat edilmeli? Kurban...            yasam\n",
       "35197  Sanatsever kardeşlerden Fatsa'da nostaljik fil...            yasam\n",
       "35198  Yaralı kaplumbağalar rehabilitasyon merkezinde...            yasam\n",
       "35199  Anafartalar Zaferi'nin 104. yılında kahramanla...            yasam\n",
       "\n",
       "[35200 rows x 2 columns]"
      ]
     },
     "execution_count": 12,
     "metadata": {},
     "output_type": "execute_result"
    }
   ],
   "source": [
    "df=df[[\"context\", \"category\"]]\n",
    "df"
   ]
  },
  {
   "cell_type": "code",
   "execution_count": 13,
   "metadata": {
    "colab": {
     "base_uri": "https://localhost:8080/",
     "height": 460
    },
    "id": "bIADqFgCe5MW",
    "outputId": "a747af65-4e64-460f-e61d-64a9d1d7299b"
   },
   "outputs": [
    {
     "data": {
      "text/plain": [
       "category\n",
       "bilim_teknoloji    3200\n",
       "dunya              3200\n",
       "egitim             3200\n",
       "ekonomi            3200\n",
       "guncel             3200\n",
       "gundem             3200\n",
       "kultur_sanat       3200\n",
       "saglik             3200\n",
       "spor               3200\n",
       "turkiye            3200\n",
       "yasam              3200\n",
       "Name: count, dtype: int64"
      ]
     },
     "execution_count": 13,
     "metadata": {},
     "output_type": "execute_result"
    }
   ],
   "source": [
    "df.category.value_counts()"
   ]
  },
  {
   "cell_type": "code",
   "execution_count": 14,
   "metadata": {
    "colab": {
     "base_uri": "https://localhost:8080/"
    },
    "id": "nwnKyD-ePP5L",
    "outputId": "25688f4e-a2b6-472b-c895-da9485d63897"
   },
   "outputs": [
    {
     "data": {
      "text/plain": [
       "array(['bilim_teknoloji', 'dunya', 'egitim', 'ekonomi', 'guncel',\n",
       "       'gundem', 'kultur_sanat', 'saglik', 'spor', 'turkiye', 'yasam'],\n",
       "      dtype=object)"
      ]
     },
     "execution_count": 14,
     "metadata": {},
     "output_type": "execute_result"
    }
   ],
   "source": [
    "unique_labels=df.category.unique()\n",
    "unique_labels"
   ]
  },
  {
   "cell_type": "code",
   "execution_count": 15,
   "metadata": {
    "colab": {
     "base_uri": "https://localhost:8080/"
    },
    "id": "XR8JQ9OxPHbo",
    "outputId": "5777f72a-1123-414b-e199-9645382e95ad"
   },
   "outputs": [
    {
     "data": {
      "text/plain": [
       "{'bilim_teknoloji': 0,\n",
       " 'dunya': 1,\n",
       " 'egitim': 2,\n",
       " 'ekonomi': 3,\n",
       " 'guncel': 4,\n",
       " 'gundem': 5,\n",
       " 'kultur_sanat': 6,\n",
       " 'saglik': 7,\n",
       " 'spor': 8,\n",
       " 'turkiye': 9,\n",
       " 'yasam': 10}"
      ]
     },
     "execution_count": 15,
     "metadata": {},
     "output_type": "execute_result"
    }
   ],
   "source": [
    "label_dict= {j:i for i, j in enumerate(unique_labels)}\n",
    "label_dict"
   ]
  },
  {
   "cell_type": "code",
   "execution_count": 16,
   "metadata": {
    "id": "cknfsV_6P0id"
   },
   "outputs": [],
   "source": [
    "df.category=df.category.map(label_dict)"
   ]
  },
  {
   "cell_type": "code",
   "execution_count": 17,
   "metadata": {
    "id": "9HgXvmmEfG0p"
   },
   "outputs": [],
   "source": [
    "X = df['context'].values\n",
    "y = df['category'].values"
   ]
  },
  {
   "cell_type": "code",
   "execution_count": 18,
   "metadata": {
    "id": "9ZFpMmi8_ZOq"
   },
   "outputs": [],
   "source": [
    "from sklearn.model_selection import train_test_split\n",
    "\n",
    "X_train, X_test, y_train, y_test = train_test_split(X, y, test_size=0.2, stratify=y, random_state=42)"
   ]
  },
  {
   "cell_type": "markdown",
   "metadata": {
    "id": "buPlTer3ryhA"
   },
   "source": [
    "## Max Text Length"
   ]
  },
  {
   "cell_type": "markdown",
   "metadata": {
    "id": "sqeYMPoOVXbg"
   },
   "source": [
    "## [Pre-trained model Classification](https://huggingface.co/docs/transformers/tasks/sequence_classification)"
   ]
  },
  {
   "cell_type": "code",
   "execution_count": 19,
   "metadata": {
    "colab": {
     "base_uri": "https://localhost:8080/",
     "height": 168,
     "referenced_widgets": [
      "24b01ba718fc43fa9ef01c7a6116f467",
      "b9d986b454444f4bba3f7c254f5d0e64",
      "7495303f03d14540949385d44eca1e9b",
      "d3f01437ba554dc4bf073f872a958f0d",
      "fc3c2d9159404880aeae5ef6aebf6315",
      "a416d327f5a94945a7cf34822cf65339",
      "b135218bd872492991b00cdab289a1d6",
      "3b26d73ad095472aa4a47d0c7b1aacce",
      "81037d4a676947baad867108c34bb929",
      "a25d9ee9904c4917bda7bf763fb1d3de",
      "d83c8078df8c4d668104ea955b80514a",
      "1fef71e5e2ec4d2cbfd58f4ea824ce5a",
      "2d020892db394d7fa8d85fe71610dda3",
      "52ee2934430847a69923b59b4881025b",
      "f096df0a18f6428a8669588390d2fedf",
      "c83713ff68c14a7dadc0a6c96f325946",
      "17e330d64aba44b0a8cf88360d6c161e",
      "7a0ee824e794485f91d7441d39334a23",
      "137631ea5e0d4b40a2e952893630726b",
      "2a799e7236c3407e87616eb552878999",
      "a6ee5402cca04873a0e4c3f2fc542d68",
      "c81f7f60b41a4261ba28d83331acb466",
      "04fb123022384702874ea0c35cb1861e",
      "a6e90d635ccb4584a6cac980aa9015ec",
      "4027d6ed4642465aba3633cc80cec900",
      "4b8dcd4a2dac49a48551106ef314a61d",
      "3766fadfa7ff4103852ca8547a80faee",
      "d46d9d56c01d455cb9e5d65416e212ae",
      "deddcc35839046dab740b9da7aa4dd06",
      "549006355b5047d187af1f534f0b5529",
      "42bbfe3565954cd59836806f8cedd605",
      "13f7b5b41450476f84e8ac16e2f47bb8",
      "45e17478db29413eac9fd470a9bec536"
     ]
    },
    "id": "JlvlQST4nwiY",
    "outputId": "8eb3e2ad-e64d-4f9b-89a8-814d74d31d6a"
   },
   "outputs": [
    {
     "name": "stderr",
     "output_type": "stream",
     "text": [
      "Token indices sequence length is longer than the specified maximum sequence length for this model (1410 > 512). Running this sequence through the model will result in indexing errors\n"
     ]
    },
    {
     "name": "stdout",
     "output_type": "stream",
     "text": [
      "Max sentence length:  7769\n"
     ]
    }
   ],
   "source": [
    "# For every sentence...\n",
    "from transformers import AutoTokenizer\n",
    "tokenizer = AutoTokenizer.from_pretrained(\"dbmdz/bert-base-turkish-uncased\")\n",
    "\n",
    "number_tokens_sentences = []\n",
    "for sent in X_train:\n",
    "    # Tokenize the text and add `[CLS]` and `[SEP]` tokens.\n",
    "\n",
    "    input_ids = tokenizer.encode(str(sent),\n",
    "                                 add_special_tokens=True)\n",
    "\n",
    "    number_tokens_sentences.append(len(input_ids))\n",
    "\n",
    "print('Max sentence length: ', max(number_tokens_sentences))\n",
    "\n",
    "# tokenizer.encode() fonksiyonunu sadece en uzun yorumun kaç tokenden oluştuğu bulmak ve tüm yorumları/textleri kaç\n",
    "# tokene sabitliyeceğimize karar vermek için kullanacağız."
   ]
  },
  {
   "cell_type": "code",
   "execution_count": 20,
   "metadata": {
    "colab": {
     "base_uri": "https://localhost:8080/"
    },
    "id": "0sukt2n7lKzG",
    "outputId": "4334303f-524c-4e42-e084-996db1bc702d"
   },
   "outputs": [
    {
     "data": {
      "text/plain": [
       "[2, 25223, 17379, 9751, 35, 3]"
      ]
     },
     "execution_count": 20,
     "metadata": {},
     "output_type": "execute_result"
    }
   ],
   "source": [
    "sentence=\" how are you ?\"\n",
    "\n",
    "tokenizer.encode(str(sentence),\n",
    "                 add_special_tokens=True)"
   ]
  },
  {
   "cell_type": "code",
   "execution_count": 21,
   "metadata": {
    "colab": {
     "base_uri": "https://localhost:8080/",
     "height": 35
    },
    "id": "pBFBf60_lxi3",
    "outputId": "700897d2-5987-49eb-c9e4-d1809234acb6"
   },
   "outputs": [
    {
     "data": {
      "text/plain": [
       "'[CLS] how are you? [SEP]'"
      ]
     },
     "execution_count": 21,
     "metadata": {},
     "output_type": "execute_result"
    }
   ],
   "source": [
    "tokenizer.decode([2, 25223, 17379, 9751, 35, 3])"
   ]
  },
  {
   "cell_type": "code",
   "execution_count": 22,
   "metadata": {
    "colab": {
     "base_uri": "https://localhost:8080/"
    },
    "id": "5LX0i2dhoQ6R",
    "outputId": "95f46283-4d53-49c4-f2a5-b33e40c11b7b"
   },
   "outputs": [
    {
     "data": {
      "text/plain": [
       "0.7025213068181818"
      ]
     },
     "execution_count": 22,
     "metadata": {},
     "output_type": "execute_result"
    }
   ],
   "source": [
    "sum(np.array(number_tokens_sentences) <= 512) / len(number_tokens_sentences)"
   ]
  },
  {
   "cell_type": "markdown",
   "metadata": {
    "id": "U2DOUVijsHcq"
   },
   "source": [
    "## Converting Data to Dataset Format"
   ]
  },
  {
   "cell_type": "code",
   "execution_count": 23,
   "metadata": {
    "id": "36yx6S03_ZUR"
   },
   "outputs": [],
   "source": [
    "#[{'text': '......', 'label': 0}]"
   ]
  },
  {
   "cell_type": "code",
   "execution_count": 24,
   "metadata": {
    "id": "CM2PYj2r_ZYy"
   },
   "outputs": [],
   "source": [
    "train_text=[]\n",
    "for i, j in zip(X_train, y_train):\n",
    "  train_text.append({\"text\": str(i), \"label\":j})\n",
    "\n",
    "test_text=[]\n",
    "for i, j in zip(X_test, y_test):\n",
    "  test_text.append({\"text\": str(i), \"label\":j})"
   ]
  },
  {
   "cell_type": "code",
   "execution_count": 25,
   "metadata": {
    "colab": {
     "base_uri": "https://localhost:8080/"
    },
    "id": "l7sF5UM5BlqN",
    "outputId": "8889adc4-3c7a-42c2-fff3-12bc1a1e6af8"
   },
   "outputs": [
    {
     "data": {
      "text/plain": [
       "[{'text': \"Artistik buz pateni yarışmalarına koronavirüs engeli Türkiye Buz Pateni Federasyonundan yapılan açıklamada, ISU Konsey Toplantısı'nın ardından alınan kararlar doğrultusunda, Junior Grand Prix yarışmalarının sürdürülemeyeceği ve serinin tüm etkinliklerinin iptal edildiği ifade edildi. İptal kararının, sağlık komisyonunun önerileri ile etkinlik katılımcılarının güvenliği ve sağlığının gözetilerek alındığı belirtildi. Yeni sezon planlamasının ve diğer etkinliklerin ise 3 Ağustos'ta çevrim içi düzenlenecek toplantıda tekrar değerlendirileceği aktarıldı.\",\n",
       "  'label': 8},\n",
       " {'text': 'ASELSAN \"en çekici işveren\" seçildi ASELSAN\\'dan yapılan açıklamaya göre, Universum 2018 Türkiye’nin Öğrenci ve Çalışan Y Kuşağı İçin En Çekici İşverenler Araştırması sonuçları açıklandı. Universum tarafından 61 ülkede 1,8 milyon genç ile yapılan En Çekici İşveren Araştırması\\'nın Türkiye ayağı, 6. yılında 46 üniversiteden 41 bin 117 öğrenci ve ortalama 3 yıldır iş hayatında olan 13 bin 116 genç profesyonelden edinilen bilgilerle hazırlandı. Araştırma, Harvard Business Review Türkiye Dergisi\\'nin Eylül sayısında yayımlandı. ASELSAN, araştırmada Google, Apple ve Microsoft’u geride bırakarak ilk sıradaki yerini korudu. Şirket, bir yıl önce yapılan araştırmada da Mühendislik/IT alanında en çok beğenilen şirket olmuştu. ASELSAN Yönetim Kurulu Başkanı ve Genel Müdürü Haluk Görgün araştırma sonucu ile ilgili yaptığı değerlendirmelerde, Türkiye’nin en çok çalışılmak istenen şirketi olmanın gurur verici olduğunu söyledi. \"Sadece Türkiye’nin en parlak gençlerini ASELSAN’a çekmek değil, aynı zamanda onların aşkla, sorumlulukla çalışacağı bir iklim yaratmak, sorumluluk hissettirmek ve her ASELSAN çalışanının, bu kültürün önemli bir mimarı olduğunun farkında olmasını sağlamak önceliklerimiz arasındadır. ASELSAN’da olmaktan gurur ve mutluluk duyan çalışanlarımız en güvenilir marka elçilerimizdir. İnsanı kaynak olarak görmekten ziyade bir kıymet olarak görüyor ve tüm çalışanlarımıza kıymetli oldukları duygusunu yerleştirmeye çalışıyoruz.\" Kaynak: AA',\n",
       "  'label': 0}]"
      ]
     },
     "execution_count": 25,
     "metadata": {},
     "output_type": "execute_result"
    }
   ],
   "source": [
    "train_text[0:2]"
   ]
  },
  {
   "cell_type": "code",
   "execution_count": 26,
   "metadata": {
    "id": "v3ctMMFsBr9b"
   },
   "outputs": [],
   "source": [
    "from datasets import Dataset\n",
    "train_dataset = Dataset.from_list(train_text)\n",
    "test_dataset = Dataset.from_list(test_text)"
   ]
  },
  {
   "cell_type": "code",
   "execution_count": 27,
   "metadata": {
    "colab": {
     "base_uri": "https://localhost:8080/"
    },
    "id": "67EXGDIKBsCx",
    "outputId": "e9f81e5d-9648-4a01-af80-5b2e13c6f9b1"
   },
   "outputs": [
    {
     "data": {
      "text/plain": [
       "{'text': [\"Artistik buz pateni yarışmalarına koronavirüs engeli Türkiye Buz Pateni Federasyonundan yapılan açıklamada, ISU Konsey Toplantısı'nın ardından alınan kararlar doğrultusunda, Junior Grand Prix yarışmalarının sürdürülemeyeceği ve serinin tüm etkinliklerinin iptal edildiği ifade edildi. İptal kararının, sağlık komisyonunun önerileri ile etkinlik katılımcılarının güvenliği ve sağlığının gözetilerek alındığı belirtildi. Yeni sezon planlamasının ve diğer etkinliklerin ise 3 Ağustos'ta çevrim içi düzenlenecek toplantıda tekrar değerlendirileceği aktarıldı.\",\n",
       "  'ASELSAN \"en çekici işveren\" seçildi ASELSAN\\'dan yapılan açıklamaya göre, Universum 2018 Türkiye’nin Öğrenci ve Çalışan Y Kuşağı İçin En Çekici İşverenler Araştırması sonuçları açıklandı. Universum tarafından 61 ülkede 1,8 milyon genç ile yapılan En Çekici İşveren Araştırması\\'nın Türkiye ayağı, 6. yılında 46 üniversiteden 41 bin 117 öğrenci ve ortalama 3 yıldır iş hayatında olan 13 bin 116 genç profesyonelden edinilen bilgilerle hazırlandı. Araştırma, Harvard Business Review Türkiye Dergisi\\'nin Eylül sayısında yayımlandı. ASELSAN, araştırmada Google, Apple ve Microsoft’u geride bırakarak ilk sıradaki yerini korudu. Şirket, bir yıl önce yapılan araştırmada da Mühendislik/IT alanında en çok beğenilen şirket olmuştu. ASELSAN Yönetim Kurulu Başkanı ve Genel Müdürü Haluk Görgün araştırma sonucu ile ilgili yaptığı değerlendirmelerde, Türkiye’nin en çok çalışılmak istenen şirketi olmanın gurur verici olduğunu söyledi. \"Sadece Türkiye’nin en parlak gençlerini ASELSAN’a çekmek değil, aynı zamanda onların aşkla, sorumlulukla çalışacağı bir iklim yaratmak, sorumluluk hissettirmek ve her ASELSAN çalışanının, bu kültürün önemli bir mimarı olduğunun farkında olmasını sağlamak önceliklerimiz arasındadır. ASELSAN’da olmaktan gurur ve mutluluk duyan çalışanlarımız en güvenilir marka elçilerimizdir. İnsanı kaynak olarak görmekten ziyade bir kıymet olarak görüyor ve tüm çalışanlarımıza kıymetli oldukları duygusunu yerleştirmeye çalışıyoruz.\" Kaynak: AA'],\n",
       " 'label': [8, 0]}"
      ]
     },
     "execution_count": 27,
     "metadata": {},
     "output_type": "execute_result"
    }
   ],
   "source": [
    "train_dataset[:2]"
   ]
  },
  {
   "cell_type": "code",
   "execution_count": 28,
   "metadata": {
    "colab": {
     "base_uri": "https://localhost:8080/"
    },
    "id": "YxkV56bJus-3",
    "outputId": "9cc133ce-e0e3-40a2-c9d7-50038a3ddacf"
   },
   "outputs": [
    {
     "data": {
      "text/plain": [
       "Dataset({\n",
       "    features: ['text', 'label'],\n",
       "    num_rows: 28160\n",
       "})"
      ]
     },
     "execution_count": 28,
     "metadata": {},
     "output_type": "execute_result"
    }
   ],
   "source": [
    "train_dataset"
   ]
  },
  {
   "cell_type": "markdown",
   "metadata": {
    "id": "M6j7iLglsaZf"
   },
   "source": [
    "## Tokenization"
   ]
  },
  {
   "cell_type": "code",
   "execution_count": 29,
   "metadata": {
    "colab": {
     "base_uri": "https://localhost:8080/"
    },
    "id": "8QG2m5FwmbWW",
    "outputId": "53990471-b507-413e-9782-20469d1db7e8"
   },
   "outputs": [
    {
     "data": {
      "text/plain": [
       "{'input_ids': array([[    2, 25223, 17379,  9751,    35,     3,     0]]), 'token_type_ids': array([[0, 0, 0, 0, 0, 0, 0]]), 'attention_mask': array([[1, 1, 1, 1, 1, 1, 0]])}"
      ]
     },
     "execution_count": 29,
     "metadata": {},
     "output_type": "execute_result"
    }
   ],
   "source": [
    "sentence=\"How are you?\"\n",
    "\n",
    "tokenized_data = tokenizer(text=sentence,\n",
    "                           return_tensors=\"np\",\n",
    "                           padding=\"max_length\",\n",
    "                           truncation=True,\n",
    "                           max_length=7,\n",
    "                           add_special_tokens=True)\n",
    "tokenized_data"
   ]
  },
  {
   "cell_type": "code",
   "execution_count": 30,
   "metadata": {
    "colab": {
     "base_uri": "https://localhost:8080/",
     "height": 81,
     "referenced_widgets": [
      "859c7c768d6942c485cb96feb573c341",
      "210aab8f1f7a4b90a226563b0763f95a",
      "f19a594ff61e4cc795e6144428ac5809",
      "1a6995f8860c4df88637b1e20acc3ede",
      "456ee3b1983d460eacf9764e33bdb617",
      "173fc8103f1c43f9986ac998ee4ea6cc",
      "6ceeb419e6594ba2940589b362a1318d",
      "53d3f6cbb14f4097a4a12e654ef4fa19",
      "da8b2fb373a24ed3b0e6dc4c8ba50371",
      "fe55efe45cea421abd071c21c97edd21",
      "c5e1b7e4a782407497370a989f798927",
      "5c881243f6fe451abfd3196467651b5f",
      "3c979dc1e1ba4c1399c2282c458e8a68",
      "12da303c6915462abd546b6e306aa309",
      "230d32890cbf4417899fe47ba5f067eb",
      "e7ff8bbabb914e50b1c4a6ffbaddbf3f",
      "0e62a6ebd90044bdaf9ceb543e7a6189",
      "986ccab3e1e949f4b4e3b013b16d9e25",
      "92e96b0b0e0f48639e1059047612b5ba",
      "d77e5780e3504630a78f99fc3f4cdac0",
      "e073390e7b1b4a31aace4b52e7c120a4",
      "8a3903e6d8c341a385c88b8de375b42a"
     ]
    },
    "id": "7U8sTcfU-08b",
    "outputId": "3046583e-0efe-4335-c9af-de2e7b3b9ef4"
   },
   "outputs": [
    {
     "data": {
      "application/vnd.jupyter.widget-view+json": {
       "model_id": "91a5fb45f27a49898c0c0366967f6770",
       "version_major": 2,
       "version_minor": 0
      },
      "text/plain": [
       "Map:   0%|          | 0/28160 [00:00<?, ? examples/s]"
      ]
     },
     "metadata": {},
     "output_type": "display_data"
    },
    {
     "data": {
      "application/vnd.jupyter.widget-view+json": {
       "model_id": "d0a10138be874d03b507492772c3aa64",
       "version_major": 2,
       "version_minor": 0
      },
      "text/plain": [
       "Map:   0%|          | 0/7040 [00:00<?, ? examples/s]"
      ]
     },
     "metadata": {},
     "output_type": "display_data"
    }
   ],
   "source": [
    "from transformers import AutoTokenizer\n",
    "import numpy as np\n",
    "\n",
    "tokenizer = AutoTokenizer.from_pretrained(\"dbmdz/bert-base-turkish-uncased\")\n",
    "def transformation(examples):\n",
    "  seq=512\n",
    "  tokenized_data = tokenizer(text=examples[\"text\"],\n",
    "                             return_tensors=\"np\",\n",
    "                             padding=\"max_length\",\n",
    "                             truncation=True,\n",
    "                             max_length=seq,\n",
    "                             add_special_tokens=True)\n",
    "  return tokenized_data\n",
    "\n",
    "train_tokenized_data = train_dataset.map(transformation, batched=True)\n",
    "test_tokenized_data = test_dataset.map(transformation, batched=True)"
   ]
  },
  {
   "cell_type": "code",
   "execution_count": 31,
   "metadata": {
    "colab": {
     "base_uri": "https://localhost:8080/"
    },
    "id": "v8g8udLO4s3A",
    "outputId": "65715c95-ef16-4ce1-d54b-43dee35839d4"
   },
   "outputs": [
    {
     "data": {
      "text/plain": [
       "Dataset({\n",
       "    features: ['text', 'label', 'input_ids', 'token_type_ids', 'attention_mask'],\n",
       "    num_rows: 28160\n",
       "})"
      ]
     },
     "execution_count": 31,
     "metadata": {},
     "output_type": "execute_result"
    }
   ],
   "source": [
    "train_tokenized_data"
   ]
  },
  {
   "cell_type": "code",
   "execution_count": 32,
   "metadata": {
    "colab": {
     "base_uri": "https://localhost:8080/"
    },
    "id": "wprPHU-gCFkX",
    "outputId": "f4c07ec8-a1cb-42ff-f00c-7d03523c89b0"
   },
   "outputs": [
    {
     "data": {
      "text/plain": [
       "Dataset({\n",
       "    features: ['text', 'label', 'input_ids', 'token_type_ids', 'attention_mask'],\n",
       "    num_rows: 7040\n",
       "})"
      ]
     },
     "execution_count": 32,
     "metadata": {},
     "output_type": "execute_result"
    }
   ],
   "source": [
    "test_tokenized_data"
   ]
  },
  {
   "cell_type": "code",
   "execution_count": 33,
   "metadata": {
    "colab": {
     "base_uri": "https://localhost:8080/"
    },
    "id": "o7JP8W7ua492",
    "outputId": "059d0401-e0f0-4614-b8e7-dcf1df3b0612"
   },
   "outputs": [
    {
     "data": {
      "text/plain": [
       "[[2,\n",
       "  2488,\n",
       "  4866,\n",
       "  5794,\n",
       "  3339,\n",
       "  2194,\n",
       "  5093,\n",
       "  10542,\n",
       "  5112,\n",
       "  2106,\n",
       "  27927,\n",
       "  8423,\n",
       "  1977,\n",
       "  2132,\n",
       "  25237,\n",
       "  23216,\n",
       "  5794,\n",
       "  3339,\n",
       "  2194,\n",
       "  7789,\n",
       "  17784,\n",
       "  2697,\n",
       "  20562,\n",
       "  2177,\n",
       "  1986,\n",
       "  16,\n",
       "  2578,\n",
       "  1013,\n",
       "  13843,\n",
       "  7134,\n",
       "  11,\n",
       "  2757,\n",
       "  3146,\n",
       "  4365,\n",
       "  10487,\n",
       "  18029,\n",
       "  1012,\n",
       "  3073,\n",
       "  14343,\n",
       "  16,\n",
       "  18011,\n",
       "  9078,\n",
       "  1024,\n",
       "  14400,\n",
       "  14683,\n",
       "  1076,\n",
       "  5093,\n",
       "  10542,\n",
       "  5112,\n",
       "  2196,\n",
       "  3304,\n",
       "  2553,\n",
       "  17634,\n",
       "  2663,\n",
       "  2098,\n",
       "  2287,\n",
       "  1992,\n",
       "  20051,\n",
       "  21155,\n",
       "  27814,\n",
       "  1973,\n",
       "  6021,\n",
       "  4396,\n",
       "  2287,\n",
       "  3069,\n",
       "  4396,\n",
       "  18,\n",
       "  6021,\n",
       "  12377,\n",
       "  16,\n",
       "  9752,\n",
       "  2090,\n",
       "  30946,\n",
       "  12496,\n",
       "  2819,\n",
       "  2068,\n",
       "  2081,\n",
       "  4539,\n",
       "  17642,\n",
       "  1976,\n",
       "  6856,\n",
       "  2521,\n",
       "  16282,\n",
       "  1992,\n",
       "  9752,\n",
       "  1991,\n",
       "  22565,\n",
       "  1014,\n",
       "  21540,\n",
       "  3025,\n",
       "  18840,\n",
       "  6475,\n",
       "  2958,\n",
       "  6797,\n",
       "  18,\n",
       "  2312,\n",
       "  3791,\n",
       "  22138,\n",
       "  10779,\n",
       "  1992,\n",
       "  17319,\n",
       "  27814,\n",
       "  2365,\n",
       "  23,\n",
       "  7996,\n",
       "  3566,\n",
       "  2249,\n",
       "  11,\n",
       "  2108,\n",
       "  3231,\n",
       "  5865,\n",
       "  4470,\n",
       "  1023,\n",
       "  27010,\n",
       "  1975,\n",
       "  15931,\n",
       "  8238,\n",
       "  3347,\n",
       "  19912,\n",
       "  2654,\n",
       "  2616,\n",
       "  2098,\n",
       "  2287,\n",
       "  31604,\n",
       "  18,\n",
       "  3,\n",
       "  0,\n",
       "  0,\n",
       "  0,\n",
       "  0,\n",
       "  0,\n",
       "  0,\n",
       "  0,\n",
       "  0,\n",
       "  0,\n",
       "  0,\n",
       "  0,\n",
       "  0,\n",
       "  0,\n",
       "  0,\n",
       "  0,\n",
       "  0,\n",
       "  0,\n",
       "  0,\n",
       "  0,\n",
       "  0,\n",
       "  0,\n",
       "  0,\n",
       "  0,\n",
       "  0,\n",
       "  0,\n",
       "  0,\n",
       "  0,\n",
       "  0,\n",
       "  0,\n",
       "  0,\n",
       "  0,\n",
       "  0,\n",
       "  0,\n",
       "  0,\n",
       "  0,\n",
       "  0,\n",
       "  0,\n",
       "  0,\n",
       "  0,\n",
       "  0,\n",
       "  0,\n",
       "  0,\n",
       "  0,\n",
       "  0,\n",
       "  0,\n",
       "  0,\n",
       "  0,\n",
       "  0,\n",
       "  0,\n",
       "  0,\n",
       "  0,\n",
       "  0,\n",
       "  0,\n",
       "  0,\n",
       "  0,\n",
       "  0,\n",
       "  0,\n",
       "  0,\n",
       "  0,\n",
       "  0,\n",
       "  0,\n",
       "  0,\n",
       "  0,\n",
       "  0,\n",
       "  0,\n",
       "  0,\n",
       "  0,\n",
       "  0,\n",
       "  0,\n",
       "  0,\n",
       "  0,\n",
       "  0,\n",
       "  0,\n",
       "  0,\n",
       "  0,\n",
       "  0,\n",
       "  0,\n",
       "  0,\n",
       "  0,\n",
       "  0,\n",
       "  0,\n",
       "  0,\n",
       "  0,\n",
       "  0,\n",
       "  0,\n",
       "  0,\n",
       "  0,\n",
       "  0,\n",
       "  0,\n",
       "  0,\n",
       "  0,\n",
       "  0,\n",
       "  0,\n",
       "  0,\n",
       "  0,\n",
       "  0,\n",
       "  0,\n",
       "  0,\n",
       "  0,\n",
       "  0,\n",
       "  0,\n",
       "  0,\n",
       "  0,\n",
       "  0,\n",
       "  0,\n",
       "  0,\n",
       "  0,\n",
       "  0,\n",
       "  0,\n",
       "  0,\n",
       "  0,\n",
       "  0,\n",
       "  0,\n",
       "  0,\n",
       "  0,\n",
       "  0,\n",
       "  0,\n",
       "  0,\n",
       "  0,\n",
       "  0,\n",
       "  0,\n",
       "  0,\n",
       "  0,\n",
       "  0,\n",
       "  0,\n",
       "  0,\n",
       "  0,\n",
       "  0,\n",
       "  0,\n",
       "  0,\n",
       "  0,\n",
       "  0,\n",
       "  0,\n",
       "  0,\n",
       "  0,\n",
       "  0,\n",
       "  0,\n",
       "  0,\n",
       "  0,\n",
       "  0,\n",
       "  0,\n",
       "  0,\n",
       "  0,\n",
       "  0,\n",
       "  0,\n",
       "  0,\n",
       "  0,\n",
       "  0,\n",
       "  0,\n",
       "  0,\n",
       "  0,\n",
       "  0,\n",
       "  0,\n",
       "  0,\n",
       "  0,\n",
       "  0,\n",
       "  0,\n",
       "  0,\n",
       "  0,\n",
       "  0,\n",
       "  0,\n",
       "  0,\n",
       "  0,\n",
       "  0,\n",
       "  0,\n",
       "  0,\n",
       "  0,\n",
       "  0,\n",
       "  0,\n",
       "  0,\n",
       "  0,\n",
       "  0,\n",
       "  0,\n",
       "  0,\n",
       "  0,\n",
       "  0,\n",
       "  0,\n",
       "  0,\n",
       "  0,\n",
       "  0,\n",
       "  0,\n",
       "  0,\n",
       "  0,\n",
       "  0,\n",
       "  0,\n",
       "  0,\n",
       "  0,\n",
       "  0,\n",
       "  0,\n",
       "  0,\n",
       "  0,\n",
       "  0,\n",
       "  0,\n",
       "  0,\n",
       "  0,\n",
       "  0,\n",
       "  0,\n",
       "  0,\n",
       "  0,\n",
       "  0,\n",
       "  0,\n",
       "  0,\n",
       "  0,\n",
       "  0,\n",
       "  0,\n",
       "  0,\n",
       "  0,\n",
       "  0,\n",
       "  0,\n",
       "  0,\n",
       "  0,\n",
       "  0,\n",
       "  0,\n",
       "  0,\n",
       "  0,\n",
       "  0,\n",
       "  0,\n",
       "  0,\n",
       "  0,\n",
       "  0,\n",
       "  0,\n",
       "  0,\n",
       "  0,\n",
       "  0,\n",
       "  0,\n",
       "  0,\n",
       "  0,\n",
       "  0,\n",
       "  0,\n",
       "  0,\n",
       "  0,\n",
       "  0,\n",
       "  0,\n",
       "  0,\n",
       "  0,\n",
       "  0,\n",
       "  0,\n",
       "  0,\n",
       "  0,\n",
       "  0,\n",
       "  0,\n",
       "  0,\n",
       "  0,\n",
       "  0,\n",
       "  0,\n",
       "  0,\n",
       "  0,\n",
       "  0,\n",
       "  0,\n",
       "  0,\n",
       "  0,\n",
       "  0,\n",
       "  0,\n",
       "  0,\n",
       "  0,\n",
       "  0,\n",
       "  0,\n",
       "  0,\n",
       "  0,\n",
       "  0,\n",
       "  0,\n",
       "  0,\n",
       "  0,\n",
       "  0,\n",
       "  0,\n",
       "  0,\n",
       "  0,\n",
       "  0,\n",
       "  0,\n",
       "  0,\n",
       "  0,\n",
       "  0,\n",
       "  0,\n",
       "  0,\n",
       "  0,\n",
       "  0,\n",
       "  0,\n",
       "  0,\n",
       "  0,\n",
       "  0,\n",
       "  0,\n",
       "  0,\n",
       "  0,\n",
       "  0,\n",
       "  0,\n",
       "  0,\n",
       "  0,\n",
       "  0,\n",
       "  0,\n",
       "  0,\n",
       "  0,\n",
       "  0,\n",
       "  0,\n",
       "  0,\n",
       "  0,\n",
       "  0,\n",
       "  0,\n",
       "  0,\n",
       "  0,\n",
       "  0,\n",
       "  0,\n",
       "  0,\n",
       "  0,\n",
       "  0,\n",
       "  0,\n",
       "  0,\n",
       "  0,\n",
       "  0,\n",
       "  0,\n",
       "  0,\n",
       "  0,\n",
       "  0,\n",
       "  0,\n",
       "  0,\n",
       "  0,\n",
       "  0,\n",
       "  0,\n",
       "  0,\n",
       "  0,\n",
       "  0,\n",
       "  0,\n",
       "  0,\n",
       "  0,\n",
       "  0,\n",
       "  0,\n",
       "  0,\n",
       "  0,\n",
       "  0,\n",
       "  0,\n",
       "  0,\n",
       "  0,\n",
       "  0,\n",
       "  0,\n",
       "  0,\n",
       "  0,\n",
       "  0,\n",
       "  0,\n",
       "  0,\n",
       "  0,\n",
       "  0,\n",
       "  0,\n",
       "  0,\n",
       "  0,\n",
       "  0,\n",
       "  0,\n",
       "  0,\n",
       "  0,\n",
       "  0,\n",
       "  0,\n",
       "  0,\n",
       "  0,\n",
       "  0,\n",
       "  0,\n",
       "  0,\n",
       "  0,\n",
       "  0,\n",
       "  0,\n",
       "  0,\n",
       "  0,\n",
       "  0,\n",
       "  0,\n",
       "  0,\n",
       "  0,\n",
       "  0,\n",
       "  0,\n",
       "  0,\n",
       "  0,\n",
       "  0,\n",
       "  0,\n",
       "  0,\n",
       "  0,\n",
       "  0,\n",
       "  0,\n",
       "  0,\n",
       "  0,\n",
       "  0,\n",
       "  0,\n",
       "  0,\n",
       "  0,\n",
       "  0,\n",
       "  0,\n",
       "  0,\n",
       "  0,\n",
       "  0,\n",
       "  0,\n",
       "  0],\n",
       " [2,\n",
       "  2337,\n",
       "  28760,\n",
       "  6,\n",
       "  2112,\n",
       "  15197,\n",
       "  3276,\n",
       "  2578,\n",
       "  7305,\n",
       "  6,\n",
       "  8626,\n",
       "  2801,\n",
       "  2337,\n",
       "  28760,\n",
       "  11,\n",
       "  2858,\n",
       "  2697,\n",
       "  20562,\n",
       "  4162,\n",
       "  22906,\n",
       "  16,\n",
       "  2559,\n",
       "  2786,\n",
       "  2025,\n",
       "  3274,\n",
       "  23216,\n",
       "  485,\n",
       "  2527,\n",
       "  28712,\n",
       "  2200,\n",
       "  1992,\n",
       "  26341,\n",
       "  2216,\n",
       "  67,\n",
       "  5655,\n",
       "  12368,\n",
       "  1031,\n",
       "  8149,\n",
       "  2112,\n",
       "  15197,\n",
       "  3276,\n",
       "  2578,\n",
       "  7305,\n",
       "  1990,\n",
       "  3620,\n",
       "  31390,\n",
       "  2533,\n",
       "  4650,\n",
       "  2040,\n",
       "  20562,\n",
       "  3264,\n",
       "  18,\n",
       "  2559,\n",
       "  2786,\n",
       "  2025,\n",
       "  2461,\n",
       "  8946,\n",
       "  31461,\n",
       "  2349,\n",
       "  21,\n",
       "  16,\n",
       "  28,\n",
       "  3015,\n",
       "  18654,\n",
       "  2081,\n",
       "  2697,\n",
       "  2112,\n",
       "  15197,\n",
       "  3276,\n",
       "  2578,\n",
       "  7305,\n",
       "  3620,\n",
       "  31390,\n",
       "  2533,\n",
       "  11,\n",
       "  2757,\n",
       "  23216,\n",
       "  5136,\n",
       "  2958,\n",
       "  16,\n",
       "  26,\n",
       "  18,\n",
       "  2970,\n",
       "  7108,\n",
       "  16676,\n",
       "  3205,\n",
       "  7164,\n",
       "  2519,\n",
       "  23696,\n",
       "  28712,\n",
       "  2200,\n",
       "  1992,\n",
       "  5412,\n",
       "  23,\n",
       "  4009,\n",
       "  2578,\n",
       "  9396,\n",
       "  2164,\n",
       "  3312,\n",
       "  2519,\n",
       "  24875,\n",
       "  18654,\n",
       "  4961,\n",
       "  2026,\n",
       "  12131,\n",
       "  24812,\n",
       "  21953,\n",
       "  18,\n",
       "  3620,\n",
       "  31390,\n",
       "  16,\n",
       "  27136,\n",
       "  19447,\n",
       "  10556,\n",
       "  7741,\n",
       "  1038,\n",
       "  23216,\n",
       "  8040,\n",
       "  11,\n",
       "  2527,\n",
       "  3049,\n",
       "  2107,\n",
       "  1012,\n",
       "  12919,\n",
       "  16187,\n",
       "  18,\n",
       "  2337,\n",
       "  28760,\n",
       "  16,\n",
       "  3620,\n",
       "  31390,\n",
       "  1986,\n",
       "  5626,\n",
       "  16,\n",
       "  7705,\n",
       "  1992,\n",
       "  9150,\n",
       "  485,\n",
       "  63,\n",
       "  7890,\n",
       "  14546,\n",
       "  2428,\n",
       "  20554,\n",
       "  5805,\n",
       "  31191,\n",
       "  18,\n",
       "  22120,\n",
       "  16,\n",
       "  1993,\n",
       "  2169,\n",
       "  18333,\n",
       "  2697,\n",
       "  3620,\n",
       "  31390,\n",
       "  1986,\n",
       "  2020,\n",
       "  2935,\n",
       "  19379,\n",
       "  2013,\n",
       "  2110,\n",
       "  19,\n",
       "  3988,\n",
       "  4988,\n",
       "  2112,\n",
       "  6191,\n",
       "  30004,\n",
       "  2273,\n",
       "  22120,\n",
       "  29275,\n",
       "  3073,\n",
       "  18,\n",
       "  2337,\n",
       "  28760,\n",
       "  12578,\n",
       "  23739,\n",
       "  3353,\n",
       "  16647,\n",
       "  14964,\n",
       "  1992,\n",
       "  2513,\n",
       "  18498,\n",
       "  1013,\n",
       "  14909,\n",
       "  8273,\n",
       "  2698,\n",
       "  3620,\n",
       "  31390,\n",
       "  4161,\n",
       "  2081,\n",
       "  2564,\n",
       "  2612,\n",
       "  2958,\n",
       "  19912,\n",
       "  9775,\n",
       "  2603,\n",
       "  16,\n",
       "  23216,\n",
       "  485,\n",
       "  2527,\n",
       "  2112,\n",
       "  6191,\n",
       "  26341,\n",
       "  2533,\n",
       "  21015,\n",
       "  1984,\n",
       "  9311,\n",
       "  22120,\n",
       "  1023,\n",
       "  8188,\n",
       "  7190,\n",
       "  7561,\n",
       "  15204,\n",
       "  28576,\n",
       "  2016,\n",
       "  18,\n",
       "  6,\n",
       "  2623,\n",
       "  23216,\n",
       "  485,\n",
       "  2527,\n",
       "  2112,\n",
       "  7539,\n",
       "  18654,\n",
       "  2377,\n",
       "  2337,\n",
       "  28760,\n",
       "  485,\n",
       "  43,\n",
       "  15197,\n",
       "  2091,\n",
       "  10818,\n",
       "  16,\n",
       "  2619,\n",
       "  3459,\n",
       "  4439,\n",
       "  3234,\n",
       "  1971,\n",
       "  16,\n",
       "  5984,\n",
       "  1971,\n",
       "  26341,\n",
       "  2198,\n",
       "  2078,\n",
       "  2958,\n",
       "  1993,\n",
       "  9584,\n",
       "  12009,\n",
       "  16,\n",
       "  5984,\n",
       "  10387,\n",
       "  2091,\n",
       "  1992,\n",
       "  2156,\n",
       "  2337,\n",
       "  28760,\n",
       "  26341,\n",
       "  22205,\n",
       "  1976,\n",
       "  16,\n",
       "  2011,\n",
       "  2183,\n",
       "  3346,\n",
       "  1987,\n",
       "  12496,\n",
       "  8983,\n",
       "  1023,\n",
       "  1993,\n",
       "  26534,\n",
       "  15204,\n",
       "  1014,\n",
       "  5905,\n",
       "  5705,\n",
       "  9752,\n",
       "  3095,\n",
       "  18333,\n",
       "  8308,\n",
       "  2984,\n",
       "  1022,\n",
       "  14270,\n",
       "  18,\n",
       "  2337,\n",
       "  28760,\n",
       "  485,\n",
       "  2020,\n",
       "  7843,\n",
       "  7190,\n",
       "  1992,\n",
       "  7141,\n",
       "  12507,\n",
       "  26341,\n",
       "  2216,\n",
       "  2763,\n",
       "  2112,\n",
       "  6856,\n",
       "  11593,\n",
       "  2033,\n",
       "  1024,\n",
       "  4362,\n",
       "  2258,\n",
       "  11457,\n",
       "  2984,\n",
       "  1022,\n",
       "  2070,\n",
       "  18,\n",
       "  7122,\n",
       "  3226,\n",
       "  2137,\n",
       "  8273,\n",
       "  6717,\n",
       "  10784,\n",
       "  1993,\n",
       "  7467,\n",
       "  2137,\n",
       "  8273,\n",
       "  2464,\n",
       "  1992,\n",
       "  21155,\n",
       "  26341,\n",
       "  2216,\n",
       "  6029,\n",
       "  12257,\n",
       "  6240,\n",
       "  23592,\n",
       "  13176,\n",
       "  19633,\n",
       "  2663,\n",
       "  26341,\n",
       "  2533,\n",
       "  8538,\n",
       "  18,\n",
       "  6,\n",
       "  3226,\n",
       "  30,\n",
       "  7988,\n",
       "  3,\n",
       "  0,\n",
       "  0,\n",
       "  0,\n",
       "  0,\n",
       "  0,\n",
       "  0,\n",
       "  0,\n",
       "  0,\n",
       "  0,\n",
       "  0,\n",
       "  0,\n",
       "  0,\n",
       "  0,\n",
       "  0,\n",
       "  0,\n",
       "  0,\n",
       "  0,\n",
       "  0,\n",
       "  0,\n",
       "  0,\n",
       "  0,\n",
       "  0,\n",
       "  0,\n",
       "  0,\n",
       "  0,\n",
       "  0,\n",
       "  0,\n",
       "  0,\n",
       "  0,\n",
       "  0,\n",
       "  0,\n",
       "  0,\n",
       "  0,\n",
       "  0,\n",
       "  0,\n",
       "  0,\n",
       "  0,\n",
       "  0,\n",
       "  0,\n",
       "  0,\n",
       "  0,\n",
       "  0,\n",
       "  0,\n",
       "  0,\n",
       "  0,\n",
       "  0,\n",
       "  0,\n",
       "  0,\n",
       "  0,\n",
       "  0,\n",
       "  0,\n",
       "  0,\n",
       "  0,\n",
       "  0,\n",
       "  0,\n",
       "  0,\n",
       "  0,\n",
       "  0,\n",
       "  0,\n",
       "  0,\n",
       "  0,\n",
       "  0,\n",
       "  0,\n",
       "  0,\n",
       "  0,\n",
       "  0,\n",
       "  0,\n",
       "  0,\n",
       "  0,\n",
       "  0,\n",
       "  0,\n",
       "  0,\n",
       "  0,\n",
       "  0,\n",
       "  0,\n",
       "  0,\n",
       "  0,\n",
       "  0,\n",
       "  0,\n",
       "  0,\n",
       "  0,\n",
       "  0,\n",
       "  0,\n",
       "  0,\n",
       "  0,\n",
       "  0,\n",
       "  0,\n",
       "  0,\n",
       "  0,\n",
       "  0,\n",
       "  0,\n",
       "  0,\n",
       "  0,\n",
       "  0,\n",
       "  0,\n",
       "  0,\n",
       "  0,\n",
       "  0,\n",
       "  0,\n",
       "  0,\n",
       "  0,\n",
       "  0,\n",
       "  0,\n",
       "  0,\n",
       "  0,\n",
       "  0,\n",
       "  0,\n",
       "  0,\n",
       "  0,\n",
       "  0,\n",
       "  0,\n",
       "  0,\n",
       "  0,\n",
       "  0,\n",
       "  0,\n",
       "  0,\n",
       "  0,\n",
       "  0,\n",
       "  0,\n",
       "  0,\n",
       "  0,\n",
       "  0,\n",
       "  0,\n",
       "  0,\n",
       "  0,\n",
       "  0,\n",
       "  0,\n",
       "  0,\n",
       "  0,\n",
       "  0,\n",
       "  0,\n",
       "  0,\n",
       "  0,\n",
       "  0,\n",
       "  0,\n",
       "  0,\n",
       "  0,\n",
       "  0,\n",
       "  0,\n",
       "  0,\n",
       "  0,\n",
       "  0,\n",
       "  0,\n",
       "  0,\n",
       "  0,\n",
       "  0,\n",
       "  0,\n",
       "  0,\n",
       "  0,\n",
       "  0,\n",
       "  0,\n",
       "  0,\n",
       "  0,\n",
       "  0,\n",
       "  0,\n",
       "  0,\n",
       "  0,\n",
       "  0,\n",
       "  0,\n",
       "  0,\n",
       "  0,\n",
       "  0,\n",
       "  0,\n",
       "  0,\n",
       "  0,\n",
       "  0,\n",
       "  0,\n",
       "  0,\n",
       "  0,\n",
       "  0,\n",
       "  0,\n",
       "  0,\n",
       "  0,\n",
       "  0,\n",
       "  0,\n",
       "  0,\n",
       "  0]]"
      ]
     },
     "execution_count": 33,
     "metadata": {},
     "output_type": "execute_result"
    }
   ],
   "source": [
    "train_tokenized_data[\"input_ids\"][:2]"
   ]
  },
  {
   "cell_type": "markdown",
   "metadata": {
    "id": "56G9dPPIsl5Z"
   },
   "source": [
    "## Create Optimizer and Training with TPU Cores"
   ]
  },
  {
   "cell_type": "code",
   "execution_count": 34,
   "metadata": {
    "colab": {
     "base_uri": "https://localhost:8080/"
    },
    "id": "dKpw9bjHtC3t",
    "outputId": "fa8fd1aa-da28-4b6d-c69c-964dc9f85b26"
   },
   "outputs": [
    {
     "data": {
      "text/plain": [
       "880"
      ]
     },
     "execution_count": 34,
     "metadata": {},
     "output_type": "execute_result"
    }
   ],
   "source": [
    "len(train_tokenized_data[\"input_ids\"])//32"
   ]
  },
  {
   "cell_type": "code",
   "execution_count": 35,
   "metadata": {
    "id": "5RxVvBMG66fX"
   },
   "outputs": [],
   "source": [
    "from transformers import create_optimizer\n",
    "\n",
    "batch_size = 32 # 16\n",
    "num_train_epochs = 2 # 3, 4\n",
    "num_train_steps = (len(train_tokenized_data[\"input_ids\"]) // batch_size) * num_train_epochs\n",
    "optimizer, lr_schedule = create_optimizer(\n",
    "                                          init_lr=2e-5, #3e-5, 5e-5\n",
    "                                          num_train_steps=num_train_steps,\n",
    "                                          weight_decay_rate=0.01, # Ağırlık küçülme oranı\n",
    "                                          num_warmup_steps=0.1) ## Isınma adımları sayısı"
   ]
  },
  {
   "cell_type": "code",
   "execution_count": 36,
   "metadata": {
    "colab": {
     "base_uri": "https://localhost:8080/"
    },
    "id": "0etNywV9Yctz",
    "outputId": "609b648c-ff9d-4e16-a2d5-1c2b26f1e42f"
   },
   "outputs": [
    {
     "data": {
      "text/plain": [
       "<transformers.optimization_tf.AdamWeightDecay at 0x2833e6a3ee0>"
      ]
     },
     "execution_count": 36,
     "metadata": {},
     "output_type": "execute_result"
    }
   ],
   "source": [
    "optimizer"
   ]
  },
  {
   "cell_type": "code",
   "execution_count": 37,
   "metadata": {
    "colab": {
     "base_uri": "https://localhost:8080/"
    },
    "id": "qPWeCB9uYpo6",
    "outputId": "014c4e1a-c2f0-432e-958c-afd26b34f960"
   },
   "outputs": [
    {
     "data": {
      "text/plain": [
       "{'initial_learning_rate': 2e-05,\n",
       " 'decay_schedule_fn': <keras.src.optimizers.schedules.learning_rate_schedule.PolynomialDecay at 0x2833e6a3fa0>,\n",
       " 'warmup_steps': 0.1,\n",
       " 'power': 1.0,\n",
       " 'name': None}"
      ]
     },
     "execution_count": 37,
     "metadata": {},
     "output_type": "execute_result"
    }
   ],
   "source": [
    "lr_schedule.get_config()"
   ]
  },
  {
   "cell_type": "code",
   "execution_count": 38,
   "metadata": {
    "colab": {
     "base_uri": "https://localhost:8080/"
    },
    "id": "QaUgvkAO746o",
    "outputId": "79610878-dbbc-4f05-fbb9-324d722aeac9"
   },
   "outputs": [
    {
     "data": {
      "text/plain": [
       "{'name': 'AdamWeightDecay',\n",
       " 'learning_rate': {'module': 'transformers.optimization_tf',\n",
       "  'class_name': 'WarmUp',\n",
       "  'config': {'initial_learning_rate': 2e-05,\n",
       "   'decay_schedule_fn': {'module': 'keras.optimizers.schedules',\n",
       "    'class_name': 'PolynomialDecay',\n",
       "    'config': {'initial_learning_rate': 2e-05,\n",
       "     'decay_steps': 1759.9,\n",
       "     'end_learning_rate': 0.0,\n",
       "     'power': 1.0,\n",
       "     'cycle': False,\n",
       "     'name': None},\n",
       "    'registered_name': None},\n",
       "   'warmup_steps': 0.1,\n",
       "   'power': 1.0,\n",
       "   'name': None},\n",
       "  'registered_name': 'WarmUp'},\n",
       " 'decay': 0.0,\n",
       " 'beta_1': 0.9,\n",
       " 'beta_2': 0.999,\n",
       " 'epsilon': 1e-08,\n",
       " 'amsgrad': False,\n",
       " 'weight_decay_rate': 0.01}"
      ]
     },
     "execution_count": 38,
     "metadata": {},
     "output_type": "execute_result"
    }
   ],
   "source": [
    "optimizer.get_config()"
   ]
  },
  {
   "cell_type": "code",
   "execution_count": 40,
   "metadata": {
    "colab": {
     "base_uri": "https://localhost:8080/",
     "height": 138,
     "referenced_widgets": [
      "199ef1cf0306454a8535a2ba46e9f63c",
      "f90a32dd321b43c28e37245e9a81dd16",
      "df5428edc3a949f090f98b1636ab61b4",
      "b97c4a546c5e4807882beeb9365358fd",
      "b25d223a9ac64cf9b296ea5066c575ce",
      "d854d2e94c2a4baa837de4138262e461",
      "4a9b2f0b89fd44ae9d6d011e6edad0b2",
      "80ddbb668ce045e7b39f1bf6162d43d9",
      "4e11a7b52f1d47f8975daea72273f7aa",
      "2e76bf3c9abd4703b982d927928b3cf0",
      "e8d68fc4edd6406abc9461df4dfef7c1"
     ]
    },
    "id": "wZ_S5FzZLg45",
    "outputId": "9835cfae-064f-478a-dbca-3b5fd78859dc"
   },
   "outputs": [
    {
     "name": "stderr",
     "output_type": "stream",
     "text": [
      "All model checkpoint layers were used when initializing TFBertForSequenceClassification.\n",
      "\n",
      "Some layers of TFBertForSequenceClassification were not initialized from the model checkpoint at dbmdz/bert-base-turkish-uncased and are newly initialized: ['classifier']\n",
      "You should probably TRAIN this model on a down-stream task to be able to use it for predictions and inference.\n"
     ]
    }
   ],
   "source": [
    "#with tpu_strategy.scope():\n",
    "\n",
    "from transformers import TFAutoModelForSequenceClassification\n",
    "\n",
    "    #from tensorflow.keras.optimizers import AdamW\n",
    "    #from tensorflow.keras.losses import BinaryCrossentropy, CategoricalCrossentropy, SparseCategoricalCrossentropy\n",
    "\n",
    "    # Load and compile our model\n",
    "model = TFAutoModelForSequenceClassification.from_pretrained(\"dbmdz/bert-base-turkish-uncased\",\n",
    "                                                                 num_labels=11)\n",
    "    #loss=CategoricalCrossentropy(from_logits=True, reduction=tf.keras.losses.ReductionV2.NONE\n",
    "    # loss= SparseCategoricalCrossentropy(from_logits=True, reduction=tf.keras.losses.ReductionV2.NONE)\n",
    "\n",
    "\n",
    "model.compile(optimizer=optimizer, metrics=[\"accuracy\"])  # No loss argument!"
   ]
  },
  {
   "cell_type": "code",
   "execution_count": 41,
   "metadata": {
    "id": "xLfUaMW0CNYn"
   },
   "outputs": [],
   "source": [
    "tf_dataset_train = model.prepare_tf_dataset(train_tokenized_data, batch_size=32, shuffle=False)\n",
    "tf_dataset_test = model.prepare_tf_dataset(test_tokenized_data, batch_size=32, shuffle=False)"
   ]
  },
  {
   "cell_type": "code",
   "execution_count": 42,
   "metadata": {
    "colab": {
     "base_uri": "https://localhost:8080/"
    },
    "id": "ohk7VaVxRC-s",
    "outputId": "2b897548-ad95-424c-dbb3-e3e34ea6b808"
   },
   "outputs": [
    {
     "data": {
      "text/plain": [
       "<_PrefetchDataset element_spec=({'input_ids': TensorSpec(shape=(None, 512), dtype=tf.int64, name=None), 'token_type_ids': TensorSpec(shape=(None, 512), dtype=tf.int64, name=None), 'attention_mask': TensorSpec(shape=(None, 512), dtype=tf.int64, name=None)}, TensorSpec(shape=(None,), dtype=tf.float32, name=None))>"
      ]
     },
     "execution_count": 42,
     "metadata": {},
     "output_type": "execute_result"
    }
   ],
   "source": [
    "tf_dataset_train"
   ]
  },
  {
   "cell_type": "code",
   "execution_count": null,
   "metadata": {
    "colab": {
     "base_uri": "https://localhost:8080/"
    },
    "id": "OjCXXLCk_Yq-",
    "outputId": "f5121399-e1cf-4331-b048-76f186898799"
   },
   "outputs": [
    {
     "name": "stdout",
     "output_type": "stream",
     "text": [
      "Epoch 1/2\n"
     ]
    }
   ],
   "source": [
    "model.fit(tf_dataset_train,\n",
    "          validation_data=(tf_dataset_test),\n",
    "          epochs=num_train_epochs) #class_weight={0:1, 1:1, 2:1, 3:1, 4:1, 5:1, 6:1, 7:1, 8:1, 9:1, 10:1}"
   ]
  },
  {
   "cell_type": "code",
   "execution_count": null,
   "metadata": {
    "colab": {
     "base_uri": "https://localhost:8080/"
    },
    "id": "6EyepEozg--G",
    "outputId": "b4e49f0c-aa1e-46c2-9574-53b6e4daeb90"
   },
   "outputs": [
    {
     "name": "stdout",
     "output_type": "stream",
     "text": [
      "Model: \"tf_bert_for_sequence_classification\"\n",
      "_________________________________________________________________\n",
      " Layer (type)                Output Shape              Param #   \n",
      "=================================================================\n",
      " bert (TFBertMainLayer)      multiple                  110617344 \n",
      "                                                                 \n",
      " dropout_37 (Dropout)        multiple                  0         \n",
      "                                                                 \n",
      " classifier (Dense)          multiple                  8459      \n",
      "                                                                 \n",
      "=================================================================\n",
      "Total params: 110625803 (422.00 MB)\n",
      "Trainable params: 110625803 (422.00 MB)\n",
      "Non-trainable params: 0 (0.00 Byte)\n",
      "_________________________________________________________________\n"
     ]
    }
   ],
   "source": [
    "model.summary()"
   ]
  },
  {
   "cell_type": "markdown",
   "metadata": {
    "id": "Czk7NGfYvjN9"
   },
   "source": [
    "## Evaluation"
   ]
  },
  {
   "cell_type": "code",
   "execution_count": null,
   "metadata": {
    "colab": {
     "base_uri": "https://localhost:8080/",
     "height": 112
    },
    "id": "dzETF4xOA1_e",
    "outputId": "60dd1f48-5e7f-450d-a558-736454db5d49"
   },
   "outputs": [
    {
     "data": {
      "application/vnd.google.colaboratory.intrinsic+json": {
       "summary": "{\n  \"name\": \"model_loss\",\n  \"rows\": 2,\n  \"fields\": [\n    {\n      \"column\": \"loss\",\n      \"properties\": {\n        \"dtype\": \"number\",\n        \"std\": 0.22850976020763675,\n        \"min\": 0.41913747787475586,\n        \"max\": 0.7422990798950195,\n        \"num_unique_values\": 2,\n        \"samples\": [\n          0.41913747787475586,\n          0.7422990798950195\n        ],\n        \"semantic_type\": \"\",\n        \"description\": \"\"\n      }\n    },\n    {\n      \"column\": \"accuracy\",\n      \"properties\": {\n        \"dtype\": \"number\",\n        \"std\": 0.06892784113853483,\n        \"min\": 0.7644886374473572,\n        \"max\": 0.8619673252105713,\n        \"num_unique_values\": 2,\n        \"samples\": [\n          0.8619673252105713,\n          0.7644886374473572\n        ],\n        \"semantic_type\": \"\",\n        \"description\": \"\"\n      }\n    },\n    {\n      \"column\": \"val_loss\",\n      \"properties\": {\n        \"dtype\": \"number\",\n        \"std\": 0.025164092004793113,\n        \"min\": 0.4752486050128937,\n        \"max\": 0.5108360052108765,\n        \"num_unique_values\": 2,\n        \"samples\": [\n          0.4752486050128937,\n          0.5108360052108765\n        ],\n        \"semantic_type\": \"\",\n        \"description\": \"\"\n      }\n    },\n    {\n      \"column\": \"val_accuracy\",\n      \"properties\": {\n        \"dtype\": \"number\",\n        \"std\": 0.006729545154885939,\n        \"min\": 0.8288352489471436,\n        \"max\": 0.8383522629737854,\n        \"num_unique_values\": 2,\n        \"samples\": [\n          0.8383522629737854,\n          0.8288352489471436\n        ],\n        \"semantic_type\": \"\",\n        \"description\": \"\"\n      }\n    }\n  ]\n}",
       "type": "dataframe",
       "variable_name": "model_loss"
      },
      "text/html": [
       "\n",
       "  <div id=\"df-8da4b907-9b3b-4d6d-966a-1aeb0b887945\" class=\"colab-df-container\">\n",
       "    <div>\n",
       "<style scoped>\n",
       "    .dataframe tbody tr th:only-of-type {\n",
       "        vertical-align: middle;\n",
       "    }\n",
       "\n",
       "    .dataframe tbody tr th {\n",
       "        vertical-align: top;\n",
       "    }\n",
       "\n",
       "    .dataframe thead th {\n",
       "        text-align: right;\n",
       "    }\n",
       "</style>\n",
       "<table border=\"1\" class=\"dataframe\">\n",
       "  <thead>\n",
       "    <tr style=\"text-align: right;\">\n",
       "      <th></th>\n",
       "      <th>loss</th>\n",
       "      <th>accuracy</th>\n",
       "      <th>val_loss</th>\n",
       "      <th>val_accuracy</th>\n",
       "    </tr>\n",
       "  </thead>\n",
       "  <tbody>\n",
       "    <tr>\n",
       "      <th>0</th>\n",
       "      <td>0.742299</td>\n",
       "      <td>0.764489</td>\n",
       "      <td>0.510836</td>\n",
       "      <td>0.828835</td>\n",
       "    </tr>\n",
       "    <tr>\n",
       "      <th>1</th>\n",
       "      <td>0.419137</td>\n",
       "      <td>0.861967</td>\n",
       "      <td>0.475249</td>\n",
       "      <td>0.838352</td>\n",
       "    </tr>\n",
       "  </tbody>\n",
       "</table>\n",
       "</div>\n",
       "    <div class=\"colab-df-buttons\">\n",
       "\n",
       "  <div class=\"colab-df-container\">\n",
       "    <button class=\"colab-df-convert\" onclick=\"convertToInteractive('df-8da4b907-9b3b-4d6d-966a-1aeb0b887945')\"\n",
       "            title=\"Convert this dataframe to an interactive table.\"\n",
       "            style=\"display:none;\">\n",
       "\n",
       "  <svg xmlns=\"http://www.w3.org/2000/svg\" height=\"24px\" viewBox=\"0 -960 960 960\">\n",
       "    <path d=\"M120-120v-720h720v720H120Zm60-500h600v-160H180v160Zm220 220h160v-160H400v160Zm0 220h160v-160H400v160ZM180-400h160v-160H180v160Zm440 0h160v-160H620v160ZM180-180h160v-160H180v160Zm440 0h160v-160H620v160Z\"/>\n",
       "  </svg>\n",
       "    </button>\n",
       "\n",
       "  <style>\n",
       "    .colab-df-container {\n",
       "      display:flex;\n",
       "      gap: 12px;\n",
       "    }\n",
       "\n",
       "    .colab-df-convert {\n",
       "      background-color: #E8F0FE;\n",
       "      border: none;\n",
       "      border-radius: 50%;\n",
       "      cursor: pointer;\n",
       "      display: none;\n",
       "      fill: #1967D2;\n",
       "      height: 32px;\n",
       "      padding: 0 0 0 0;\n",
       "      width: 32px;\n",
       "    }\n",
       "\n",
       "    .colab-df-convert:hover {\n",
       "      background-color: #E2EBFA;\n",
       "      box-shadow: 0px 1px 2px rgba(60, 64, 67, 0.3), 0px 1px 3px 1px rgba(60, 64, 67, 0.15);\n",
       "      fill: #174EA6;\n",
       "    }\n",
       "\n",
       "    .colab-df-buttons div {\n",
       "      margin-bottom: 4px;\n",
       "    }\n",
       "\n",
       "    [theme=dark] .colab-df-convert {\n",
       "      background-color: #3B4455;\n",
       "      fill: #D2E3FC;\n",
       "    }\n",
       "\n",
       "    [theme=dark] .colab-df-convert:hover {\n",
       "      background-color: #434B5C;\n",
       "      box-shadow: 0px 1px 3px 1px rgba(0, 0, 0, 0.15);\n",
       "      filter: drop-shadow(0px 1px 2px rgba(0, 0, 0, 0.3));\n",
       "      fill: #FFFFFF;\n",
       "    }\n",
       "  </style>\n",
       "\n",
       "    <script>\n",
       "      const buttonEl =\n",
       "        document.querySelector('#df-8da4b907-9b3b-4d6d-966a-1aeb0b887945 button.colab-df-convert');\n",
       "      buttonEl.style.display =\n",
       "        google.colab.kernel.accessAllowed ? 'block' : 'none';\n",
       "\n",
       "      async function convertToInteractive(key) {\n",
       "        const element = document.querySelector('#df-8da4b907-9b3b-4d6d-966a-1aeb0b887945');\n",
       "        const dataTable =\n",
       "          await google.colab.kernel.invokeFunction('convertToInteractive',\n",
       "                                                    [key], {});\n",
       "        if (!dataTable) return;\n",
       "\n",
       "        const docLinkHtml = 'Like what you see? Visit the ' +\n",
       "          '<a target=\"_blank\" href=https://colab.research.google.com/notebooks/data_table.ipynb>data table notebook</a>'\n",
       "          + ' to learn more about interactive tables.';\n",
       "        element.innerHTML = '';\n",
       "        dataTable['output_type'] = 'display_data';\n",
       "        await google.colab.output.renderOutput(dataTable, element);\n",
       "        const docLink = document.createElement('div');\n",
       "        docLink.innerHTML = docLinkHtml;\n",
       "        element.appendChild(docLink);\n",
       "      }\n",
       "    </script>\n",
       "  </div>\n",
       "\n",
       "\n",
       "<div id=\"df-385bb26a-5e1e-4b2c-a10a-ee9e5dab2c5b\">\n",
       "  <button class=\"colab-df-quickchart\" onclick=\"quickchart('df-385bb26a-5e1e-4b2c-a10a-ee9e5dab2c5b')\"\n",
       "            title=\"Suggest charts\"\n",
       "            style=\"display:none;\">\n",
       "\n",
       "<svg xmlns=\"http://www.w3.org/2000/svg\" height=\"24px\"viewBox=\"0 0 24 24\"\n",
       "     width=\"24px\">\n",
       "    <g>\n",
       "        <path d=\"M19 3H5c-1.1 0-2 .9-2 2v14c0 1.1.9 2 2 2h14c1.1 0 2-.9 2-2V5c0-1.1-.9-2-2-2zM9 17H7v-7h2v7zm4 0h-2V7h2v10zm4 0h-2v-4h2v4z\"/>\n",
       "    </g>\n",
       "</svg>\n",
       "  </button>\n",
       "\n",
       "<style>\n",
       "  .colab-df-quickchart {\n",
       "      --bg-color: #E8F0FE;\n",
       "      --fill-color: #1967D2;\n",
       "      --hover-bg-color: #E2EBFA;\n",
       "      --hover-fill-color: #174EA6;\n",
       "      --disabled-fill-color: #AAA;\n",
       "      --disabled-bg-color: #DDD;\n",
       "  }\n",
       "\n",
       "  [theme=dark] .colab-df-quickchart {\n",
       "      --bg-color: #3B4455;\n",
       "      --fill-color: #D2E3FC;\n",
       "      --hover-bg-color: #434B5C;\n",
       "      --hover-fill-color: #FFFFFF;\n",
       "      --disabled-bg-color: #3B4455;\n",
       "      --disabled-fill-color: #666;\n",
       "  }\n",
       "\n",
       "  .colab-df-quickchart {\n",
       "    background-color: var(--bg-color);\n",
       "    border: none;\n",
       "    border-radius: 50%;\n",
       "    cursor: pointer;\n",
       "    display: none;\n",
       "    fill: var(--fill-color);\n",
       "    height: 32px;\n",
       "    padding: 0;\n",
       "    width: 32px;\n",
       "  }\n",
       "\n",
       "  .colab-df-quickchart:hover {\n",
       "    background-color: var(--hover-bg-color);\n",
       "    box-shadow: 0 1px 2px rgba(60, 64, 67, 0.3), 0 1px 3px 1px rgba(60, 64, 67, 0.15);\n",
       "    fill: var(--button-hover-fill-color);\n",
       "  }\n",
       "\n",
       "  .colab-df-quickchart-complete:disabled,\n",
       "  .colab-df-quickchart-complete:disabled:hover {\n",
       "    background-color: var(--disabled-bg-color);\n",
       "    fill: var(--disabled-fill-color);\n",
       "    box-shadow: none;\n",
       "  }\n",
       "\n",
       "  .colab-df-spinner {\n",
       "    border: 2px solid var(--fill-color);\n",
       "    border-color: transparent;\n",
       "    border-bottom-color: var(--fill-color);\n",
       "    animation:\n",
       "      spin 1s steps(1) infinite;\n",
       "  }\n",
       "\n",
       "  @keyframes spin {\n",
       "    0% {\n",
       "      border-color: transparent;\n",
       "      border-bottom-color: var(--fill-color);\n",
       "      border-left-color: var(--fill-color);\n",
       "    }\n",
       "    20% {\n",
       "      border-color: transparent;\n",
       "      border-left-color: var(--fill-color);\n",
       "      border-top-color: var(--fill-color);\n",
       "    }\n",
       "    30% {\n",
       "      border-color: transparent;\n",
       "      border-left-color: var(--fill-color);\n",
       "      border-top-color: var(--fill-color);\n",
       "      border-right-color: var(--fill-color);\n",
       "    }\n",
       "    40% {\n",
       "      border-color: transparent;\n",
       "      border-right-color: var(--fill-color);\n",
       "      border-top-color: var(--fill-color);\n",
       "    }\n",
       "    60% {\n",
       "      border-color: transparent;\n",
       "      border-right-color: var(--fill-color);\n",
       "    }\n",
       "    80% {\n",
       "      border-color: transparent;\n",
       "      border-right-color: var(--fill-color);\n",
       "      border-bottom-color: var(--fill-color);\n",
       "    }\n",
       "    90% {\n",
       "      border-color: transparent;\n",
       "      border-bottom-color: var(--fill-color);\n",
       "    }\n",
       "  }\n",
       "</style>\n",
       "\n",
       "  <script>\n",
       "    async function quickchart(key) {\n",
       "      const quickchartButtonEl =\n",
       "        document.querySelector('#' + key + ' button');\n",
       "      quickchartButtonEl.disabled = true;  // To prevent multiple clicks.\n",
       "      quickchartButtonEl.classList.add('colab-df-spinner');\n",
       "      try {\n",
       "        const charts = await google.colab.kernel.invokeFunction(\n",
       "            'suggestCharts', [key], {});\n",
       "      } catch (error) {\n",
       "        console.error('Error during call to suggestCharts:', error);\n",
       "      }\n",
       "      quickchartButtonEl.classList.remove('colab-df-spinner');\n",
       "      quickchartButtonEl.classList.add('colab-df-quickchart-complete');\n",
       "    }\n",
       "    (() => {\n",
       "      let quickchartButtonEl =\n",
       "        document.querySelector('#df-385bb26a-5e1e-4b2c-a10a-ee9e5dab2c5b button');\n",
       "      quickchartButtonEl.style.display =\n",
       "        google.colab.kernel.accessAllowed ? 'block' : 'none';\n",
       "    })();\n",
       "  </script>\n",
       "</div>\n",
       "\n",
       "    </div>\n",
       "  </div>\n"
      ],
      "text/plain": [
       "       loss  accuracy  val_loss  val_accuracy\n",
       "0  0.742299  0.764489  0.510836      0.828835\n",
       "1  0.419137  0.861967  0.475249      0.838352"
      ]
     },
     "execution_count": 45,
     "metadata": {},
     "output_type": "execute_result"
    }
   ],
   "source": [
    "model_loss = pd.DataFrame(model.history.history)\n",
    "model_loss.head()"
   ]
  },
  {
   "cell_type": "code",
   "execution_count": null,
   "metadata": {
    "colab": {
     "base_uri": "https://localhost:8080/",
     "height": 447
    },
    "id": "kC0FCOT8A2Ge",
    "outputId": "1d85f7b3-0883-4359-e38d-ed2eb8f7feca"
   },
   "outputs": [
    {
     "data": {
      "text/plain": [
       "<Axes: >"
      ]
     },
     "execution_count": 46,
     "metadata": {},
     "output_type": "execute_result"
    },
    {
     "data": {
      "image/png": "[encoded data removed]",
      "text/plain": [
       "<Figure size 640x480 with 1 Axes>"
      ]
     },
     "metadata": {},
     "output_type": "display_data"
    }
   ],
   "source": [
    "model_loss.plot()"
   ]
  },
  {
   "cell_type": "code",
   "execution_count": null,
   "metadata": {
    "id": "kPaz01p8A2M9"
   },
   "outputs": [],
   "source": []
  },
  {
   "cell_type": "markdown",
   "metadata": {
    "id": "Dm5Y0iD_dfR8"
   },
   "source": [
    "\"Logits\" terimi, derin öğrenme modelleri ve sinir ağlarında sıkça kullanılan bir terimdir. Logits, modelin son katmanından çıkan, genellikle bir doğrusal dönüşüm ve bir aktivasyon fonksiyonundan önceki ham puanları ifade eder.\n",
    "\n",
    "Bir sınıflandırma probleminde, logits çıktıları genellikle aşağıdaki gibi yorumlanır:\n",
    "\n",
    "- **Çok sınıflı sınıflandırma**: Modelin farklı sınıflar için hesapladığı ham puanlar. Bu puanlar, genellikle softmax fonksiyonu uygulanarak olasılıklara dönüştürülür.\n",
    "- **İkili sınıflandırma**: İki sınıf arasındaki karar sınırını belirlemek için kullanılan ham puanlar. Bu puanlar, sigmoid fonksiyonu ile olasılıklara dönüştürülür.\n",
    "\n",
    "Logits değerlerini anlamak için şu adımları izleyebilirsiniz:\n",
    "1. **Softmax Uygulama**: Logits değerlerini olasılıklara dönüştürmek için softmax fonksiyonunu kullanabilirsiniz. Bu, her sınıf için olasılıkların toplamının 1 olmasını sağlar.\n",
    "2. **Tahmin**: En yüksek olasılığa sahip sınıf, modelin tahmini olarak seçilir."
   ]
  },
  {
   "cell_type": "code",
   "execution_count": null,
   "metadata": {
    "colab": {
     "base_uri": "https://localhost:8080/"
    },
    "id": "I2g6BnkzA2TE",
    "outputId": "190eeff7-dd26-4665-eb3b-72e635e78a2e"
   },
   "outputs": [
    {
     "name": "stdout",
     "output_type": "stream",
     "text": [
      "220/220 [==============================] - 28s 51ms/step\n"
     ]
    },
    {
     "data": {
      "text/plain": [
       "TFSequenceClassifierOutput(loss=None, logits=array([[ 1.902519  , -1.4041461 , -1.210919  , ..., -1.5722222 ,\n",
       "        -0.6070261 , -1.1696025 ],\n",
       "       [-2.0681946 , -2.16789   , -0.8063055 , ..., -1.0346589 ,\n",
       "         4.56914   ,  0.6553669 ],\n",
       "       [-2.079856  , -1.599564  , -1.969153  , ..., -0.6807391 ,\n",
       "         5.361852  ,  1.1964666 ],\n",
       "       ...,\n",
       "       [ 3.046841  , -1.4736618 , -1.3997656 , ..., -1.0977323 ,\n",
       "        -0.20139217, -1.2735561 ],\n",
       "       [-0.09542903,  0.1813231 , -0.7552012 , ...,  6.803942  ,\n",
       "        -0.6073261 , -0.36796626],\n",
       "       [ 4.7157454 , -0.22420381,  1.0905936 , ..., -1.6289366 ,\n",
       "        -1.9520915 ,  1.7257695 ]], dtype=float32), hidden_states=None, attentions=None)"
      ]
     },
     "execution_count": 47,
     "metadata": {},
     "output_type": "execute_result"
    }
   ],
   "source": [
    "logits= model.predict(tf_dataset_test)\n",
    "logits"
   ]
  },
  {
   "cell_type": "code",
   "execution_count": null,
   "metadata": {
    "colab": {
     "base_uri": "https://localhost:8080/"
    },
    "id": "5gonZaFbA_jI",
    "outputId": "b5a86757-9256-4d92-f000-934513c4b580"
   },
   "outputs": [
    {
     "data": {
      "text/plain": [
       "array([[ 1.902519  , -1.4041461 , -1.210919  , ..., -1.5722222 ,\n",
       "        -0.6070261 , -1.1696025 ],\n",
       "       [-2.0681946 , -2.16789   , -0.8063055 , ..., -1.0346589 ,\n",
       "         4.56914   ,  0.6553669 ],\n",
       "       [-2.079856  , -1.599564  , -1.969153  , ..., -0.6807391 ,\n",
       "         5.361852  ,  1.1964666 ],\n",
       "       ...,\n",
       "       [ 3.046841  , -1.4736618 , -1.3997656 , ..., -1.0977323 ,\n",
       "        -0.20139217, -1.2735561 ],\n",
       "       [-0.09542903,  0.1813231 , -0.7552012 , ...,  6.803942  ,\n",
       "        -0.6073261 , -0.36796626],\n",
       "       [ 4.7157454 , -0.22420381,  1.0905936 , ..., -1.6289366 ,\n",
       "        -1.9520915 ,  1.7257695 ]], dtype=float32)"
      ]
     },
     "execution_count": 48,
     "metadata": {},
     "output_type": "execute_result"
    }
   ],
   "source": [
    "logits.logits"
   ]
  },
  {
   "cell_type": "code",
   "execution_count": null,
   "metadata": {
    "colab": {
     "base_uri": "https://localhost:8080/"
    },
    "id": "ufyTAyccw3-d",
    "outputId": "e6096a13-5472-4a79-ceca-4bfb4440c9c7"
   },
   "outputs": [
    {
     "data": {
      "text/plain": [
       "array([ 1.902519  , -1.4041461 , -1.210919  ,  4.731422  , -0.24659286,\n",
       "        1.8906778 , -1.5578103 , -0.5853778 , -1.5722222 , -0.6070261 ,\n",
       "       -1.1696025 ], dtype=float32)"
      ]
     },
     "execution_count": 49,
     "metadata": {},
     "output_type": "execute_result"
    }
   ],
   "source": [
    "logits.logits[0]"
   ]
  },
  {
   "cell_type": "code",
   "execution_count": null,
   "metadata": {
    "colab": {
     "base_uri": "https://localhost:8080/"
    },
    "id": "sB3kV7XqBJci",
    "outputId": "e8573980-bbf3-4865-b1e7-313e81fb9c6f"
   },
   "outputs": [
    {
     "data": {
      "text/plain": [
       "array([[5.1583912e-02, 1.8899393e-03, 2.2927958e-03, ..., 1.5975459e-03,\n",
       "        4.1940412e-03, 2.3895104e-03],\n",
       "       [9.4332534e-04, 8.5381628e-04, 3.3319090e-03, ..., 2.6516761e-03,\n",
       "        7.1981251e-01, 1.4371078e-02],\n",
       "       [5.3234235e-04, 8.6055597e-04, 5.9466000e-04, ..., 2.1568493e-03,\n",
       "        9.0799570e-01, 1.4095477e-02],\n",
       "       ...,\n",
       "       [3.2540625e-01, 3.5415762e-03, 3.8131967e-03, ..., 5.1577538e-03,\n",
       "        1.2639684e-02, 4.3261480e-03],\n",
       "       [1.0016502e-03, 1.3210155e-03, 5.1782205e-04, ..., 9.9328727e-01,\n",
       "        6.0034648e-04, 7.6270162e-04],\n",
       "       [8.8170326e-01, 6.3085542e-03, 2.3493029e-02, ..., 1.5483245e-03,\n",
       "        1.1207728e-03, 4.4339664e-02]], dtype=float32)"
      ]
     },
     "execution_count": 50,
     "metadata": {},
     "output_type": "execute_result"
    }
   ],
   "source": [
    "import tensorflow as tf\n",
    "\n",
    "probabilities = tf.nn.softmax(logits.logits, axis=-1).numpy()\n",
    "\n",
    "probabilities"
   ]
  },
  {
   "cell_type": "code",
   "execution_count": null,
   "metadata": {
    "colab": {
     "base_uri": "https://localhost:8080/"
    },
    "id": "Ih1IoT7uBUnn",
    "outputId": "e40c3938-a588-42f3-b2de-653bc34bed72"
   },
   "outputs": [
    {
     "data": {
      "text/plain": [
       "array([3, 9, 9, ..., 3, 8, 0])"
      ]
     },
     "execution_count": 51,
     "metadata": {},
     "output_type": "execute_result"
    }
   ],
   "source": [
    "y_pred=np.argmax(probabilities, axis=1)\n",
    "y_pred"
   ]
  },
  {
   "cell_type": "code",
   "execution_count": null,
   "metadata": {
    "id": "CfmarrXdB7k-"
   },
   "outputs": [],
   "source": [
    "def classification(tokenized_data):\n",
    "  import tensorflow as tf\n",
    "  import numpy as np\n",
    "\n",
    "  logits= model.predict(tokenized_data)\n",
    "  probabilities = tf.nn.softmax(logits.logits, axis=-1).numpy()\n",
    "  y_pred = np.argmax(probabilities, axis=1)\n",
    "  return y_pred"
   ]
  },
  {
   "cell_type": "code",
   "execution_count": null,
   "metadata": {
    "colab": {
     "base_uri": "https://localhost:8080/"
    },
    "id": "aAt0vBO-Yk2O",
    "outputId": "adb7352e-2e6d-440f-affe-c7526c565910"
   },
   "outputs": [
    {
     "data": {
      "text/plain": [
       "array(['bilim_teknoloji', 'dunya', 'egitim', 'ekonomi', 'guncel',\n",
       "       'gundem', 'kultur_sanat', 'saglik', 'spor', 'turkiye', 'yasam'],\n",
       "      dtype=object)"
      ]
     },
     "execution_count": 54,
     "metadata": {},
     "output_type": "execute_result"
    }
   ],
   "source": [
    "unique_labels"
   ]
  },
  {
   "cell_type": "code",
   "execution_count": null,
   "metadata": {
    "colab": {
     "base_uri": "https://localhost:8080/"
    },
    "id": "Za4DhRTFb2mf",
    "outputId": "91f8d180-b93b-4ea8-b6a7-199bc451e61f"
   },
   "outputs": [
    {
     "name": "stdout",
     "output_type": "stream",
     "text": [
      "220/220 [==============================] - 12s 52ms/step\n",
      "                 precision    recall  f1-score   support\n",
      "\n",
      "bilim_teknoloji       0.84      0.91      0.88       640\n",
      "          dunya       0.92      0.86      0.89       640\n",
      "         egitim       0.90      0.95      0.93       640\n",
      "        ekonomi       0.83      0.87      0.85       640\n",
      "         guncel       0.76      0.80      0.78       640\n",
      "         gundem       0.82      0.75      0.78       640\n",
      "   kultur_sanat       0.81      0.90      0.86       640\n",
      "         saglik       0.83      0.87      0.85       640\n",
      "           spor       0.98      0.97      0.98       640\n",
      "        turkiye       0.76      0.65      0.70       640\n",
      "          yasam       0.75      0.70      0.72       640\n",
      "\n",
      "       accuracy                           0.84      7040\n",
      "      macro avg       0.84      0.84      0.84      7040\n",
      "   weighted avg       0.84      0.84      0.84      7040\n",
      "\n"
     ]
    }
   ],
   "source": [
    "from sklearn.metrics import classification_report, confusion_matrix\n",
    "y_pred=classification(tf_dataset_test)\n",
    "print(classification_report(y_test, y_pred, target_names=unique_labels))"
   ]
  },
  {
   "cell_type": "code",
   "execution_count": null,
   "metadata": {
    "colab": {
     "base_uri": "https://localhost:8080/"
    },
    "id": "juDuQ9OWCe0n",
    "outputId": "7cbdebd3-7af1-4654-c931-0143fada4026"
   },
   "outputs": [
    {
     "name": "stdout",
     "output_type": "stream",
     "text": [
      "880/880 [==============================] - 46s 51ms/step\n",
      "                 precision    recall  f1-score   support\n",
      "\n",
      "bilim_teknoloji       0.89      0.95      0.92      2560\n",
      "          dunya       0.96      0.91      0.93      2560\n",
      "         egitim       0.91      0.97      0.94      2560\n",
      "        ekonomi       0.88      0.92      0.90      2560\n",
      "         guncel       0.84      0.85      0.84      2560\n",
      "         gundem       0.87      0.81      0.84      2560\n",
      "   kultur_sanat       0.86      0.94      0.90      2560\n",
      "         saglik       0.88      0.94      0.91      2560\n",
      "           spor       0.99      0.99      0.99      2560\n",
      "        turkiye       0.86      0.74      0.79      2560\n",
      "          yasam       0.84      0.77      0.80      2560\n",
      "\n",
      "       accuracy                           0.89     28160\n",
      "      macro avg       0.89      0.89      0.89     28160\n",
      "   weighted avg       0.89      0.89      0.89     28160\n",
      "\n"
     ]
    }
   ],
   "source": [
    "y_train_pred=classification(tf_dataset_train)\n",
    "print(classification_report(y_train, y_train_pred, target_names=unique_labels))"
   ]
  },
  {
   "cell_type": "markdown",
   "metadata": {
    "id": "Ma1lX1UdxJj2"
   },
   "source": [
    "## Saving and Loading The Model"
   ]
  },
  {
   "cell_type": "code",
   "execution_count": null,
   "metadata": {
    "id": "2xxvEjLRJ_3v"
   },
   "outputs": [],
   "source": [
    "model.save_pretrained(\"./saved_model\")"
   ]
  },
  {
   "cell_type": "code",
   "execution_count": null,
   "metadata": {
    "colab": {
     "base_uri": "https://localhost:8080/"
    },
    "id": "q4omVuvjKDK7",
    "outputId": "98e2e9ac-d00c-48d6-ce27-7ee087c2c3c3"
   },
   "outputs": [
    {
     "name": "stderr",
     "output_type": "stream",
     "text": [
      "Some layers from the model checkpoint at /content/saved_model were not used when initializing TFBertForSequenceClassification: ['dropout_37']\n",
      "- This IS expected if you are initializing TFBertForSequenceClassification from the checkpoint of a model trained on another task or with another architecture (e.g. initializing a BertForSequenceClassification model from a BertForPreTraining model).\n",
      "- This IS NOT expected if you are initializing TFBertForSequenceClassification from the checkpoint of a model that you expect to be exactly identical (initializing a BertForSequenceClassification model from a BertForSequenceClassification model).\n",
      "All the layers of TFBertForSequenceClassification were initialized from the model checkpoint at /content/saved_model.\n",
      "If your task is similar to the task the model of the checkpoint was trained on, you can already use TFBertForSequenceClassification for predictions without further training.\n"
     ]
    }
   ],
   "source": [
    "with tpu_strategy.scope():\n",
    "  loaded_model = TFAutoModelForSequenceClassification.from_pretrained(\"/content/saved_model\")"
   ]
  },
  {
   "cell_type": "markdown",
   "metadata": {
    "id": "CvJu-veQ2W0I"
   },
   "source": [
    "## Prediction"
   ]
  },
  {
   "cell_type": "code",
   "execution_count": null,
   "metadata": {
    "id": "99SbL6n5KFwj"
   },
   "outputs": [],
   "source": [
    "sample1=\"Meteorolojiden kuvvetli yağış uyarısı Meteoroloji Genel Müdürlüğünden yapılan uyarıya göre, yarın Kıyı Ege \\\n",
    "(İzmir, Aydın, Muğla, Manisa) ile Edirne'nin güneyi, Balıkesir'in batı kıyıları (Edremit, Ayvalık, Burhaniye, Havran, \\\n",
    "Gömeç ilçeleri) ve Çanakkale çevrelerinde kuvvetli ve yer yer çok kuvvetli, gök gürültülü sağanak öngörülüyor. Ani sel, \\\n",
    "su baskını, yıldırım, yağış anında kuvvetli rüzgar, yerel dolu yağışı ve hortum gibi olumsuzluklara karşı dikkatli ve \\\n",
    "tedbirli olunması gerekiyor.\""
   ]
  },
  {
   "cell_type": "code",
   "execution_count": null,
   "metadata": {
    "id": "nYym1zdzK-ok"
   },
   "outputs": [],
   "source": [
    "sample2=\"\"\"Teknopark İstanbul'un Rejenerasyon-20 projesine başvurular başladı Teknopark İstanbul açıklamasına göre, evde yaşam,\\\n",
    " erişim-lojistik, uzaktan çalışma ve sosyal girişim konularında çalışmalar yapan ön kuluçka ve kuluçka aşamasına gelen \\\n",
    " girişimcilerin başvurabileceği Rejenerasyon-20 projesi girişim ekosisteminin yeniden yapılanmasını kapsıyor. Projeyle; \\\n",
    " prototip üretme, prototip geliştirme veya ürünleşme aşamasındaki girişimlere dijital hızlandırma, ticarileşme aşamasındaki \\\n",
    " girişimlere ise danışmanlık programı verilecek. Danışmanlık programından; ürününü bitirmiş, \"scale up\" aşamasında olan ya da \\\n",
    " salgından önce gelir üretebilen fakat şu an iş yapmakta zorlanan genç girişimler yararlanabilecek. Başvuruların 3-17 Temmuz'da \\\n",
    " gerçekleştirilebileceği Rejenerasyon-20 Projesi'ne, rejenerasyon20.com adresinden başvurulabiliyor. Dijital Hızlandırma Programı'na\\\n",
    "  başlayacak olan 15 girişim grubu; proje ekibi, teknik destek yetkilisi ve insan kaynakları danışmanının ortak görüşü ile \\\n",
    "  değerlendirmeye alınacak. 150 saat mentorluk desteği verilecek Program boyunca girişim gruplarına toplamda; 50 saat finansal \\\n",
    "  danışmanlık desteği, 360 saat teknik analiz, yazılım danışmanlığı ve test desteği, 150 saat mentorluk desteği, 150 saat insan \\\n",
    "  kaynakları danışmanlığı, 30 saat hukuk danışmanlık desteği, 30 saat fikri ve sınai mülkiyet haklar danışmanlık desteği, \\\n",
    "  stratejik marka iletişimi ve dijital pazarlama danışmanlığı, iş geliştirme ve pazarlama desteği, prototipleme-üretim \\\n",
    "  danışmanlığı, kapsamlı stratejik analiz ve plan oluşturma desteği, 6 ay boyunca iş geliştirme uygulamaları desteği \\\n",
    "  gibi destekler sunulacak. Ara değerlendirme sonrasında elemeden geçecek 15 girişimci sayısı jüri elemesi sonucu 10'a \\\n",
    "  düşürülecek. İkinci aşamaya geçen 10 girişime ayrıca; sosyal medya tanıtım desteği, kurumsal kimlik ve dijital tasarım \\\n",
    "  desteği, 100 saat kullanıcı ara yüz tasarım desteği, prototipleme desteği, 2 yıl boyunca bulut veri depolama hizmeti \\\n",
    "  sunulacak. Program sonunda 10 girişim, \"demoday\" etkinliğinde kurumsal firma ve yatırımcılara sunum yapma fırsatına \\\n",
    "  erişecek. Danışmanlık başvurusundan ise 25 girişim yararlanabilecek. Bu girişimlere toplamda 300 saatlik psikolojik, \\\n",
    "  finansal ve pazarlama danışmanlığı verilecek. Öte yandan, projenin son ayağı olan Video Portal Modülü ile daha büyük \\\n",
    "  kitleye hitap edilecek ve girişimlerin en çok merak ettiği 100 soru konunun uzmanları tarafından kısa videolarla cevaplanacak. \\\n",
    "  \"Uluslararası arenada rekabet eden ürünlerin hayata geçeceğine inanıyoruz\" Açıklamada görüşlerine yer verilen Teknopark İstanbul \\\n",
    "  Genel Müdürü Bilal Topçu, destekten yararlanacak girişimcilerin; kalıcı, uygulanabilir ve çağdaş metotlara dayanan destek \\\n",
    "  mekanizmalarıyla projelerini başarıyla hayata geçireceklerini belirterek, şunları kaydetti: \"Rejenerasyon-20 ile \\\n",
    "  girişimcilik ekosistemimizdeki başarılı genç beyinlerimizin uluslararası arenada rekabet eden ürünler ve uygulamalar hayata \\\n",
    "  geçireceğine inanıyoruz.\"\"\""
   ]
  },
  {
   "cell_type": "code",
   "execution_count": null,
   "metadata": {
    "id": "pAZjt9ZKKKiL"
   },
   "outputs": [],
   "source": [
    "samples=[]\n",
    "for i in [sample1, sample2]:\n",
    "  samples.append({\"text\": str(i)})"
   ]
  },
  {
   "cell_type": "code",
   "execution_count": null,
   "metadata": {
    "id": "Eo3MjYJ6d5mD"
   },
   "outputs": [],
   "source": [
    "def prep_data(samples, model):\n",
    "  from datasets import Dataset\n",
    "  samples_dataset = Dataset.from_list(samples)\n",
    "  samples_tokenized_data = samples_dataset.map(transformation, batched=True)\n",
    "  tf_dataset_samples = model.prepare_tf_dataset(samples_tokenized_data , batch_size=32, shuffle=False)\n",
    "  return tf_dataset_samples"
   ]
  },
  {
   "cell_type": "code",
   "execution_count": null,
   "metadata": {
    "colab": {
     "base_uri": "https://localhost:8080/",
     "height": 49,
     "referenced_widgets": [
      "1b8761d19de54e6798b7964edfcac7a7",
      "d924069a55b14f0b8d085879e217b389",
      "c15e37dccd8d47a089043960a8acbc6e",
      "57c5c4b10cf64c3191d958c8de4b4b03",
      "70ec0203491f42aba0680ba840b1b5d1",
      "b0225b22dbfe4cdfb16c2d4a47044cbd",
      "5590bca0b87148a6bc13c62fe2be8bb3",
      "5aaab73046be4528bd61894d2296e22c",
      "77d0a8e28ab94997b2d18d8566235b22",
      "c7104998945146a989d6e9a839a56534",
      "a2a10e7c835548398b2f68f9b447391f"
     ]
    },
    "id": "UxBWAon_edDG",
    "outputId": "446f7ef6-663f-4c2a-890e-2311d1589c33"
   },
   "outputs": [
    {
     "data": {
      "application/vnd.jupyter.widget-view+json": {
       "model_id": "1b8761d19de54e6798b7964edfcac7a7",
       "version_major": 2,
       "version_minor": 0
      },
      "text/plain": [
       "Map:   0%|          | 0/2 [00:00<?, ? examples/s]"
      ]
     },
     "metadata": {},
     "output_type": "display_data"
    }
   ],
   "source": [
    "tf_dataset_samples=prep_data(samples, loaded_model)"
   ]
  },
  {
   "cell_type": "code",
   "execution_count": null,
   "metadata": {
    "colab": {
     "base_uri": "https://localhost:8080/"
    },
    "id": "s4BSIGBsL_7R",
    "outputId": "7a85ef2e-4b40-471a-e442-f47c829058ff"
   },
   "outputs": [
    {
     "name": "stdout",
     "output_type": "stream",
     "text": [
      "1/1 [==============================] - 18s 18s/step\n"
     ]
    },
    {
     "data": {
      "text/plain": [
       "TFSequenceClassifierOutput(loss=None, logits=array([[-2.0681946 , -2.16789   , -0.8063055 , -1.0652267 ,  3.462737  ,\n",
       "         0.03768196, -1.3307647 ,  0.02713152, -1.0346589 ,  4.56914   ,\n",
       "         0.6553669 ],\n",
       "       [ 4.567742  , -1.1897832 , -0.5228368 ,  2.4992316 ,  0.35330567,\n",
       "         0.54032296, -1.383178  , -0.95841193, -0.9233061 , -0.8534015 ,\n",
       "        -1.2956493 ]], dtype=float32), hidden_states=None, attentions=None)"
      ]
     },
     "execution_count": 64,
     "metadata": {},
     "output_type": "execute_result"
    }
   ],
   "source": [
    "logits=loaded_model.predict(tf_dataset_samples)\n",
    "logits"
   ]
  },
  {
   "cell_type": "code",
   "execution_count": null,
   "metadata": {
    "colab": {
     "base_uri": "https://localhost:8080/"
    },
    "id": "gPzNfmWMMFdM",
    "outputId": "69beef87-4c0a-4bcb-e1a9-943923cc5acd"
   },
   "outputs": [
    {
     "data": {
      "text/plain": [
       "array([[0.00094333, 0.00085382, 0.00333191, 0.00257185, 0.23807554,\n",
       "        0.00774876, 0.00197207, 0.00766744, 0.00265168, 0.7198126 ,\n",
       "        0.01437108],\n",
       "       [0.84298533, 0.00266292, 0.00518812, 0.10653134, 0.01245988,\n",
       "        0.01502222, 0.00219467, 0.00335615, 0.00347607, 0.00372775,\n",
       "        0.00239542]], dtype=float32)"
      ]
     },
     "execution_count": 65,
     "metadata": {},
     "output_type": "execute_result"
    }
   ],
   "source": [
    "probs= tf.nn.softmax(logits.logits, axis=-1).numpy()\n",
    "probs"
   ]
  },
  {
   "cell_type": "code",
   "execution_count": null,
   "metadata": {
    "colab": {
     "base_uri": "https://localhost:8080/"
    },
    "id": "AQPHOVBYMXb_",
    "outputId": "f429744f-bdc5-4f2a-e0ec-cabca94eae8b"
   },
   "outputs": [
    {
     "data": {
      "text/plain": [
       "array([9, 0])"
      ]
     },
     "execution_count": 66,
     "metadata": {},
     "output_type": "execute_result"
    }
   ],
   "source": [
    "y_pred = np.argmax(probs, axis=1)\n",
    "y_pred"
   ]
  },
  {
   "cell_type": "code",
   "execution_count": null,
   "metadata": {
    "colab": {
     "base_uri": "https://localhost:8080/"
    },
    "id": "JlY1RW3qMrsU",
    "outputId": "36c7533a-1bff-4b07-d66e-c67635a23e46"
   },
   "outputs": [
    {
     "data": {
      "text/plain": [
       "{'bilim_teknoloji': 0,\n",
       " 'dunya': 1,\n",
       " 'egitim': 2,\n",
       " 'ekonomi': 3,\n",
       " 'guncel': 4,\n",
       " 'gundem': 5,\n",
       " 'kultur_sanat': 6,\n",
       " 'saglik': 7,\n",
       " 'spor': 8,\n",
       " 'turkiye': 9,\n",
       " 'yasam': 10}"
      ]
     },
     "execution_count": 59,
     "metadata": {},
     "output_type": "execute_result"
    }
   ],
   "source": [
    "label_dict"
   ]
  },
  {
   "cell_type": "code",
   "execution_count": null,
   "metadata": {
    "colab": {
     "base_uri": "https://localhost:8080/"
    },
    "id": "KgAPZdOQNNK7",
    "outputId": "7e52532b-4ba9-4fe0-a1f9-b8457025110a"
   },
   "outputs": [
    {
     "name": "stdout",
     "output_type": "stream",
     "text": [
      "1/1 [==============================] - 15s 15s/step\n"
     ]
    },
    {
     "data": {
      "text/plain": [
       "array([9, 0])"
      ]
     },
     "execution_count": 60,
     "metadata": {},
     "output_type": "execute_result"
    }
   ],
   "source": [
    "classification(tf_dataset_samples)"
   ]
  },
  {
   "cell_type": "code",
   "execution_count": null,
   "metadata": {
    "id": "lcBSPI-3ZuLH"
   },
   "outputs": [],
   "source": []
  }
 ],
 "metadata": {
  "accelerator": "TPU",
  "colab": {
   "gpuType": "V28",
   "machine_shape": "hm",
   "provenance": []
  },
  "kernelspec": {
   "display_name": "Python 3 (ipykernel)",
   "language": "python",
   "name": "python3"
  },
  "language_info": {
   "codemirror_mode": {
    "name": "ipython",
    "version": 3
   },
   "file_extension": ".py",
   "mimetype": "text/x-python",
   "name": "python",
   "nbconvert_exporter": "python",
   "pygments_lexer": "ipython3",
   "version": "3.8.19"
  },
  "widgets": {
   "application/vnd.jupyter.widget-state+json": {
    "04fb123022384702874ea0c35cb1861e": {
     "model_module": "@jupyter-widgets/controls",
     "model_module_version": "1.5.0",
     "model_name": "HBoxModel",
     "state": {
      "_dom_classes": [],
      "_model_module": "@jupyter-widgets/controls",
      "_model_module_version": "1.5.0",
      "_model_name": "HBoxModel",
      "_view_count": null,
      "_view_module": "@jupyter-widgets/controls",
      "_view_module_version": "1.5.0",
      "_view_name": "HBoxView",
      "box_style": "",
      "children": [
       "IPY_MODEL_a6e90d635ccb4584a6cac980aa9015ec",
       "IPY_MODEL_4027d6ed4642465aba3633cc80cec900",
       "IPY_MODEL_4b8dcd4a2dac49a48551106ef314a61d"
      ],
      "layout": "IPY_MODEL_3766fadfa7ff4103852ca8547a80faee"
     }
    },
    "0e62a6ebd90044bdaf9ceb543e7a6189": {
     "model_module": "@jupyter-widgets/base",
     "model_module_version": "1.2.0",
     "model_name": "LayoutModel",
     "state": {
      "_model_module": "@jupyter-widgets/base",
      "_model_module_version": "1.2.0",
      "_model_name": "LayoutModel",
      "_view_count": null,
      "_view_module": "@jupyter-widgets/base",
      "_view_module_version": "1.2.0",
      "_view_name": "LayoutView",
      "align_content": null,
      "align_items": null,
      "align_self": null,
      "border": null,
      "bottom": null,
      "display": null,
      "flex": null,
      "flex_flow": null,
      "grid_area": null,
      "grid_auto_columns": null,
      "grid_auto_flow": null,
      "grid_auto_rows": null,
      "grid_column": null,
      "grid_gap": null,
      "grid_row": null,
      "grid_template_areas": null,
      "grid_template_columns": null,
      "grid_template_rows": null,
      "height": null,
      "justify_content": null,
      "justify_items": null,
      "left": null,
      "margin": null,
      "max_height": null,
      "max_width": null,
      "min_height": null,
      "min_width": null,
      "object_fit": null,
      "object_position": null,
      "order": null,
      "overflow": null,
      "overflow_x": null,
      "overflow_y": null,
      "padding": null,
      "right": null,
      "top": null,
      "visibility": null,
      "width": null
     }
    },
    "12da303c6915462abd546b6e306aa309": {
     "model_module": "@jupyter-widgets/controls",
     "model_module_version": "1.5.0",
     "model_name": "FloatProgressModel",
     "state": {
      "_dom_classes": [],
      "_model_module": "@jupyter-widgets/controls",
      "_model_module_version": "1.5.0",
      "_model_name": "FloatProgressModel",
      "_view_count": null,
      "_view_module": "@jupyter-widgets/controls",
      "_view_module_version": "1.5.0",
      "_view_name": "ProgressView",
      "bar_style": "success",
      "description": "",
      "description_tooltip": null,
      "layout": "IPY_MODEL_92e96b0b0e0f48639e1059047612b5ba",
      "max": 7040,
      "min": 0,
      "orientation": "horizontal",
      "style": "IPY_MODEL_d77e5780e3504630a78f99fc3f4cdac0",
      "value": 7040
     }
    },
    "137631ea5e0d4b40a2e952893630726b": {
     "model_module": "@jupyter-widgets/base",
     "model_module_version": "1.2.0",
     "model_name": "LayoutModel",
     "state": {
      "_model_module": "@jupyter-widgets/base",
      "_model_module_version": "1.2.0",
      "_model_name": "LayoutModel",
      "_view_count": null,
      "_view_module": "@jupyter-widgets/base",
      "_view_module_version": "1.2.0",
      "_view_name": "LayoutView",
      "align_content": null,
      "align_items": null,
      "align_self": null,
      "border": null,
      "bottom": null,
      "display": null,
      "flex": null,
      "flex_flow": null,
      "grid_area": null,
      "grid_auto_columns": null,
      "grid_auto_flow": null,
      "grid_auto_rows": null,
      "grid_column": null,
      "grid_gap": null,
      "grid_row": null,
      "grid_template_areas": null,
      "grid_template_columns": null,
      "grid_template_rows": null,
      "height": null,
      "justify_content": null,
      "justify_items": null,
      "left": null,
      "margin": null,
      "max_height": null,
      "max_width": null,
      "min_height": null,
      "min_width": null,
      "object_fit": null,
      "object_position": null,
      "order": null,
      "overflow": null,
      "overflow_x": null,
      "overflow_y": null,
      "padding": null,
      "right": null,
      "top": null,
      "visibility": null,
      "width": null
     }
    },
    "13f7b5b41450476f84e8ac16e2f47bb8": {
     "model_module": "@jupyter-widgets/base",
     "model_module_version": "1.2.0",
     "model_name": "LayoutModel",
     "state": {
      "_model_module": "@jupyter-widgets/base",
      "_model_module_version": "1.2.0",
      "_model_name": "LayoutModel",
      "_view_count": null,
      "_view_module": "@jupyter-widgets/base",
      "_view_module_version": "1.2.0",
      "_view_name": "LayoutView",
      "align_content": null,
      "align_items": null,
      "align_self": null,
      "border": null,
      "bottom": null,
      "display": null,
      "flex": null,
      "flex_flow": null,
      "grid_area": null,
      "grid_auto_columns": null,
      "grid_auto_flow": null,
      "grid_auto_rows": null,
      "grid_column": null,
      "grid_gap": null,
      "grid_row": null,
      "grid_template_areas": null,
      "grid_template_columns": null,
      "grid_template_rows": null,
      "height": null,
      "justify_content": null,
      "justify_items": null,
      "left": null,
      "margin": null,
      "max_height": null,
      "max_width": null,
      "min_height": null,
      "min_width": null,
      "object_fit": null,
      "object_position": null,
      "order": null,
      "overflow": null,
      "overflow_x": null,
      "overflow_y": null,
      "padding": null,
      "right": null,
      "top": null,
      "visibility": null,
      "width": null
     }
    },
    "173fc8103f1c43f9986ac998ee4ea6cc": {
     "model_module": "@jupyter-widgets/base",
     "model_module_version": "1.2.0",
     "model_name": "LayoutModel",
     "state": {
      "_model_module": "@jupyter-widgets/base",
      "_model_module_version": "1.2.0",
      "_model_name": "LayoutModel",
      "_view_count": null,
      "_view_module": "@jupyter-widgets/base",
      "_view_module_version": "1.2.0",
      "_view_name": "LayoutView",
      "align_content": null,
      "align_items": null,
      "align_self": null,
      "border": null,
      "bottom": null,
      "display": null,
      "flex": null,
      "flex_flow": null,
      "grid_area": null,
      "grid_auto_columns": null,
      "grid_auto_flow": null,
      "grid_auto_rows": null,
      "grid_column": null,
      "grid_gap": null,
      "grid_row": null,
      "grid_template_areas": null,
      "grid_template_columns": null,
      "grid_template_rows": null,
      "height": null,
      "justify_content": null,
      "justify_items": null,
      "left": null,
      "margin": null,
      "max_height": null,
      "max_width": null,
      "min_height": null,
      "min_width": null,
      "object_fit": null,
      "object_position": null,
      "order": null,
      "overflow": null,
      "overflow_x": null,
      "overflow_y": null,
      "padding": null,
      "right": null,
      "top": null,
      "visibility": null,
      "width": null
     }
    },
    "17e330d64aba44b0a8cf88360d6c161e": {
     "model_module": "@jupyter-widgets/base",
     "model_module_version": "1.2.0",
     "model_name": "LayoutModel",
     "state": {
      "_model_module": "@jupyter-widgets/base",
      "_model_module_version": "1.2.0",
      "_model_name": "LayoutModel",
      "_view_count": null,
      "_view_module": "@jupyter-widgets/base",
      "_view_module_version": "1.2.0",
      "_view_name": "LayoutView",
      "align_content": null,
      "align_items": null,
      "align_self": null,
      "border": null,
      "bottom": null,
      "display": null,
      "flex": null,
      "flex_flow": null,
      "grid_area": null,
      "grid_auto_columns": null,
      "grid_auto_flow": null,
      "grid_auto_rows": null,
      "grid_column": null,
      "grid_gap": null,
      "grid_row": null,
      "grid_template_areas": null,
      "grid_template_columns": null,
      "grid_template_rows": null,
      "height": null,
      "justify_content": null,
      "justify_items": null,
      "left": null,
      "margin": null,
      "max_height": null,
      "max_width": null,
      "min_height": null,
      "min_width": null,
      "object_fit": null,
      "object_position": null,
      "order": null,
      "overflow": null,
      "overflow_x": null,
      "overflow_y": null,
      "padding": null,
      "right": null,
      "top": null,
      "visibility": null,
      "width": null
     }
    },
    "199ef1cf0306454a8535a2ba46e9f63c": {
     "model_module": "@jupyter-widgets/controls",
     "model_module_version": "1.5.0",
     "model_name": "HBoxModel",
     "state": {
      "_dom_classes": [],
      "_model_module": "@jupyter-widgets/controls",
      "_model_module_version": "1.5.0",
      "_model_name": "HBoxModel",
      "_view_count": null,
      "_view_module": "@jupyter-widgets/controls",
      "_view_module_version": "1.5.0",
      "_view_name": "HBoxView",
      "box_style": "",
      "children": [
       "IPY_MODEL_f90a32dd321b43c28e37245e9a81dd16",
       "IPY_MODEL_df5428edc3a949f090f98b1636ab61b4",
       "IPY_MODEL_b97c4a546c5e4807882beeb9365358fd"
      ],
      "layout": "IPY_MODEL_b25d223a9ac64cf9b296ea5066c575ce"
     }
    },
    "1a6995f8860c4df88637b1e20acc3ede": {
     "model_module": "@jupyter-widgets/controls",
     "model_module_version": "1.5.0",
     "model_name": "HTMLModel",
     "state": {
      "_dom_classes": [],
      "_model_module": "@jupyter-widgets/controls",
      "_model_module_version": "1.5.0",
      "_model_name": "HTMLModel",
      "_view_count": null,
      "_view_module": "@jupyter-widgets/controls",
      "_view_module_version": "1.5.0",
      "_view_name": "HTMLView",
      "description": "",
      "description_tooltip": null,
      "layout": "IPY_MODEL_fe55efe45cea421abd071c21c97edd21",
      "placeholder": "​",
      "style": "IPY_MODEL_c5e1b7e4a782407497370a989f798927",
      "value": " 28160/28160 [00:09&lt;00:00, 3024.67 examples/s]"
     }
    },
    "1b8761d19de54e6798b7964edfcac7a7": {
     "model_module": "@jupyter-widgets/controls",
     "model_module_version": "1.5.0",
     "model_name": "HBoxModel",
     "state": {
      "_dom_classes": [],
      "_model_module": "@jupyter-widgets/controls",
      "_model_module_version": "1.5.0",
      "_model_name": "HBoxModel",
      "_view_count": null,
      "_view_module": "@jupyter-widgets/controls",
      "_view_module_version": "1.5.0",
      "_view_name": "HBoxView",
      "box_style": "",
      "children": [
       "IPY_MODEL_d924069a55b14f0b8d085879e217b389",
       "IPY_MODEL_c15e37dccd8d47a089043960a8acbc6e",
       "IPY_MODEL_57c5c4b10cf64c3191d958c8de4b4b03"
      ],
      "layout": "IPY_MODEL_70ec0203491f42aba0680ba840b1b5d1"
     }
    },
    "1fef71e5e2ec4d2cbfd58f4ea824ce5a": {
     "model_module": "@jupyter-widgets/controls",
     "model_module_version": "1.5.0",
     "model_name": "HBoxModel",
     "state": {
      "_dom_classes": [],
      "_model_module": "@jupyter-widgets/controls",
      "_model_module_version": "1.5.0",
      "_model_name": "HBoxModel",
      "_view_count": null,
      "_view_module": "@jupyter-widgets/controls",
      "_view_module_version": "1.5.0",
      "_view_name": "HBoxView",
      "box_style": "",
      "children": [
       "IPY_MODEL_2d020892db394d7fa8d85fe71610dda3",
       "IPY_MODEL_52ee2934430847a69923b59b4881025b",
       "IPY_MODEL_f096df0a18f6428a8669588390d2fedf"
      ],
      "layout": "IPY_MODEL_c83713ff68c14a7dadc0a6c96f325946"
     }
    },
    "210aab8f1f7a4b90a226563b0763f95a": {
     "model_module": "@jupyter-widgets/controls",
     "model_module_version": "1.5.0",
     "model_name": "HTMLModel",
     "state": {
      "_dom_classes": [],
      "_model_module": "@jupyter-widgets/controls",
      "_model_module_version": "1.5.0",
      "_model_name": "HTMLModel",
      "_view_count": null,
      "_view_module": "@jupyter-widgets/controls",
      "_view_module_version": "1.5.0",
      "_view_name": "HTMLView",
      "description": "",
      "description_tooltip": null,
      "layout": "IPY_MODEL_173fc8103f1c43f9986ac998ee4ea6cc",
      "placeholder": "​",
      "style": "IPY_MODEL_6ceeb419e6594ba2940589b362a1318d",
      "value": "Map: 100%"
     }
    },
    "230d32890cbf4417899fe47ba5f067eb": {
     "model_module": "@jupyter-widgets/controls",
     "model_module_version": "1.5.0",
     "model_name": "HTMLModel",
     "state": {
      "_dom_classes": [],
      "_model_module": "@jupyter-widgets/controls",
      "_model_module_version": "1.5.0",
      "_model_name": "HTMLModel",
      "_view_count": null,
      "_view_module": "@jupyter-widgets/controls",
      "_view_module_version": "1.5.0",
      "_view_name": "HTMLView",
      "description": "",
      "description_tooltip": null,
      "layout": "IPY_MODEL_e073390e7b1b4a31aace4b52e7c120a4",
      "placeholder": "​",
      "style": "IPY_MODEL_8a3903e6d8c341a385c88b8de375b42a",
      "value": " 7040/7040 [00:02&lt;00:00, 3292.88 examples/s]"
     }
    },
    "24b01ba718fc43fa9ef01c7a6116f467": {
     "model_module": "@jupyter-widgets/controls",
     "model_module_version": "1.5.0",
     "model_name": "HBoxModel",
     "state": {
      "_dom_classes": [],
      "_model_module": "@jupyter-widgets/controls",
      "_model_module_version": "1.5.0",
      "_model_name": "HBoxModel",
      "_view_count": null,
      "_view_module": "@jupyter-widgets/controls",
      "_view_module_version": "1.5.0",
      "_view_name": "HBoxView",
      "box_style": "",
      "children": [
       "IPY_MODEL_b9d986b454444f4bba3f7c254f5d0e64",
       "IPY_MODEL_7495303f03d14540949385d44eca1e9b",
       "IPY_MODEL_d3f01437ba554dc4bf073f872a958f0d"
      ],
      "layout": "IPY_MODEL_fc3c2d9159404880aeae5ef6aebf6315"
     }
    },
    "2a799e7236c3407e87616eb552878999": {
     "model_module": "@jupyter-widgets/controls",
     "model_module_version": "1.5.0",
     "model_name": "ProgressStyleModel",
     "state": {
      "_model_module": "@jupyter-widgets/controls",
      "_model_module_version": "1.5.0",
      "_model_name": "ProgressStyleModel",
      "_view_count": null,
      "_view_module": "@jupyter-widgets/base",
      "_view_module_version": "1.2.0",
      "_view_name": "StyleView",
      "bar_color": null,
      "description_width": ""
     }
    },
    "2d020892db394d7fa8d85fe71610dda3": {
     "model_module": "@jupyter-widgets/controls",
     "model_module_version": "1.5.0",
     "model_name": "HTMLModel",
     "state": {
      "_dom_classes": [],
      "_model_module": "@jupyter-widgets/controls",
      "_model_module_version": "1.5.0",
      "_model_name": "HTMLModel",
      "_view_count": null,
      "_view_module": "@jupyter-widgets/controls",
      "_view_module_version": "1.5.0",
      "_view_name": "HTMLView",
      "description": "",
      "description_tooltip": null,
      "layout": "IPY_MODEL_17e330d64aba44b0a8cf88360d6c161e",
      "placeholder": "​",
      "style": "IPY_MODEL_7a0ee824e794485f91d7441d39334a23",
      "value": "config.json: 100%"
     }
    },
    "2e76bf3c9abd4703b982d927928b3cf0": {
     "model_module": "@jupyter-widgets/base",
     "model_module_version": "1.2.0",
     "model_name": "LayoutModel",
     "state": {
      "_model_module": "@jupyter-widgets/base",
      "_model_module_version": "1.2.0",
      "_model_name": "LayoutModel",
      "_view_count": null,
      "_view_module": "@jupyter-widgets/base",
      "_view_module_version": "1.2.0",
      "_view_name": "LayoutView",
      "align_content": null,
      "align_items": null,
      "align_self": null,
      "border": null,
      "bottom": null,
      "display": null,
      "flex": null,
      "flex_flow": null,
      "grid_area": null,
      "grid_auto_columns": null,
      "grid_auto_flow": null,
      "grid_auto_rows": null,
      "grid_column": null,
      "grid_gap": null,
      "grid_row": null,
      "grid_template_areas": null,
      "grid_template_columns": null,
      "grid_template_rows": null,
      "height": null,
      "justify_content": null,
      "justify_items": null,
      "left": null,
      "margin": null,
      "max_height": null,
      "max_width": null,
      "min_height": null,
      "min_width": null,
      "object_fit": null,
      "object_position": null,
      "order": null,
      "overflow": null,
      "overflow_x": null,
      "overflow_y": null,
      "padding": null,
      "right": null,
      "top": null,
      "visibility": null,
      "width": null
     }
    },
    "3766fadfa7ff4103852ca8547a80faee": {
     "model_module": "@jupyter-widgets/base",
     "model_module_version": "1.2.0",
     "model_name": "LayoutModel",
     "state": {
      "_model_module": "@jupyter-widgets/base",
      "_model_module_version": "1.2.0",
      "_model_name": "LayoutModel",
      "_view_count": null,
      "_view_module": "@jupyter-widgets/base",
      "_view_module_version": "1.2.0",
      "_view_name": "LayoutView",
      "align_content": null,
      "align_items": null,
      "align_self": null,
      "border": null,
      "bottom": null,
      "display": null,
      "flex": null,
      "flex_flow": null,
      "grid_area": null,
      "grid_auto_columns": null,
      "grid_auto_flow": null,
      "grid_auto_rows": null,
      "grid_column": null,
      "grid_gap": null,
      "grid_row": null,
      "grid_template_areas": null,
      "grid_template_columns": null,
      "grid_template_rows": null,
      "height": null,
      "justify_content": null,
      "justify_items": null,
      "left": null,
      "margin": null,
      "max_height": null,
      "max_width": null,
      "min_height": null,
      "min_width": null,
      "object_fit": null,
      "object_position": null,
      "order": null,
      "overflow": null,
      "overflow_x": null,
      "overflow_y": null,
      "padding": null,
      "right": null,
      "top": null,
      "visibility": null,
      "width": null
     }
    },
    "3b26d73ad095472aa4a47d0c7b1aacce": {
     "model_module": "@jupyter-widgets/base",
     "model_module_version": "1.2.0",
     "model_name": "LayoutModel",
     "state": {
      "_model_module": "@jupyter-widgets/base",
      "_model_module_version": "1.2.0",
      "_model_name": "LayoutModel",
      "_view_count": null,
      "_view_module": "@jupyter-widgets/base",
      "_view_module_version": "1.2.0",
      "_view_name": "LayoutView",
      "align_content": null,
      "align_items": null,
      "align_self": null,
      "border": null,
      "bottom": null,
      "display": null,
      "flex": null,
      "flex_flow": null,
      "grid_area": null,
      "grid_auto_columns": null,
      "grid_auto_flow": null,
      "grid_auto_rows": null,
      "grid_column": null,
      "grid_gap": null,
      "grid_row": null,
      "grid_template_areas": null,
      "grid_template_columns": null,
      "grid_template_rows": null,
      "height": null,
      "justify_content": null,
      "justify_items": null,
      "left": null,
      "margin": null,
      "max_height": null,
      "max_width": null,
      "min_height": null,
      "min_width": null,
      "object_fit": null,
      "object_position": null,
      "order": null,
      "overflow": null,
      "overflow_x": null,
      "overflow_y": null,
      "padding": null,
      "right": null,
      "top": null,
      "visibility": null,
      "width": null
     }
    },
    "3c979dc1e1ba4c1399c2282c458e8a68": {
     "model_module": "@jupyter-widgets/controls",
     "model_module_version": "1.5.0",
     "model_name": "HTMLModel",
     "state": {
      "_dom_classes": [],
      "_model_module": "@jupyter-widgets/controls",
      "_model_module_version": "1.5.0",
      "_model_name": "HTMLModel",
      "_view_count": null,
      "_view_module": "@jupyter-widgets/controls",
      "_view_module_version": "1.5.0",
      "_view_name": "HTMLView",
      "description": "",
      "description_tooltip": null,
      "layout": "IPY_MODEL_0e62a6ebd90044bdaf9ceb543e7a6189",
      "placeholder": "​",
      "style": "IPY_MODEL_986ccab3e1e949f4b4e3b013b16d9e25",
      "value": "Map: 100%"
     }
    },
    "4027d6ed4642465aba3633cc80cec900": {
     "model_module": "@jupyter-widgets/controls",
     "model_module_version": "1.5.0",
     "model_name": "FloatProgressModel",
     "state": {
      "_dom_classes": [],
      "_model_module": "@jupyter-widgets/controls",
      "_model_module_version": "1.5.0",
      "_model_name": "FloatProgressModel",
      "_view_count": null,
      "_view_module": "@jupyter-widgets/controls",
      "_view_module_version": "1.5.0",
      "_view_name": "ProgressView",
      "bar_style": "success",
      "description": "",
      "description_tooltip": null,
      "layout": "IPY_MODEL_549006355b5047d187af1f534f0b5529",
      "max": 262620,
      "min": 0,
      "orientation": "horizontal",
      "style": "IPY_MODEL_42bbfe3565954cd59836806f8cedd605",
      "value": 262620
     }
    },
    "42bbfe3565954cd59836806f8cedd605": {
     "model_module": "@jupyter-widgets/controls",
     "model_module_version": "1.5.0",
     "model_name": "ProgressStyleModel",
     "state": {
      "_model_module": "@jupyter-widgets/controls",
      "_model_module_version": "1.5.0",
      "_model_name": "ProgressStyleModel",
      "_view_count": null,
      "_view_module": "@jupyter-widgets/base",
      "_view_module_version": "1.2.0",
      "_view_name": "StyleView",
      "bar_color": null,
      "description_width": ""
     }
    },
    "456ee3b1983d460eacf9764e33bdb617": {
     "model_module": "@jupyter-widgets/base",
     "model_module_version": "1.2.0",
     "model_name": "LayoutModel",
     "state": {
      "_model_module": "@jupyter-widgets/base",
      "_model_module_version": "1.2.0",
      "_model_name": "LayoutModel",
      "_view_count": null,
      "_view_module": "@jupyter-widgets/base",
      "_view_module_version": "1.2.0",
      "_view_name": "LayoutView",
      "align_content": null,
      "align_items": null,
      "align_self": null,
      "border": null,
      "bottom": null,
      "display": null,
      "flex": null,
      "flex_flow": null,
      "grid_area": null,
      "grid_auto_columns": null,
      "grid_auto_flow": null,
      "grid_auto_rows": null,
      "grid_column": null,
      "grid_gap": null,
      "grid_row": null,
      "grid_template_areas": null,
      "grid_template_columns": null,
      "grid_template_rows": null,
      "height": null,
      "justify_content": null,
      "justify_items": null,
      "left": null,
      "margin": null,
      "max_height": null,
      "max_width": null,
      "min_height": null,
      "min_width": null,
      "object_fit": null,
      "object_position": null,
      "order": null,
      "overflow": null,
      "overflow_x": null,
      "overflow_y": null,
      "padding": null,
      "right": null,
      "top": null,
      "visibility": null,
      "width": null
     }
    },
    "45e17478db29413eac9fd470a9bec536": {
     "model_module": "@jupyter-widgets/controls",
     "model_module_version": "1.5.0",
     "model_name": "DescriptionStyleModel",
     "state": {
      "_model_module": "@jupyter-widgets/controls",
      "_model_module_version": "1.5.0",
      "_model_name": "DescriptionStyleModel",
      "_view_count": null,
      "_view_module": "@jupyter-widgets/base",
      "_view_module_version": "1.2.0",
      "_view_name": "StyleView",
      "description_width": ""
     }
    },
    "4a9b2f0b89fd44ae9d6d011e6edad0b2": {
     "model_module": "@jupyter-widgets/controls",
     "model_module_version": "1.5.0",
     "model_name": "DescriptionStyleModel",
     "state": {
      "_model_module": "@jupyter-widgets/controls",
      "_model_module_version": "1.5.0",
      "_model_name": "DescriptionStyleModel",
      "_view_count": null,
      "_view_module": "@jupyter-widgets/base",
      "_view_module_version": "1.2.0",
      "_view_name": "StyleView",
      "description_width": ""
     }
    },
    "4b8dcd4a2dac49a48551106ef314a61d": {
     "model_module": "@jupyter-widgets/controls",
     "model_module_version": "1.5.0",
     "model_name": "HTMLModel",
     "state": {
      "_dom_classes": [],
      "_model_module": "@jupyter-widgets/controls",
      "_model_module_version": "1.5.0",
      "_model_name": "HTMLModel",
      "_view_count": null,
      "_view_module": "@jupyter-widgets/controls",
      "_view_module_version": "1.5.0",
      "_view_name": "HTMLView",
      "description": "",
      "description_tooltip": null,
      "layout": "IPY_MODEL_13f7b5b41450476f84e8ac16e2f47bb8",
      "placeholder": "​",
      "style": "IPY_MODEL_45e17478db29413eac9fd470a9bec536",
      "value": " 263k/263k [00:00&lt;00:00, 6.67MB/s]"
     }
    },
    "4e11a7b52f1d47f8975daea72273f7aa": {
     "model_module": "@jupyter-widgets/controls",
     "model_module_version": "1.5.0",
     "model_name": "ProgressStyleModel",
     "state": {
      "_model_module": "@jupyter-widgets/controls",
      "_model_module_version": "1.5.0",
      "_model_name": "ProgressStyleModel",
      "_view_count": null,
      "_view_module": "@jupyter-widgets/base",
      "_view_module_version": "1.2.0",
      "_view_name": "StyleView",
      "bar_color": null,
      "description_width": ""
     }
    },
    "52ee2934430847a69923b59b4881025b": {
     "model_module": "@jupyter-widgets/controls",
     "model_module_version": "1.5.0",
     "model_name": "FloatProgressModel",
     "state": {
      "_dom_classes": [],
      "_model_module": "@jupyter-widgets/controls",
      "_model_module_version": "1.5.0",
      "_model_name": "FloatProgressModel",
      "_view_count": null,
      "_view_module": "@jupyter-widgets/controls",
      "_view_module_version": "1.5.0",
      "_view_name": "ProgressView",
      "bar_style": "success",
      "description": "",
      "description_tooltip": null,
      "layout": "IPY_MODEL_137631ea5e0d4b40a2e952893630726b",
      "max": 385,
      "min": 0,
      "orientation": "horizontal",
      "style": "IPY_MODEL_2a799e7236c3407e87616eb552878999",
      "value": 385
     }
    },
    "53d3f6cbb14f4097a4a12e654ef4fa19": {
     "model_module": "@jupyter-widgets/base",
     "model_module_version": "1.2.0",
     "model_name": "LayoutModel",
     "state": {
      "_model_module": "@jupyter-widgets/base",
      "_model_module_version": "1.2.0",
      "_model_name": "LayoutModel",
      "_view_count": null,
      "_view_module": "@jupyter-widgets/base",
      "_view_module_version": "1.2.0",
      "_view_name": "LayoutView",
      "align_content": null,
      "align_items": null,
      "align_self": null,
      "border": null,
      "bottom": null,
      "display": null,
      "flex": null,
      "flex_flow": null,
      "grid_area": null,
      "grid_auto_columns": null,
      "grid_auto_flow": null,
      "grid_auto_rows": null,
      "grid_column": null,
      "grid_gap": null,
      "grid_row": null,
      "grid_template_areas": null,
      "grid_template_columns": null,
      "grid_template_rows": null,
      "height": null,
      "justify_content": null,
      "justify_items": null,
      "left": null,
      "margin": null,
      "max_height": null,
      "max_width": null,
      "min_height": null,
      "min_width": null,
      "object_fit": null,
      "object_position": null,
      "order": null,
      "overflow": null,
      "overflow_x": null,
      "overflow_y": null,
      "padding": null,
      "right": null,
      "top": null,
      "visibility": null,
      "width": null
     }
    },
    "549006355b5047d187af1f534f0b5529": {
     "model_module": "@jupyter-widgets/base",
     "model_module_version": "1.2.0",
     "model_name": "LayoutModel",
     "state": {
      "_model_module": "@jupyter-widgets/base",
      "_model_module_version": "1.2.0",
      "_model_name": "LayoutModel",
      "_view_count": null,
      "_view_module": "@jupyter-widgets/base",
      "_view_module_version": "1.2.0",
      "_view_name": "LayoutView",
      "align_content": null,
      "align_items": null,
      "align_self": null,
      "border": null,
      "bottom": null,
      "display": null,
      "flex": null,
      "flex_flow": null,
      "grid_area": null,
      "grid_auto_columns": null,
      "grid_auto_flow": null,
      "grid_auto_rows": null,
      "grid_column": null,
      "grid_gap": null,
      "grid_row": null,
      "grid_template_areas": null,
      "grid_template_columns": null,
      "grid_template_rows": null,
      "height": null,
      "justify_content": null,
      "justify_items": null,
      "left": null,
      "margin": null,
      "max_height": null,
      "max_width": null,
      "min_height": null,
      "min_width": null,
      "object_fit": null,
      "object_position": null,
      "order": null,
      "overflow": null,
      "overflow_x": null,
      "overflow_y": null,
      "padding": null,
      "right": null,
      "top": null,
      "visibility": null,
      "width": null
     }
    },
    "5590bca0b87148a6bc13c62fe2be8bb3": {
     "model_module": "@jupyter-widgets/controls",
     "model_module_version": "1.5.0",
     "model_name": "DescriptionStyleModel",
     "state": {
      "_model_module": "@jupyter-widgets/controls",
      "_model_module_version": "1.5.0",
      "_model_name": "DescriptionStyleModel",
      "_view_count": null,
      "_view_module": "@jupyter-widgets/base",
      "_view_module_version": "1.2.0",
      "_view_name": "StyleView",
      "description_width": ""
     }
    },
    "57c5c4b10cf64c3191d958c8de4b4b03": {
     "model_module": "@jupyter-widgets/controls",
     "model_module_version": "1.5.0",
     "model_name": "HTMLModel",
     "state": {
      "_dom_classes": [],
      "_model_module": "@jupyter-widgets/controls",
      "_model_module_version": "1.5.0",
      "_model_name": "HTMLModel",
      "_view_count": null,
      "_view_module": "@jupyter-widgets/controls",
      "_view_module_version": "1.5.0",
      "_view_name": "HTMLView",
      "description": "",
      "description_tooltip": null,
      "layout": "IPY_MODEL_c7104998945146a989d6e9a839a56534",
      "placeholder": "​",
      "style": "IPY_MODEL_a2a10e7c835548398b2f68f9b447391f",
      "value": " 2/2 [00:00&lt;00:00, 102.06 examples/s]"
     }
    },
    "5aaab73046be4528bd61894d2296e22c": {
     "model_module": "@jupyter-widgets/base",
     "model_module_version": "1.2.0",
     "model_name": "LayoutModel",
     "state": {
      "_model_module": "@jupyter-widgets/base",
      "_model_module_version": "1.2.0",
      "_model_name": "LayoutModel",
      "_view_count": null,
      "_view_module": "@jupyter-widgets/base",
      "_view_module_version": "1.2.0",
      "_view_name": "LayoutView",
      "align_content": null,
      "align_items": null,
      "align_self": null,
      "border": null,
      "bottom": null,
      "display": null,
      "flex": null,
      "flex_flow": null,
      "grid_area": null,
      "grid_auto_columns": null,
      "grid_auto_flow": null,
      "grid_auto_rows": null,
      "grid_column": null,
      "grid_gap": null,
      "grid_row": null,
      "grid_template_areas": null,
      "grid_template_columns": null,
      "grid_template_rows": null,
      "height": null,
      "justify_content": null,
      "justify_items": null,
      "left": null,
      "margin": null,
      "max_height": null,
      "max_width": null,
      "min_height": null,
      "min_width": null,
      "object_fit": null,
      "object_position": null,
      "order": null,
      "overflow": null,
      "overflow_x": null,
      "overflow_y": null,
      "padding": null,
      "right": null,
      "top": null,
      "visibility": null,
      "width": null
     }
    },
    "5c881243f6fe451abfd3196467651b5f": {
     "model_module": "@jupyter-widgets/controls",
     "model_module_version": "1.5.0",
     "model_name": "HBoxModel",
     "state": {
      "_dom_classes": [],
      "_model_module": "@jupyter-widgets/controls",
      "_model_module_version": "1.5.0",
      "_model_name": "HBoxModel",
      "_view_count": null,
      "_view_module": "@jupyter-widgets/controls",
      "_view_module_version": "1.5.0",
      "_view_name": "HBoxView",
      "box_style": "",
      "children": [
       "IPY_MODEL_3c979dc1e1ba4c1399c2282c458e8a68",
       "IPY_MODEL_12da303c6915462abd546b6e306aa309",
       "IPY_MODEL_230d32890cbf4417899fe47ba5f067eb"
      ],
      "layout": "IPY_MODEL_e7ff8bbabb914e50b1c4a6ffbaddbf3f"
     }
    },
    "6ceeb419e6594ba2940589b362a1318d": {
     "model_module": "@jupyter-widgets/controls",
     "model_module_version": "1.5.0",
     "model_name": "DescriptionStyleModel",
     "state": {
      "_model_module": "@jupyter-widgets/controls",
      "_model_module_version": "1.5.0",
      "_model_name": "DescriptionStyleModel",
      "_view_count": null,
      "_view_module": "@jupyter-widgets/base",
      "_view_module_version": "1.2.0",
      "_view_name": "StyleView",
      "description_width": ""
     }
    },
    "70ec0203491f42aba0680ba840b1b5d1": {
     "model_module": "@jupyter-widgets/base",
     "model_module_version": "1.2.0",
     "model_name": "LayoutModel",
     "state": {
      "_model_module": "@jupyter-widgets/base",
      "_model_module_version": "1.2.0",
      "_model_name": "LayoutModel",
      "_view_count": null,
      "_view_module": "@jupyter-widgets/base",
      "_view_module_version": "1.2.0",
      "_view_name": "LayoutView",
      "align_content": null,
      "align_items": null,
      "align_self": null,
      "border": null,
      "bottom": null,
      "display": null,
      "flex": null,
      "flex_flow": null,
      "grid_area": null,
      "grid_auto_columns": null,
      "grid_auto_flow": null,
      "grid_auto_rows": null,
      "grid_column": null,
      "grid_gap": null,
      "grid_row": null,
      "grid_template_areas": null,
      "grid_template_columns": null,
      "grid_template_rows": null,
      "height": null,
      "justify_content": null,
      "justify_items": null,
      "left": null,
      "margin": null,
      "max_height": null,
      "max_width": null,
      "min_height": null,
      "min_width": null,
      "object_fit": null,
      "object_position": null,
      "order": null,
      "overflow": null,
      "overflow_x": null,
      "overflow_y": null,
      "padding": null,
      "right": null,
      "top": null,
      "visibility": null,
      "width": null
     }
    },
    "7495303f03d14540949385d44eca1e9b": {
     "model_module": "@jupyter-widgets/controls",
     "model_module_version": "1.5.0",
     "model_name": "FloatProgressModel",
     "state": {
      "_dom_classes": [],
      "_model_module": "@jupyter-widgets/controls",
      "_model_module_version": "1.5.0",
      "_model_name": "FloatProgressModel",
      "_view_count": null,
      "_view_module": "@jupyter-widgets/controls",
      "_view_module_version": "1.5.0",
      "_view_name": "ProgressView",
      "bar_style": "success",
      "description": "",
      "description_tooltip": null,
      "layout": "IPY_MODEL_3b26d73ad095472aa4a47d0c7b1aacce",
      "max": 59,
      "min": 0,
      "orientation": "horizontal",
      "style": "IPY_MODEL_81037d4a676947baad867108c34bb929",
      "value": 59
     }
    },
    "77d0a8e28ab94997b2d18d8566235b22": {
     "model_module": "@jupyter-widgets/controls",
     "model_module_version": "1.5.0",
     "model_name": "ProgressStyleModel",
     "state": {
      "_model_module": "@jupyter-widgets/controls",
      "_model_module_version": "1.5.0",
      "_model_name": "ProgressStyleModel",
      "_view_count": null,
      "_view_module": "@jupyter-widgets/base",
      "_view_module_version": "1.2.0",
      "_view_name": "StyleView",
      "bar_color": null,
      "description_width": ""
     }
    },
    "7a0ee824e794485f91d7441d39334a23": {
     "model_module": "@jupyter-widgets/controls",
     "model_module_version": "1.5.0",
     "model_name": "DescriptionStyleModel",
     "state": {
      "_model_module": "@jupyter-widgets/controls",
      "_model_module_version": "1.5.0",
      "_model_name": "DescriptionStyleModel",
      "_view_count": null,
      "_view_module": "@jupyter-widgets/base",
      "_view_module_version": "1.2.0",
      "_view_name": "StyleView",
      "description_width": ""
     }
    },
    "80ddbb668ce045e7b39f1bf6162d43d9": {
     "model_module": "@jupyter-widgets/base",
     "model_module_version": "1.2.0",
     "model_name": "LayoutModel",
     "state": {
      "_model_module": "@jupyter-widgets/base",
      "_model_module_version": "1.2.0",
      "_model_name": "LayoutModel",
      "_view_count": null,
      "_view_module": "@jupyter-widgets/base",
      "_view_module_version": "1.2.0",
      "_view_name": "LayoutView",
      "align_content": null,
      "align_items": null,
      "align_self": null,
      "border": null,
      "bottom": null,
      "display": null,
      "flex": null,
      "flex_flow": null,
      "grid_area": null,
      "grid_auto_columns": null,
      "grid_auto_flow": null,
      "grid_auto_rows": null,
      "grid_column": null,
      "grid_gap": null,
      "grid_row": null,
      "grid_template_areas": null,
      "grid_template_columns": null,
      "grid_template_rows": null,
      "height": null,
      "justify_content": null,
      "justify_items": null,
      "left": null,
      "margin": null,
      "max_height": null,
      "max_width": null,
      "min_height": null,
      "min_width": null,
      "object_fit": null,
      "object_position": null,
      "order": null,
      "overflow": null,
      "overflow_x": null,
      "overflow_y": null,
      "padding": null,
      "right": null,
      "top": null,
      "visibility": null,
      "width": null
     }
    },
    "81037d4a676947baad867108c34bb929": {
     "model_module": "@jupyter-widgets/controls",
     "model_module_version": "1.5.0",
     "model_name": "ProgressStyleModel",
     "state": {
      "_model_module": "@jupyter-widgets/controls",
      "_model_module_version": "1.5.0",
      "_model_name": "ProgressStyleModel",
      "_view_count": null,
      "_view_module": "@jupyter-widgets/base",
      "_view_module_version": "1.2.0",
      "_view_name": "StyleView",
      "bar_color": null,
      "description_width": ""
     }
    },
    "859c7c768d6942c485cb96feb573c341": {
     "model_module": "@jupyter-widgets/controls",
     "model_module_version": "1.5.0",
     "model_name": "HBoxModel",
     "state": {
      "_dom_classes": [],
      "_model_module": "@jupyter-widgets/controls",
      "_model_module_version": "1.5.0",
      "_model_name": "HBoxModel",
      "_view_count": null,
      "_view_module": "@jupyter-widgets/controls",
      "_view_module_version": "1.5.0",
      "_view_name": "HBoxView",
      "box_style": "",
      "children": [
       "IPY_MODEL_210aab8f1f7a4b90a226563b0763f95a",
       "IPY_MODEL_f19a594ff61e4cc795e6144428ac5809",
       "IPY_MODEL_1a6995f8860c4df88637b1e20acc3ede"
      ],
      "layout": "IPY_MODEL_456ee3b1983d460eacf9764e33bdb617"
     }
    },
    "8a3903e6d8c341a385c88b8de375b42a": {
     "model_module": "@jupyter-widgets/controls",
     "model_module_version": "1.5.0",
     "model_name": "DescriptionStyleModel",
     "state": {
      "_model_module": "@jupyter-widgets/controls",
      "_model_module_version": "1.5.0",
      "_model_name": "DescriptionStyleModel",
      "_view_count": null,
      "_view_module": "@jupyter-widgets/base",
      "_view_module_version": "1.2.0",
      "_view_name": "StyleView",
      "description_width": ""
     }
    },
    "92e96b0b0e0f48639e1059047612b5ba": {
     "model_module": "@jupyter-widgets/base",
     "model_module_version": "1.2.0",
     "model_name": "LayoutModel",
     "state": {
      "_model_module": "@jupyter-widgets/base",
      "_model_module_version": "1.2.0",
      "_model_name": "LayoutModel",
      "_view_count": null,
      "_view_module": "@jupyter-widgets/base",
      "_view_module_version": "1.2.0",
      "_view_name": "LayoutView",
      "align_content": null,
      "align_items": null,
      "align_self": null,
      "border": null,
      "bottom": null,
      "display": null,
      "flex": null,
      "flex_flow": null,
      "grid_area": null,
      "grid_auto_columns": null,
      "grid_auto_flow": null,
      "grid_auto_rows": null,
      "grid_column": null,
      "grid_gap": null,
      "grid_row": null,
      "grid_template_areas": null,
      "grid_template_columns": null,
      "grid_template_rows": null,
      "height": null,
      "justify_content": null,
      "justify_items": null,
      "left": null,
      "margin": null,
      "max_height": null,
      "max_width": null,
      "min_height": null,
      "min_width": null,
      "object_fit": null,
      "object_position": null,
      "order": null,
      "overflow": null,
      "overflow_x": null,
      "overflow_y": null,
      "padding": null,
      "right": null,
      "top": null,
      "visibility": null,
      "width": null
     }
    },
    "986ccab3e1e949f4b4e3b013b16d9e25": {
     "model_module": "@jupyter-widgets/controls",
     "model_module_version": "1.5.0",
     "model_name": "DescriptionStyleModel",
     "state": {
      "_model_module": "@jupyter-widgets/controls",
      "_model_module_version": "1.5.0",
      "_model_name": "DescriptionStyleModel",
      "_view_count": null,
      "_view_module": "@jupyter-widgets/base",
      "_view_module_version": "1.2.0",
      "_view_name": "StyleView",
      "description_width": ""
     }
    },
    "a25d9ee9904c4917bda7bf763fb1d3de": {
     "model_module": "@jupyter-widgets/base",
     "model_module_version": "1.2.0",
     "model_name": "LayoutModel",
     "state": {
      "_model_module": "@jupyter-widgets/base",
      "_model_module_version": "1.2.0",
      "_model_name": "LayoutModel",
      "_view_count": null,
      "_view_module": "@jupyter-widgets/base",
      "_view_module_version": "1.2.0",
      "_view_name": "LayoutView",
      "align_content": null,
      "align_items": null,
      "align_self": null,
      "border": null,
      "bottom": null,
      "display": null,
      "flex": null,
      "flex_flow": null,
      "grid_area": null,
      "grid_auto_columns": null,
      "grid_auto_flow": null,
      "grid_auto_rows": null,
      "grid_column": null,
      "grid_gap": null,
      "grid_row": null,
      "grid_template_areas": null,
      "grid_template_columns": null,
      "grid_template_rows": null,
      "height": null,
      "justify_content": null,
      "justify_items": null,
      "left": null,
      "margin": null,
      "max_height": null,
      "max_width": null,
      "min_height": null,
      "min_width": null,
      "object_fit": null,
      "object_position": null,
      "order": null,
      "overflow": null,
      "overflow_x": null,
      "overflow_y": null,
      "padding": null,
      "right": null,
      "top": null,
      "visibility": null,
      "width": null
     }
    },
    "a2a10e7c835548398b2f68f9b447391f": {
     "model_module": "@jupyter-widgets/controls",
     "model_module_version": "1.5.0",
     "model_name": "DescriptionStyleModel",
     "state": {
      "_model_module": "@jupyter-widgets/controls",
      "_model_module_version": "1.5.0",
      "_model_name": "DescriptionStyleModel",
      "_view_count": null,
      "_view_module": "@jupyter-widgets/base",
      "_view_module_version": "1.2.0",
      "_view_name": "StyleView",
      "description_width": ""
     }
    },
    "a416d327f5a94945a7cf34822cf65339": {
     "model_module": "@jupyter-widgets/base",
     "model_module_version": "1.2.0",
     "model_name": "LayoutModel",
     "state": {
      "_model_module": "@jupyter-widgets/base",
      "_model_module_version": "1.2.0",
      "_model_name": "LayoutModel",
      "_view_count": null,
      "_view_module": "@jupyter-widgets/base",
      "_view_module_version": "1.2.0",
      "_view_name": "LayoutView",
      "align_content": null,
      "align_items": null,
      "align_self": null,
      "border": null,
      "bottom": null,
      "display": null,
      "flex": null,
      "flex_flow": null,
      "grid_area": null,
      "grid_auto_columns": null,
      "grid_auto_flow": null,
      "grid_auto_rows": null,
      "grid_column": null,
      "grid_gap": null,
      "grid_row": null,
      "grid_template_areas": null,
      "grid_template_columns": null,
      "grid_template_rows": null,
      "height": null,
      "justify_content": null,
      "justify_items": null,
      "left": null,
      "margin": null,
      "max_height": null,
      "max_width": null,
      "min_height": null,
      "min_width": null,
      "object_fit": null,
      "object_position": null,
      "order": null,
      "overflow": null,
      "overflow_x": null,
      "overflow_y": null,
      "padding": null,
      "right": null,
      "top": null,
      "visibility": null,
      "width": null
     }
    },
    "a6e90d635ccb4584a6cac980aa9015ec": {
     "model_module": "@jupyter-widgets/controls",
     "model_module_version": "1.5.0",
     "model_name": "HTMLModel",
     "state": {
      "_dom_classes": [],
      "_model_module": "@jupyter-widgets/controls",
      "_model_module_version": "1.5.0",
      "_model_name": "HTMLModel",
      "_view_count": null,
      "_view_module": "@jupyter-widgets/controls",
      "_view_module_version": "1.5.0",
      "_view_name": "HTMLView",
      "description": "",
      "description_tooltip": null,
      "layout": "IPY_MODEL_d46d9d56c01d455cb9e5d65416e212ae",
      "placeholder": "​",
      "style": "IPY_MODEL_deddcc35839046dab740b9da7aa4dd06",
      "value": "vocab.txt: 100%"
     }
    },
    "a6ee5402cca04873a0e4c3f2fc542d68": {
     "model_module": "@jupyter-widgets/base",
     "model_module_version": "1.2.0",
     "model_name": "LayoutModel",
     "state": {
      "_model_module": "@jupyter-widgets/base",
      "_model_module_version": "1.2.0",
      "_model_name": "LayoutModel",
      "_view_count": null,
      "_view_module": "@jupyter-widgets/base",
      "_view_module_version": "1.2.0",
      "_view_name": "LayoutView",
      "align_content": null,
      "align_items": null,
      "align_self": null,
      "border": null,
      "bottom": null,
      "display": null,
      "flex": null,
      "flex_flow": null,
      "grid_area": null,
      "grid_auto_columns": null,
      "grid_auto_flow": null,
      "grid_auto_rows": null,
      "grid_column": null,
      "grid_gap": null,
      "grid_row": null,
      "grid_template_areas": null,
      "grid_template_columns": null,
      "grid_template_rows": null,
      "height": null,
      "justify_content": null,
      "justify_items": null,
      "left": null,
      "margin": null,
      "max_height": null,
      "max_width": null,
      "min_height": null,
      "min_width": null,
      "object_fit": null,
      "object_position": null,
      "order": null,
      "overflow": null,
      "overflow_x": null,
      "overflow_y": null,
      "padding": null,
      "right": null,
      "top": null,
      "visibility": null,
      "width": null
     }
    },
    "b0225b22dbfe4cdfb16c2d4a47044cbd": {
     "model_module": "@jupyter-widgets/base",
     "model_module_version": "1.2.0",
     "model_name": "LayoutModel",
     "state": {
      "_model_module": "@jupyter-widgets/base",
      "_model_module_version": "1.2.0",
      "_model_name": "LayoutModel",
      "_view_count": null,
      "_view_module": "@jupyter-widgets/base",
      "_view_module_version": "1.2.0",
      "_view_name": "LayoutView",
      "align_content": null,
      "align_items": null,
      "align_self": null,
      "border": null,
      "bottom": null,
      "display": null,
      "flex": null,
      "flex_flow": null,
      "grid_area": null,
      "grid_auto_columns": null,
      "grid_auto_flow": null,
      "grid_auto_rows": null,
      "grid_column": null,
      "grid_gap": null,
      "grid_row": null,
      "grid_template_areas": null,
      "grid_template_columns": null,
      "grid_template_rows": null,
      "height": null,
      "justify_content": null,
      "justify_items": null,
      "left": null,
      "margin": null,
      "max_height": null,
      "max_width": null,
      "min_height": null,
      "min_width": null,
      "object_fit": null,
      "object_position": null,
      "order": null,
      "overflow": null,
      "overflow_x": null,
      "overflow_y": null,
      "padding": null,
      "right": null,
      "top": null,
      "visibility": null,
      "width": null
     }
    },
    "b135218bd872492991b00cdab289a1d6": {
     "model_module": "@jupyter-widgets/controls",
     "model_module_version": "1.5.0",
     "model_name": "DescriptionStyleModel",
     "state": {
      "_model_module": "@jupyter-widgets/controls",
      "_model_module_version": "1.5.0",
      "_model_name": "DescriptionStyleModel",
      "_view_count": null,
      "_view_module": "@jupyter-widgets/base",
      "_view_module_version": "1.2.0",
      "_view_name": "StyleView",
      "description_width": ""
     }
    },
    "b25d223a9ac64cf9b296ea5066c575ce": {
     "model_module": "@jupyter-widgets/base",
     "model_module_version": "1.2.0",
     "model_name": "LayoutModel",
     "state": {
      "_model_module": "@jupyter-widgets/base",
      "_model_module_version": "1.2.0",
      "_model_name": "LayoutModel",
      "_view_count": null,
      "_view_module": "@jupyter-widgets/base",
      "_view_module_version": "1.2.0",
      "_view_name": "LayoutView",
      "align_content": null,
      "align_items": null,
      "align_self": null,
      "border": null,
      "bottom": null,
      "display": null,
      "flex": null,
      "flex_flow": null,
      "grid_area": null,
      "grid_auto_columns": null,
      "grid_auto_flow": null,
      "grid_auto_rows": null,
      "grid_column": null,
      "grid_gap": null,
      "grid_row": null,
      "grid_template_areas": null,
      "grid_template_columns": null,
      "grid_template_rows": null,
      "height": null,
      "justify_content": null,
      "justify_items": null,
      "left": null,
      "margin": null,
      "max_height": null,
      "max_width": null,
      "min_height": null,
      "min_width": null,
      "object_fit": null,
      "object_position": null,
      "order": null,
      "overflow": null,
      "overflow_x": null,
      "overflow_y": null,
      "padding": null,
      "right": null,
      "top": null,
      "visibility": null,
      "width": null
     }
    },
    "b97c4a546c5e4807882beeb9365358fd": {
     "model_module": "@jupyter-widgets/controls",
     "model_module_version": "1.5.0",
     "model_name": "HTMLModel",
     "state": {
      "_dom_classes": [],
      "_model_module": "@jupyter-widgets/controls",
      "_model_module_version": "1.5.0",
      "_model_name": "HTMLModel",
      "_view_count": null,
      "_view_module": "@jupyter-widgets/controls",
      "_view_module_version": "1.5.0",
      "_view_name": "HTMLView",
      "description": "",
      "description_tooltip": null,
      "layout": "IPY_MODEL_2e76bf3c9abd4703b982d927928b3cf0",
      "placeholder": "​",
      "style": "IPY_MODEL_e8d68fc4edd6406abc9461df4dfef7c1",
      "value": " 545M/545M [00:02&lt;00:00, 264MB/s]"
     }
    },
    "b9d986b454444f4bba3f7c254f5d0e64": {
     "model_module": "@jupyter-widgets/controls",
     "model_module_version": "1.5.0",
     "model_name": "HTMLModel",
     "state": {
      "_dom_classes": [],
      "_model_module": "@jupyter-widgets/controls",
      "_model_module_version": "1.5.0",
      "_model_name": "HTMLModel",
      "_view_count": null,
      "_view_module": "@jupyter-widgets/controls",
      "_view_module_version": "1.5.0",
      "_view_name": "HTMLView",
      "description": "",
      "description_tooltip": null,
      "layout": "IPY_MODEL_a416d327f5a94945a7cf34822cf65339",
      "placeholder": "​",
      "style": "IPY_MODEL_b135218bd872492991b00cdab289a1d6",
      "value": "tokenizer_config.json: 100%"
     }
    },
    "c15e37dccd8d47a089043960a8acbc6e": {
     "model_module": "@jupyter-widgets/controls",
     "model_module_version": "1.5.0",
     "model_name": "FloatProgressModel",
     "state": {
      "_dom_classes": [],
      "_model_module": "@jupyter-widgets/controls",
      "_model_module_version": "1.5.0",
      "_model_name": "FloatProgressModel",
      "_view_count": null,
      "_view_module": "@jupyter-widgets/controls",
      "_view_module_version": "1.5.0",
      "_view_name": "ProgressView",
      "bar_style": "success",
      "description": "",
      "description_tooltip": null,
      "layout": "IPY_MODEL_5aaab73046be4528bd61894d2296e22c",
      "max": 2,
      "min": 0,
      "orientation": "horizontal",
      "style": "IPY_MODEL_77d0a8e28ab94997b2d18d8566235b22",
      "value": 2
     }
    },
    "c5e1b7e4a782407497370a989f798927": {
     "model_module": "@jupyter-widgets/controls",
     "model_module_version": "1.5.0",
     "model_name": "DescriptionStyleModel",
     "state": {
      "_model_module": "@jupyter-widgets/controls",
      "_model_module_version": "1.5.0",
      "_model_name": "DescriptionStyleModel",
      "_view_count": null,
      "_view_module": "@jupyter-widgets/base",
      "_view_module_version": "1.2.0",
      "_view_name": "StyleView",
      "description_width": ""
     }
    },
    "c7104998945146a989d6e9a839a56534": {
     "model_module": "@jupyter-widgets/base",
     "model_module_version": "1.2.0",
     "model_name": "LayoutModel",
     "state": {
      "_model_module": "@jupyter-widgets/base",
      "_model_module_version": "1.2.0",
      "_model_name": "LayoutModel",
      "_view_count": null,
      "_view_module": "@jupyter-widgets/base",
      "_view_module_version": "1.2.0",
      "_view_name": "LayoutView",
      "align_content": null,
      "align_items": null,
      "align_self": null,
      "border": null,
      "bottom": null,
      "display": null,
      "flex": null,
      "flex_flow": null,
      "grid_area": null,
      "grid_auto_columns": null,
      "grid_auto_flow": null,
      "grid_auto_rows": null,
      "grid_column": null,
      "grid_gap": null,
      "grid_row": null,
      "grid_template_areas": null,
      "grid_template_columns": null,
      "grid_template_rows": null,
      "height": null,
      "justify_content": null,
      "justify_items": null,
      "left": null,
      "margin": null,
      "max_height": null,
      "max_width": null,
      "min_height": null,
      "min_width": null,
      "object_fit": null,
      "object_position": null,
      "order": null,
      "overflow": null,
      "overflow_x": null,
      "overflow_y": null,
      "padding": null,
      "right": null,
      "top": null,
      "visibility": null,
      "width": null
     }
    },
    "c81f7f60b41a4261ba28d83331acb466": {
     "model_module": "@jupyter-widgets/controls",
     "model_module_version": "1.5.0",
     "model_name": "DescriptionStyleModel",
     "state": {
      "_model_module": "@jupyter-widgets/controls",
      "_model_module_version": "1.5.0",
      "_model_name": "DescriptionStyleModel",
      "_view_count": null,
      "_view_module": "@jupyter-widgets/base",
      "_view_module_version": "1.2.0",
      "_view_name": "StyleView",
      "description_width": ""
     }
    },
    "c83713ff68c14a7dadc0a6c96f325946": {
     "model_module": "@jupyter-widgets/base",
     "model_module_version": "1.2.0",
     "model_name": "LayoutModel",
     "state": {
      "_model_module": "@jupyter-widgets/base",
      "_model_module_version": "1.2.0",
      "_model_name": "LayoutModel",
      "_view_count": null,
      "_view_module": "@jupyter-widgets/base",
      "_view_module_version": "1.2.0",
      "_view_name": "LayoutView",
      "align_content": null,
      "align_items": null,
      "align_self": null,
      "border": null,
      "bottom": null,
      "display": null,
      "flex": null,
      "flex_flow": null,
      "grid_area": null,
      "grid_auto_columns": null,
      "grid_auto_flow": null,
      "grid_auto_rows": null,
      "grid_column": null,
      "grid_gap": null,
      "grid_row": null,
      "grid_template_areas": null,
      "grid_template_columns": null,
      "grid_template_rows": null,
      "height": null,
      "justify_content": null,
      "justify_items": null,
      "left": null,
      "margin": null,
      "max_height": null,
      "max_width": null,
      "min_height": null,
      "min_width": null,
      "object_fit": null,
      "object_position": null,
      "order": null,
      "overflow": null,
      "overflow_x": null,
      "overflow_y": null,
      "padding": null,
      "right": null,
      "top": null,
      "visibility": null,
      "width": null
     }
    },
    "d3f01437ba554dc4bf073f872a958f0d": {
     "model_module": "@jupyter-widgets/controls",
     "model_module_version": "1.5.0",
     "model_name": "HTMLModel",
     "state": {
      "_dom_classes": [],
      "_model_module": "@jupyter-widgets/controls",
      "_model_module_version": "1.5.0",
      "_model_name": "HTMLModel",
      "_view_count": null,
      "_view_module": "@jupyter-widgets/controls",
      "_view_module_version": "1.5.0",
      "_view_name": "HTMLView",
      "description": "",
      "description_tooltip": null,
      "layout": "IPY_MODEL_a25d9ee9904c4917bda7bf763fb1d3de",
      "placeholder": "​",
      "style": "IPY_MODEL_d83c8078df8c4d668104ea955b80514a",
      "value": " 59.0/59.0 [00:00&lt;00:00, 4.75kB/s]"
     }
    },
    "d46d9d56c01d455cb9e5d65416e212ae": {
     "model_module": "@jupyter-widgets/base",
     "model_module_version": "1.2.0",
     "model_name": "LayoutModel",
     "state": {
      "_model_module": "@jupyter-widgets/base",
      "_model_module_version": "1.2.0",
      "_model_name": "LayoutModel",
      "_view_count": null,
      "_view_module": "@jupyter-widgets/base",
      "_view_module_version": "1.2.0",
      "_view_name": "LayoutView",
      "align_content": null,
      "align_items": null,
      "align_self": null,
      "border": null,
      "bottom": null,
      "display": null,
      "flex": null,
      "flex_flow": null,
      "grid_area": null,
      "grid_auto_columns": null,
      "grid_auto_flow": null,
      "grid_auto_rows": null,
      "grid_column": null,
      "grid_gap": null,
      "grid_row": null,
      "grid_template_areas": null,
      "grid_template_columns": null,
      "grid_template_rows": null,
      "height": null,
      "justify_content": null,
      "justify_items": null,
      "left": null,
      "margin": null,
      "max_height": null,
      "max_width": null,
      "min_height": null,
      "min_width": null,
      "object_fit": null,
      "object_position": null,
      "order": null,
      "overflow": null,
      "overflow_x": null,
      "overflow_y": null,
      "padding": null,
      "right": null,
      "top": null,
      "visibility": null,
      "width": null
     }
    },
    "d77e5780e3504630a78f99fc3f4cdac0": {
     "model_module": "@jupyter-widgets/controls",
     "model_module_version": "1.5.0",
     "model_name": "ProgressStyleModel",
     "state": {
      "_model_module": "@jupyter-widgets/controls",
      "_model_module_version": "1.5.0",
      "_model_name": "ProgressStyleModel",
      "_view_count": null,
      "_view_module": "@jupyter-widgets/base",
      "_view_module_version": "1.2.0",
      "_view_name": "StyleView",
      "bar_color": null,
      "description_width": ""
     }
    },
    "d83c8078df8c4d668104ea955b80514a": {
     "model_module": "@jupyter-widgets/controls",
     "model_module_version": "1.5.0",
     "model_name": "DescriptionStyleModel",
     "state": {
      "_model_module": "@jupyter-widgets/controls",
      "_model_module_version": "1.5.0",
      "_model_name": "DescriptionStyleModel",
      "_view_count": null,
      "_view_module": "@jupyter-widgets/base",
      "_view_module_version": "1.2.0",
      "_view_name": "StyleView",
      "description_width": ""
     }
    },
    "d854d2e94c2a4baa837de4138262e461": {
     "model_module": "@jupyter-widgets/base",
     "model_module_version": "1.2.0",
     "model_name": "LayoutModel",
     "state": {
      "_model_module": "@jupyter-widgets/base",
      "_model_module_version": "1.2.0",
      "_model_name": "LayoutModel",
      "_view_count": null,
      "_view_module": "@jupyter-widgets/base",
      "_view_module_version": "1.2.0",
      "_view_name": "LayoutView",
      "align_content": null,
      "align_items": null,
      "align_self": null,
      "border": null,
      "bottom": null,
      "display": null,
      "flex": null,
      "flex_flow": null,
      "grid_area": null,
      "grid_auto_columns": null,
      "grid_auto_flow": null,
      "grid_auto_rows": null,
      "grid_column": null,
      "grid_gap": null,
      "grid_row": null,
      "grid_template_areas": null,
      "grid_template_columns": null,
      "grid_template_rows": null,
      "height": null,
      "justify_content": null,
      "justify_items": null,
      "left": null,
      "margin": null,
      "max_height": null,
      "max_width": null,
      "min_height": null,
      "min_width": null,
      "object_fit": null,
      "object_position": null,
      "order": null,
      "overflow": null,
      "overflow_x": null,
      "overflow_y": null,
      "padding": null,
      "right": null,
      "top": null,
      "visibility": null,
      "width": null
     }
    },
    "d924069a55b14f0b8d085879e217b389": {
     "model_module": "@jupyter-widgets/controls",
     "model_module_version": "1.5.0",
     "model_name": "HTMLModel",
     "state": {
      "_dom_classes": [],
      "_model_module": "@jupyter-widgets/controls",
      "_model_module_version": "1.5.0",
      "_model_name": "HTMLModel",
      "_view_count": null,
      "_view_module": "@jupyter-widgets/controls",
      "_view_module_version": "1.5.0",
      "_view_name": "HTMLView",
      "description": "",
      "description_tooltip": null,
      "layout": "IPY_MODEL_b0225b22dbfe4cdfb16c2d4a47044cbd",
      "placeholder": "​",
      "style": "IPY_MODEL_5590bca0b87148a6bc13c62fe2be8bb3",
      "value": "Map: 100%"
     }
    },
    "da8b2fb373a24ed3b0e6dc4c8ba50371": {
     "model_module": "@jupyter-widgets/controls",
     "model_module_version": "1.5.0",
     "model_name": "ProgressStyleModel",
     "state": {
      "_model_module": "@jupyter-widgets/controls",
      "_model_module_version": "1.5.0",
      "_model_name": "ProgressStyleModel",
      "_view_count": null,
      "_view_module": "@jupyter-widgets/base",
      "_view_module_version": "1.2.0",
      "_view_name": "StyleView",
      "bar_color": null,
      "description_width": ""
     }
    },
    "deddcc35839046dab740b9da7aa4dd06": {
     "model_module": "@jupyter-widgets/controls",
     "model_module_version": "1.5.0",
     "model_name": "DescriptionStyleModel",
     "state": {
      "_model_module": "@jupyter-widgets/controls",
      "_model_module_version": "1.5.0",
      "_model_name": "DescriptionStyleModel",
      "_view_count": null,
      "_view_module": "@jupyter-widgets/base",
      "_view_module_version": "1.2.0",
      "_view_name": "StyleView",
      "description_width": ""
     }
    },
    "df5428edc3a949f090f98b1636ab61b4": {
     "model_module": "@jupyter-widgets/controls",
     "model_module_version": "1.5.0",
     "model_name": "FloatProgressModel",
     "state": {
      "_dom_classes": [],
      "_model_module": "@jupyter-widgets/controls",
      "_model_module_version": "1.5.0",
      "_model_name": "FloatProgressModel",
      "_view_count": null,
      "_view_module": "@jupyter-widgets/controls",
      "_view_module_version": "1.5.0",
      "_view_name": "ProgressView",
      "bar_style": "success",
      "description": "",
      "description_tooltip": null,
      "layout": "IPY_MODEL_80ddbb668ce045e7b39f1bf6162d43d9",
      "max": 545150592,
      "min": 0,
      "orientation": "horizontal",
      "style": "IPY_MODEL_4e11a7b52f1d47f8975daea72273f7aa",
      "value": 545150592
     }
    },
    "e073390e7b1b4a31aace4b52e7c120a4": {
     "model_module": "@jupyter-widgets/base",
     "model_module_version": "1.2.0",
     "model_name": "LayoutModel",
     "state": {
      "_model_module": "@jupyter-widgets/base",
      "_model_module_version": "1.2.0",
      "_model_name": "LayoutModel",
      "_view_count": null,
      "_view_module": "@jupyter-widgets/base",
      "_view_module_version": "1.2.0",
      "_view_name": "LayoutView",
      "align_content": null,
      "align_items": null,
      "align_self": null,
      "border": null,
      "bottom": null,
      "display": null,
      "flex": null,
      "flex_flow": null,
      "grid_area": null,
      "grid_auto_columns": null,
      "grid_auto_flow": null,
      "grid_auto_rows": null,
      "grid_column": null,
      "grid_gap": null,
      "grid_row": null,
      "grid_template_areas": null,
      "grid_template_columns": null,
      "grid_template_rows": null,
      "height": null,
      "justify_content": null,
      "justify_items": null,
      "left": null,
      "margin": null,
      "max_height": null,
      "max_width": null,
      "min_height": null,
      "min_width": null,
      "object_fit": null,
      "object_position": null,
      "order": null,
      "overflow": null,
      "overflow_x": null,
      "overflow_y": null,
      "padding": null,
      "right": null,
      "top": null,
      "visibility": null,
      "width": null
     }
    },
    "e7ff8bbabb914e50b1c4a6ffbaddbf3f": {
     "model_module": "@jupyter-widgets/base",
     "model_module_version": "1.2.0",
     "model_name": "LayoutModel",
     "state": {
      "_model_module": "@jupyter-widgets/base",
      "_model_module_version": "1.2.0",
      "_model_name": "LayoutModel",
      "_view_count": null,
      "_view_module": "@jupyter-widgets/base",
      "_view_module_version": "1.2.0",
      "_view_name": "LayoutView",
      "align_content": null,
      "align_items": null,
      "align_self": null,
      "border": null,
      "bottom": null,
      "display": null,
      "flex": null,
      "flex_flow": null,
      "grid_area": null,
      "grid_auto_columns": null,
      "grid_auto_flow": null,
      "grid_auto_rows": null,
      "grid_column": null,
      "grid_gap": null,
      "grid_row": null,
      "grid_template_areas": null,
      "grid_template_columns": null,
      "grid_template_rows": null,
      "height": null,
      "justify_content": null,
      "justify_items": null,
      "left": null,
      "margin": null,
      "max_height": null,
      "max_width": null,
      "min_height": null,
      "min_width": null,
      "object_fit": null,
      "object_position": null,
      "order": null,
      "overflow": null,
      "overflow_x": null,
      "overflow_y": null,
      "padding": null,
      "right": null,
      "top": null,
      "visibility": null,
      "width": null
     }
    },
    "e8d68fc4edd6406abc9461df4dfef7c1": {
     "model_module": "@jupyter-widgets/controls",
     "model_module_version": "1.5.0",
     "model_name": "DescriptionStyleModel",
     "state": {
      "_model_module": "@jupyter-widgets/controls",
      "_model_module_version": "1.5.0",
      "_model_name": "DescriptionStyleModel",
      "_view_count": null,
      "_view_module": "@jupyter-widgets/base",
      "_view_module_version": "1.2.0",
      "_view_name": "StyleView",
      "description_width": ""
     }
    },
    "f096df0a18f6428a8669588390d2fedf": {
     "model_module": "@jupyter-widgets/controls",
     "model_module_version": "1.5.0",
     "model_name": "HTMLModel",
     "state": {
      "_dom_classes": [],
      "_model_module": "@jupyter-widgets/controls",
      "_model_module_version": "1.5.0",
      "_model_name": "HTMLModel",
      "_view_count": null,
      "_view_module": "@jupyter-widgets/controls",
      "_view_module_version": "1.5.0",
      "_view_name": "HTMLView",
      "description": "",
      "description_tooltip": null,
      "layout": "IPY_MODEL_a6ee5402cca04873a0e4c3f2fc542d68",
      "placeholder": "​",
      "style": "IPY_MODEL_c81f7f60b41a4261ba28d83331acb466",
      "value": " 385/385 [00:00&lt;00:00, 38.9kB/s]"
     }
    },
    "f19a594ff61e4cc795e6144428ac5809": {
     "model_module": "@jupyter-widgets/controls",
     "model_module_version": "1.5.0",
     "model_name": "FloatProgressModel",
     "state": {
      "_dom_classes": [],
      "_model_module": "@jupyter-widgets/controls",
      "_model_module_version": "1.5.0",
      "_model_name": "FloatProgressModel",
      "_view_count": null,
      "_view_module": "@jupyter-widgets/controls",
      "_view_module_version": "1.5.0",
      "_view_name": "ProgressView",
      "bar_style": "success",
      "description": "",
      "description_tooltip": null,
      "layout": "IPY_MODEL_53d3f6cbb14f4097a4a12e654ef4fa19",
      "max": 28160,
      "min": 0,
      "orientation": "horizontal",
      "style": "IPY_MODEL_da8b2fb373a24ed3b0e6dc4c8ba50371",
      "value": 28160
     }
    },
    "f90a32dd321b43c28e37245e9a81dd16": {
     "model_module": "@jupyter-widgets/controls",
     "model_module_version": "1.5.0",
     "model_name": "HTMLModel",
     "state": {
      "_dom_classes": [],
      "_model_module": "@jupyter-widgets/controls",
      "_model_module_version": "1.5.0",
      "_model_name": "HTMLModel",
      "_view_count": null,
      "_view_module": "@jupyter-widgets/controls",
      "_view_module_version": "1.5.0",
      "_view_name": "HTMLView",
      "description": "",
      "description_tooltip": null,
      "layout": "IPY_MODEL_d854d2e94c2a4baa837de4138262e461",
      "placeholder": "​",
      "style": "IPY_MODEL_4a9b2f0b89fd44ae9d6d011e6edad0b2",
      "value": "tf_model.h5: 100%"
     }
    },
    "fc3c2d9159404880aeae5ef6aebf6315": {
     "model_module": "@jupyter-widgets/base",
     "model_module_version": "1.2.0",
     "model_name": "LayoutModel",
     "state": {
      "_model_module": "@jupyter-widgets/base",
      "_model_module_version": "1.2.0",
      "_model_name": "LayoutModel",
      "_view_count": null,
      "_view_module": "@jupyter-widgets/base",
      "_view_module_version": "1.2.0",
      "_view_name": "LayoutView",
      "align_content": null,
      "align_items": null,
      "align_self": null,
      "border": null,
      "bottom": null,
      "display": null,
      "flex": null,
      "flex_flow": null,
      "grid_area": null,
      "grid_auto_columns": null,
      "grid_auto_flow": null,
      "grid_auto_rows": null,
      "grid_column": null,
      "grid_gap": null,
      "grid_row": null,
      "grid_template_areas": null,
      "grid_template_columns": null,
      "grid_template_rows": null,
      "height": null,
      "justify_content": null,
      "justify_items": null,
      "left": null,
      "margin": null,
      "max_height": null,
      "max_width": null,
      "min_height": null,
      "min_width": null,
      "object_fit": null,
      "object_position": null,
      "order": null,
      "overflow": null,
      "overflow_x": null,
      "overflow_y": null,
      "padding": null,
      "right": null,
      "top": null,
      "visibility": null,
      "width": null
     }
    },
    "fe55efe45cea421abd071c21c97edd21": {
     "model_module": "@jupyter-widgets/base",
     "model_module_version": "1.2.0",
     "model_name": "LayoutModel",
     "state": {
      "_model_module": "@jupyter-widgets/base",
      "_model_module_version": "1.2.0",
      "_model_name": "LayoutModel",
      "_view_count": null,
      "_view_module": "@jupyter-widgets/base",
      "_view_module_version": "1.2.0",
      "_view_name": "LayoutView",
      "align_content": null,
      "align_items": null,
      "align_self": null,
      "border": null,
      "bottom": null,
      "display": null,
      "flex": null,
      "flex_flow": null,
      "grid_area": null,
      "grid_auto_columns": null,
      "grid_auto_flow": null,
      "grid_auto_rows": null,
      "grid_column": null,
      "grid_gap": null,
      "grid_row": null,
      "grid_template_areas": null,
      "grid_template_columns": null,
      "grid_template_rows": null,
      "height": null,
      "justify_content": null,
      "justify_items": null,
      "left": null,
      "margin": null,
      "max_height": null,
      "max_width": null,
      "min_height": null,
      "min_width": null,
      "object_fit": null,
      "object_position": null,
      "order": null,
      "overflow": null,
      "overflow_x": null,
      "overflow_y": null,
      "padding": null,
      "right": null,
      "top": null,
      "visibility": null,
      "width": null
     }
    }
   }
  }
 },
 "nbformat": 4,
 "nbformat_minor": 4
}
