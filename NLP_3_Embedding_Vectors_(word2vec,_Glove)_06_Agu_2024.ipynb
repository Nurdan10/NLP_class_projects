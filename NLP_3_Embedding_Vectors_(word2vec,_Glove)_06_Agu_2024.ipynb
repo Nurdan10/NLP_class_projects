{
 "cells": [
  {
   "cell_type": "markdown",
   "metadata": {
    "id": "S56PVOFBhgwv"
   },
   "source": [
    "## Word_embedding\n",
    "\n",
    "Word embedding, bir kelime veya ifadenin düz bir vektör olarak ifade edilmesidir. Bu vektörler, kelimelerin arasındaki benzerlikleri yansıtmak üzere model tarfından öğrenilir. Bu sayede, yapay zeka modelleri kelimeler arasındaki ilişkileri daha iyi anlayabilir\n",
    "\n",
    "Word embedding, metin verileri kullanılarak öğrenilir. Örneğin, bir metin corpus'u (büyük metin veritabanı) kullanılarak, her kelime için çevresindeki kelimeler ile ilişkisini öğrenir. Bu ilişki, kelime ve çevresindeki kelimeler arasındaki co-occurrence (ortak görünüm) frekansı olarak tanımlanır. Daha sonra, bu co-occurrence verileri kullanarak, her kelime için bir vektör oluşturulur. Bu vektörler, kelimelerin anlamları arasındaki benzerlikleri yansıtmak üzere tasarlanır.\n",
    "\n",
    "Örneğin, \"öğretmen\", \"öğrenci\", \"not verme\" kelimeleri sıklıkla aynı metinlerde görülür ve benzer anlamlar taşır, bu nedenle oluşan vektörleri birbirine yakın olacak. Ancak \"öğretmen\" ve \"portakal\" kelimeleri sıklıkla aynı metinlerde görülmez ve farklı anlamlar taşır, bu nedenle oluşan vektörleri birbirinden uzak olacak."
   ]
  },
  {
   "cell_type": "markdown",
   "metadata": {
    "id": "zs17GUr1hgwx"
   },
   "source": [
    "## Word2Vec"
   ]
  },
  {
   "cell_type": "code",
   "execution_count": null,
   "metadata": {
    "id": "AU9r_0Fnhgwx"
   },
   "outputs": [],
   "source": [
    "# pip install gensim\n",
    "# conda install -c conda-forge gensim"
   ]
  },
  {
   "cell_type": "code",
   "execution_count": 1,
   "metadata": {
    "colab": {
     "base_uri": "https://localhost:8080/"
    },
    "id": "s_UGdBRTnCAl",
    "outputId": "4a433298-9bd6-48fc-9195-3bfbb9e9e90c"
   },
   "outputs": [
    {
     "ename": "ModuleNotFoundError",
     "evalue": "No module named 'google.colab'",
     "output_type": "error",
     "traceback": [
      "\u001b[1;31m---------------------------------------------------------------------------\u001b[0m",
      "\u001b[1;31mModuleNotFoundError\u001b[0m                       Traceback (most recent call last)",
      "Cell \u001b[1;32mIn[1], line 1\u001b[0m\n\u001b[1;32m----> 1\u001b[0m \u001b[38;5;28;01mfrom\u001b[39;00m \u001b[38;5;21;01mgoogle\u001b[39;00m\u001b[38;5;21;01m.\u001b[39;00m\u001b[38;5;21;01mcolab\u001b[39;00m \u001b[38;5;28;01mimport\u001b[39;00m drive\n\u001b[0;32m      2\u001b[0m drive\u001b[38;5;241m.\u001b[39mmount(\u001b[38;5;124m'\u001b[39m\u001b[38;5;124m/content/drive\u001b[39m\u001b[38;5;124m'\u001b[39m)\n",
      "\u001b[1;31mModuleNotFoundError\u001b[0m: No module named 'google.colab'"
     ]
    }
   ],
   "source": [
    "from google.colab import drive\n",
    "drive.mount('/content/drive')"
   ]
  },
  {
   "cell_type": "code",
   "execution_count": 2,
   "metadata": {
    "id": "WeoyO1yyhgwy"
   },
   "outputs": [],
   "source": [
    "from nltk.tokenize import word_tokenize\n",
    "import pandas as pd\n",
    "from gensim.models import Word2Vec\n",
    "import nltk"
   ]
  },
  {
   "cell_type": "code",
   "execution_count": 3,
   "metadata": {
    "colab": {
     "base_uri": "https://localhost:8080/"
    },
    "id": "PgGeekhNhgwy",
    "outputId": "efc0ea00-5f3a-454d-9e10-b5c58ebacc52"
   },
   "outputs": [
    {
     "name": "stderr",
     "output_type": "stream",
     "text": [
      "[nltk_data] Downloading package punkt to\n",
      "[nltk_data]     C:\\Users\\nurda\\AppData\\Roaming\\nltk_data...\n",
      "[nltk_data]   Package punkt is already up-to-date!\n"
     ]
    },
    {
     "data": {
      "text/plain": [
       "True"
      ]
     },
     "execution_count": 3,
     "metadata": {},
     "output_type": "execute_result"
    }
   ],
   "source": [
    "nltk.download('punkt')\n",
    "#nltk.download('stopwords')\n",
    "#nltk.download('wordnet')\n",
    "#nltk.download('omw-1.4')"
   ]
  },
  {
   "cell_type": "code",
   "execution_count": 5,
   "metadata": {
    "colab": {
     "base_uri": "https://localhost:8080/",
     "height": 423
    },
    "id": "SLShicO6hgwz",
    "outputId": "7ae7ce57-c668-4e48-84ab-6a3e20526cc3"
   },
   "outputs": [
    {
     "data": {
      "text/html": [
       "<div>\n",
       "<style scoped>\n",
       "    .dataframe tbody tr th:only-of-type {\n",
       "        vertical-align: middle;\n",
       "    }\n",
       "\n",
       "    .dataframe tbody tr th {\n",
       "        vertical-align: top;\n",
       "    }\n",
       "\n",
       "    .dataframe thead th {\n",
       "        text-align: right;\n",
       "    }\n",
       "</style>\n",
       "<table border=\"1\" class=\"dataframe\">\n",
       "  <thead>\n",
       "    <tr style=\"text-align: right;\">\n",
       "      <th></th>\n",
       "      <th>news</th>\n",
       "    </tr>\n",
       "  </thead>\n",
       "  <tbody>\n",
       "    <tr>\n",
       "      <th>0</th>\n",
       "      <td>iran devlet televizyonu ülkedeki eyaletin sind...</td>\n",
       "    </tr>\n",
       "    <tr>\n",
       "      <th>1</th>\n",
       "      <td>gösterilerde fitnecilere ölüm münafıklara ölüm...</td>\n",
       "    </tr>\n",
       "    <tr>\n",
       "      <th>2</th>\n",
       "      <td>dini lider ali hamaney ve cumhurbaşkanı mahmud...</td>\n",
       "    </tr>\n",
       "    <tr>\n",
       "      <th>3</th>\n",
       "      <td>musevi ye ölüm ve idam idam sloganları duyuldu</td>\n",
       "    </tr>\n",
       "    <tr>\n",
       "      <th>4</th>\n",
       "      <td>muhalefet liderleri kaçtı mı aşure günü yaşana...</td>\n",
       "    </tr>\n",
       "    <tr>\n",
       "      <th>...</th>\n",
       "      <td>...</td>\n",
       "    </tr>\n",
       "    <tr>\n",
       "      <th>411520</th>\n",
       "      <td>dışişleri bakanlığı ndan yapılan yazılı açıkla...</td>\n",
       "    </tr>\n",
       "    <tr>\n",
       "      <th>411521</th>\n",
       "      <td>açıklamada abd nin ankara büyükelçiliği ve ist...</td>\n",
       "    </tr>\n",
       "    <tr>\n",
       "      <th>411522</th>\n",
       "      <td>seyahat uyarısı güncelleme kararının temmuz da...</td>\n",
       "    </tr>\n",
       "    <tr>\n",
       "      <th>411523</th>\n",
       "      <td>amerikalı turistlerin açıkça türkiye deki ulus...</td>\n",
       "    </tr>\n",
       "    <tr>\n",
       "      <th>411524</th>\n",
       "      <td>abd dışişleri bakanlığı seyahat uyarısı açıkla...</td>\n",
       "    </tr>\n",
       "  </tbody>\n",
       "</table>\n",
       "<p>411525 rows × 1 columns</p>\n",
       "</div>"
      ],
      "text/plain": [
       "                                                     news\n",
       "0       iran devlet televizyonu ülkedeki eyaletin sind...\n",
       "1       gösterilerde fitnecilere ölüm münafıklara ölüm...\n",
       "2       dini lider ali hamaney ve cumhurbaşkanı mahmud...\n",
       "3         musevi ye ölüm ve idam idam sloganları duyuldu \n",
       "4       muhalefet liderleri kaçtı mı aşure günü yaşana...\n",
       "...                                                   ...\n",
       "411520  dışişleri bakanlığı ndan yapılan yazılı açıkla...\n",
       "411521  açıklamada abd nin ankara büyükelçiliği ve ist...\n",
       "411522  seyahat uyarısı güncelleme kararının temmuz da...\n",
       "411523  amerikalı turistlerin açıkça türkiye deki ulus...\n",
       "411524  abd dışişleri bakanlığı seyahat uyarısı açıkla...\n",
       "\n",
       "[411525 rows x 1 columns]"
      ]
     },
     "execution_count": 5,
     "metadata": {},
     "output_type": "execute_result"
    }
   ],
   "source": [
    "df = pd.read_csv('newspaper.zip', names = [\"news\"])\n",
    "df\n",
    "\n",
    "# pandas'ın read_csv fonksiyonu zip'li dosyaları da okuyabiliyor.\n",
    "# ziplediğimiz data(corpus) txt dosyası olduğundan dosyada belirlenmiş feature ismi/isimleri yoktur. Bu sebeple\n",
    "# feature isimlendirmesi için names parametresini kullanıyoruz.\n",
    "# names parametresi kullanılmaz ise ilk satırdaki text default olarak feature names olarak atanır."
   ]
  },
  {
   "cell_type": "code",
   "execution_count": 6,
   "metadata": {
    "colab": {
     "base_uri": "https://localhost:8080/",
     "height": 36
    },
    "id": "tq7_KbKrhgw0",
    "outputId": "4304d355-cded-4e9b-d1dd-ea83e801dead"
   },
   "outputs": [
    {
     "data": {
      "text/plain": [
       "'iran devlet televizyonu ülkedeki eyaletin sinde yapılan reformcuları protesto amaçlı yürüyüşlere milyonlarca kişinin katıldığını bildirdi '"
      ]
     },
     "execution_count": 6,
     "metadata": {},
     "output_type": "execute_result"
    }
   ],
   "source": [
    "df.news[0]"
   ]
  },
  {
   "cell_type": "code",
   "execution_count": 7,
   "metadata": {
    "colab": {
     "base_uri": "https://localhost:8080/"
    },
    "id": "OvsoGwhwhgw1",
    "outputId": "7d8b2914-450c-44c7-e791-df3454e49f27"
   },
   "outputs": [
    {
     "data": {
      "text/plain": [
       "['iran',\n",
       " 'devlet',\n",
       " 'televizyonu',\n",
       " 'ülkedeki',\n",
       " 'eyaletin',\n",
       " 'sinde',\n",
       " 'yapılan',\n",
       " 'reformcuları',\n",
       " 'protesto',\n",
       " 'amaçlı',\n",
       " 'yürüyüşlere',\n",
       " 'milyonlarca',\n",
       " 'kişinin',\n",
       " 'katıldığını',\n",
       " 'bildirdi']"
      ]
     },
     "execution_count": 7,
     "metadata": {},
     "output_type": "execute_result"
    }
   ],
   "source": [
    "word_tokenize(df.news[0])"
   ]
  },
  {
   "cell_type": "code",
   "execution_count": 8,
   "metadata": {
    "colab": {
     "base_uri": "https://localhost:8080/"
    },
    "id": "iqBZ9luRhgw1",
    "outputId": "191d4aed-8389-4d34-ac50-6924e9f2b7c7"
   },
   "outputs": [
    {
     "name": "stdout",
     "output_type": "stream",
     "text": [
      "[['iran', 'devlet', 'televizyonu', 'ülkedeki', 'eyaletin', 'sinde', 'yapılan', 'reformcuları', 'protesto', 'amaçlı', 'yürüyüşlere', 'milyonlarca', 'kişinin', 'katıldığını', 'bildirdi'], ['gösterilerde', 'fitnecilere', 'ölüm', 'münafıklara', 'ölüm', 'abd', 'ye', 'ölüm', 'ingiltere', 'ye', 'ölüm', 'sloganları', 'atıldı'], ['dini', 'lider', 'ali', 'hamaney', 've', 'cumhurbaşkanı', 'mahmud', 'ahmedinejad', 'ı', 'destekleyen', 'iranlılar', 'son', 'olaylarda', 'yeğeni', 'öldürülen', 'mir', 'hüseyin', 'musevi', 'başta', 'olmak', 'üzere', 'muhalefet', 'liderlerini', 'kınadılar'], ['musevi', 'ye', 'ölüm', 've', 'idam', 'idam', 'sloganları', 'duyuldu'], ['muhalefet', 'liderleri', 'kaçtı', 'mı', 'aşure', 'günü', 'yaşanan', 'çatışmalarda', 'devlet', 'kaynaklarına', 'göre', 'u', 'terörist', 'olmak', 'üzere', 'kişi', 'ölmüştü']]\n",
      "CPU times: total: 34.7 s\n",
      "Wall time: 37.3 s\n"
     ]
    }
   ],
   "source": [
    "%%time\n",
    "corpus=[word_tokenize(i) for i in df.news]\n",
    "print(corpus[:5])\n",
    "\n",
    "# word2vec algoritması tüm corpusun 2 boyutlu olmasını ister. Bu sebeple burdaki for döngüsü ile tüm documnetleri/satırları\n",
    "# teker teker çekip word tokenlerine ayırıyoruz. Word_tokenize fonksiyonu default olarak texti word tokenlerine ayırıp bir\n",
    "# listeye atar."
   ]
  },
  {
   "cell_type": "code",
   "execution_count": 9,
   "metadata": {
    "colab": {
     "base_uri": "https://localhost:8080/"
    },
    "id": "xmE0waUkhgw1",
    "outputId": "a7d3fade-0b6b-4d4c-b21c-fd82d760da7f"
   },
   "outputs": [
    {
     "data": {
      "text/plain": [
       "16"
      ]
     },
     "execution_count": 9,
     "metadata": {},
     "output_type": "execute_result"
    }
   ],
   "source": [
    "from gensim.utils import effective_n_jobs\n",
    "\n",
    "effective_n_jobs(-1)\n",
    "\n",
    "# bilgisayarınızdaki eğitim için kullanabileceğiniz max çekirdek sayısını gösterir."
   ]
  },
  {
   "cell_type": "code",
   "execution_count": 10,
   "metadata": {
    "colab": {
     "base_uri": "https://localhost:8080/"
    },
    "id": "CXcvnrOvhgw1",
    "outputId": "6530d868-94b8-4797-d41d-c39cdbca0b79"
   },
   "outputs": [
    {
     "name": "stdout",
     "output_type": "stream",
     "text": [
      "CPU times: total: 5min 4s\n",
      "Wall time: 2min 55s\n"
     ]
    }
   ],
   "source": [
    "%%time\n",
    "model = Word2Vec(sentences=corpus,\n",
    "                 alpha=0.025,\n",
    "                 vector_size=100,\n",
    "                 window=5,\n",
    "                 min_count=5,\n",
    "                 sg=1,\n",
    "                 workers=2)\n",
    "\n",
    "# vector_size, kaç boyutlu word embeddings istiyorsak burda belirtiyoruz.\n",
    "# Bir token ile diğer tokenler arasındaki anlamsal ilişkiler kurulurken bu tokenin kaç önce ve sonrasındaki tokenler dikkate\n",
    "# alınarak eğitim yapılmasını istiyorsak window parametresinde belirtiyoruz. Tavsiye edilen 5-15 sayıları arasındadır.\n",
    "# min_count, corpusta 5 veya daha az geçen tokenler eğitime dahil edilmez. Genellikle 3,4,5 gibi sayılar tercih edilir.\n",
    "# sg =1, eğitimi skipgram algoritması ile yap.\n",
    "# sg =0, eğitimi CBOW algoritması ile yap.\n",
    "# alpha= learning rate\n",
    "# workers=eğitim için kullanacağımız çekirdek sayısı"
   ]
  },
  {
   "cell_type": "code",
   "execution_count": 11,
   "metadata": {
    "colab": {
     "base_uri": "https://localhost:8080/"
    },
    "id": "NPgVppQKhgw1",
    "outputId": "23af8ea3-cecc-4868-a48c-15ddccedb3b9"
   },
   "outputs": [
    {
     "data": {
      "text/plain": [
       "array([-0.3173075 , -0.08221699, -0.07629871, -0.18036136,  0.23753105,\n",
       "       -0.19308655, -0.05447782,  0.6493647 ,  0.15866408, -0.49873778,\n",
       "        0.20449036, -0.8328607 , -0.41952696, -0.1884519 ,  0.21662231,\n",
       "        0.723581  , -0.05229838, -0.03090006, -0.09138278, -0.8643965 ,\n",
       "       -0.04388706,  0.5239506 ,  0.78487575, -0.11302853, -0.09315237,\n",
       "        0.08014257, -0.39064825, -0.1534864 , -0.5719117 ,  0.7037318 ,\n",
       "        0.18819402,  0.32377896,  0.27480564, -0.5161569 , -0.37993753,\n",
       "        0.09572636,  0.12616812, -0.34564096,  0.04082555, -0.3220749 ,\n",
       "        0.08800898, -0.0334935 ,  0.22041108, -0.06084921,  0.12939389,\n",
       "        0.15176287,  0.27529255,  0.29533413,  0.7499047 , -0.38754547,\n",
       "        0.3954794 ,  0.03857124, -0.14880852,  0.12355403, -0.23445089,\n",
       "        0.02424105, -0.25828835, -0.26527125, -0.5398334 , -0.44870895,\n",
       "       -0.03949853, -0.37426087, -0.3601172 , -0.04163061, -0.03812587,\n",
       "        0.00111005,  0.3400215 ,  0.49320406, -0.08661189,  0.0685943 ,\n",
       "       -0.4890611 , -0.1257282 ,  0.39030802, -0.06171783,  0.1415822 ,\n",
       "        0.12873305,  0.05056318, -0.34264052, -0.0633193 , -0.26208648,\n",
       "       -0.16254574, -0.62522846, -0.05256857,  0.40096906,  0.5420073 ,\n",
       "        0.24374373,  0.31497172,  0.32694113,  0.48593315,  0.38668972,\n",
       "        0.36218542,  0.5844769 ,  0.06927883,  0.09333584,  0.14079702,\n",
       "       -0.27689776, -0.06964598, -0.08186635,  0.00224911,  0.0052575 ],\n",
       "      dtype=float32)"
      ]
     },
     "execution_count": 11,
     "metadata": {},
     "output_type": "execute_result"
    }
   ],
   "source": [
    "model.wv['ankara']\n",
    "\n",
    "# 100 elemanlı/boyutlu word_embedding"
   ]
  },
  {
   "cell_type": "code",
   "execution_count": 12,
   "metadata": {
    "colab": {
     "base_uri": "https://localhost:8080/"
    },
    "id": "TQR8rZSohgw2",
    "outputId": "414eb5bb-9633-4590-b931-107fc1317d26"
   },
   "outputs": [
    {
     "data": {
      "text/plain": [
       "[('okuldaki', 0.7747582793235779),\n",
       " ('öğretmeni', 0.741500973701477),\n",
       " ('öğretmenin', 0.7274609208106995),\n",
       " ('öğrenciye', 0.7247532606124878),\n",
       " ('sınıfta', 0.7197406888008118),\n",
       " ('erkekten', 0.7170045971870422),\n",
       " ('öğretmenle', 0.7077909111976624),\n",
       " ('öğrenciyle', 0.7062223553657532),\n",
       " ('öğrenci', 0.7022702693939209),\n",
       " ('öğrencisinin', 0.6992269158363342)]"
      ]
     },
     "execution_count": 12,
     "metadata": {},
     "output_type": "execute_result"
    }
   ],
   "source": [
    "model.wv.most_similar('öğretmen')"
   ]
  },
  {
   "cell_type": "code",
   "execution_count": 14,
   "metadata": {
    "colab": {
     "base_uri": "https://localhost:8080/"
    },
    "id": "K-Wae4iehgw2",
    "outputId": "03cebae3-1d99-4c12-a86a-939e6a37846c"
   },
   "outputs": [
    {
     "data": {
      "text/plain": [
       "[('turuncu', 0.6744668483734131),\n",
       " ('çizgileri', 0.6654525995254517),\n",
       " ('sarı', 0.6392806172370911),\n",
       " ('renkli', 0.6207789182662964),\n",
       " ('gömlekliler', 0.6159173846244812),\n",
       " ('gömlekli', 0.6093240976333618),\n",
       " ('yeşil', 0.6012541055679321),\n",
       " ('halı', 0.5943321585655212),\n",
       " ('halıda', 0.5899109244346619),\n",
       " ('gömlek', 0.5849725008010864)]"
      ]
     },
     "execution_count": 14,
     "metadata": {},
     "output_type": "execute_result"
    }
   ],
   "source": [
    "model.wv.most_similar('kırmızı')"
   ]
  },
  {
   "cell_type": "code",
   "execution_count": 15,
   "metadata": {
    "colab": {
     "base_uri": "https://localhost:8080/"
    },
    "id": "LdgIA5cXhgw2",
    "outputId": "3f94b498-d51b-44c4-cf30-ab1a2d8dbea4"
   },
   "outputs": [
    {
     "data": {
      "text/plain": [
       "[('evine', 0.833125650882721),\n",
       " ('dükkana', 0.7761582732200623),\n",
       " ('mağazaya', 0.7723315358161926),\n",
       " ('arabaya', 0.7522745132446289),\n",
       " ('apartmana', 0.745829701423645),\n",
       " ('karakola', 0.7355663776397705),\n",
       " ('hapishaneye', 0.7297430634498596),\n",
       " ('odasına', 0.7251940369606018),\n",
       " ('restorana', 0.7231656312942505),\n",
       " ('arabasına', 0.7191272974014282)]"
      ]
     },
     "execution_count": 15,
     "metadata": {},
     "output_type": "execute_result"
    }
   ],
   "source": [
    "model.wv.most_similar('eve')"
   ]
  },
  {
   "cell_type": "code",
   "execution_count": 16,
   "metadata": {
    "colab": {
     "base_uri": "https://localhost:8080/"
    },
    "id": "cBvUpVyehgw2",
    "outputId": "6595dcf3-3f96-4b4e-c3bb-a96fa3f2d79c"
   },
   "outputs": [
    {
     "data": {
      "text/plain": [
       "[('marmara', 0.9004939198493958),\n",
       " ('gemisine', 0.6928290724754333),\n",
       " ('baskınıyla', 0.6850746273994446),\n",
       " ('baskınının', 0.626373827457428),\n",
       " ('filosundaki', 0.6137053370475769),\n",
       " ('baskınına', 0.6100205779075623),\n",
       " ('dökme', 0.606316089630127),\n",
       " ('gemilere', 0.6012399196624756),\n",
       " ('saldırısındaki', 0.601052463054657),\n",
       " ('filo', 0.5978657603263855)]"
      ]
     },
     "execution_count": 16,
     "metadata": {},
     "output_type": "execute_result"
    }
   ],
   "source": [
    "model.wv.most_similar('mavi')"
   ]
  },
  {
   "cell_type": "code",
   "execution_count": 17,
   "metadata": {
    "colab": {
     "base_uri": "https://localhost:8080/"
    },
    "id": "7SDFmftwhgw2",
    "outputId": "f4764a5c-393b-4549-94e8-6ea22fb90a8a"
   },
   "outputs": [
    {
     "data": {
      "text/plain": [
       "[('bilişsel', 0.6744711399078369),\n",
       " ('driscoll', 0.6737803816795349),\n",
       " ('eğitimciler', 0.6600473523139954),\n",
       " ('veliler', 0.6589595079421997),\n",
       " ('almancayı', 0.6570307016372681)]"
      ]
     },
     "execution_count": 17,
     "metadata": {},
     "output_type": "execute_result"
    }
   ],
   "source": [
    "model.wv.most_similar(positive=['öğrenme', 'doktor'], negative=['tedavi'], topn=5)"
   ]
  },
  {
   "cell_type": "code",
   "execution_count": 18,
   "metadata": {
    "colab": {
     "base_uri": "https://localhost:8080/"
    },
    "id": "3nVCm_lvhgw2",
    "outputId": "e2ecf078-7f0e-4c22-e153-9d505c892c7e"
   },
   "outputs": [
    {
     "data": {
      "text/plain": [
       "[('hollanda', 0.619133710861206),\n",
       " ('fransa', 0.6181085705757141),\n",
       " ('avusturya', 0.617389976978302),\n",
       " ('adana', 0.5835087895393372),\n",
       " ('italya', 0.575809121131897)]"
      ]
     },
     "execution_count": 18,
     "metadata": {},
     "output_type": "execute_result"
    }
   ],
   "source": [
    "model.wv.most_similar(positive=['ankara', 'belçika'], negative=['brüksel'], topn=5)"
   ]
  },
  {
   "cell_type": "code",
   "execution_count": 19,
   "metadata": {
    "id": "DFcJ0hPFhgw3"
   },
   "outputs": [],
   "source": [
    "model.save(\"word2vec.model\")"
   ]
  },
  {
   "cell_type": "code",
   "execution_count": 20,
   "metadata": {
    "id": "ae__f4uihgw3"
   },
   "outputs": [],
   "source": [
    "model = Word2Vec.load(\"word2vec.model\")"
   ]
  },
  {
   "cell_type": "markdown",
   "metadata": {
    "id": "mB9bapMKhgw3"
   },
   "source": [
    "## Glove"
   ]
  },
  {
   "cell_type": "code",
   "execution_count": 21,
   "metadata": {
    "id": "U19W6q3zhgw3"
   },
   "outputs": [],
   "source": [
    "from gensim.models import KeyedVectors\n",
    "\n",
    "# KeyedVectors fonksiyonunu farklı bir formattaki word embeddingleri word2vec formatına dönüştürmek için kullanıyoruz."
   ]
  },
  {
   "cell_type": "code",
   "execution_count": 28,
   "metadata": {
    "id": "xFQ7oG3Chgw3"
   },
   "outputs": [],
   "source": [
    "glove_model = \"C:/Users/nurda/Downloads/glove.6B.100d.txt\" \n",
    "model2 = KeyedVectors.load_word2vec_format(glove_model, no_header=True)"
   ]
  },
  {
   "cell_type": "code",
   "execution_count": 29,
   "metadata": {
    "colab": {
     "base_uri": "https://localhost:8080/"
    },
    "id": "gHFuvU7lhgw3",
    "outputId": "482b146d-eed5-4366-ccdc-bc4e9def7cbe"
   },
   "outputs": [
    {
     "data": {
      "text/plain": [
       "array([ 0.44374 ,  0.67311 , -0.51096 ,  0.20882 , -0.10662 ,  0.55098 ,\n",
       "       -0.035593,  0.25126 , -0.32789 ,  1.0762  , -0.49637 , -0.4298  ,\n",
       "        0.36764 ,  0.57894 , -0.25027 , -0.41021 ,  0.086998, -0.16843 ,\n",
       "       -0.85764 ,  1.0404  , -1.0314  ,  0.095147,  0.30729 ,  0.12348 ,\n",
       "        0.22745 , -0.52157 , -0.72478 , -1.0843  ,  0.035966,  0.62985 ,\n",
       "       -1.0991  ,  0.67161 ,  0.33797 ,  0.14551 , -0.90049 , -0.064415,\n",
       "       -0.75247 ,  0.21741 ,  0.51594 , -0.46291 , -0.77598 ,  0.40705 ,\n",
       "        0.1889  , -0.43402 ,  0.23202 , -0.081453, -0.3882  , -0.34444 ,\n",
       "        0.080225, -0.28274 , -0.38869 , -0.58152 , -0.25558 ,  1.0027  ,\n",
       "       -0.11114 , -1.5402  , -0.16761 , -0.26558 ,  0.9325  ,  0.069397,\n",
       "        0.96618 ,  0.15449 , -0.22905 , -0.1761  ,  0.13225 , -0.55741 ,\n",
       "        0.9234  , -0.04845 ,  0.50202 ,  1.0144  , -0.1256  ,  0.30486 ,\n",
       "        0.090808,  0.17642 , -0.23146 ,  0.68386 ,  0.37269 , -0.37316 ,\n",
       "       -0.025728, -1.0279  , -0.33142 ,  0.036028, -0.24925 , -1.4405  ,\n",
       "       -1.6267  ,  0.082284, -0.080153, -0.50802 ,  0.031885, -0.60546 ,\n",
       "        0.2908  ,  0.036842,  0.55328 ,  0.66784 , -0.42574 ,  0.53331 ,\n",
       "        0.053644, -0.66522 , -0.10012 , -0.17729 ], dtype=float32)"
      ]
     },
     "execution_count": 29,
     "metadata": {},
     "output_type": "execute_result"
    }
   ],
   "source": [
    "model2['teacher']"
   ]
  },
  {
   "cell_type": "code",
   "execution_count": 30,
   "metadata": {
    "colab": {
     "base_uri": "https://localhost:8080/"
    },
    "id": "Z9m4ZlBUhgw3",
    "outputId": "76c1b776-a96f-48cd-c21e-69ca508086bb"
   },
   "outputs": [
    {
     "data": {
      "text/plain": [
       "[('turkey', 0.7512096762657166),\n",
       " ('istanbul', 0.6787630319595337),\n",
       " ('turkish', 0.6690374612808228),\n",
       " ('damascus', 0.6372509002685547),\n",
       " ('tbilisi', 0.6322181820869446),\n",
       " ('erdogan', 0.6258037090301514),\n",
       " ('moscow', 0.6217040419578552),\n",
       " ('brussels', 0.6181439161300659),\n",
       " ('skopje', 0.6164302825927734),\n",
       " ('cyprus', 0.6064029932022095)]"
      ]
     },
     "execution_count": 30,
     "metadata": {},
     "output_type": "execute_result"
    }
   ],
   "source": [
    "model2.most_similar('ankara')"
   ]
  },
  {
   "cell_type": "code",
   "execution_count": 31,
   "metadata": {
    "colab": {
     "base_uri": "https://localhost:8080/"
    },
    "id": "atcW-rwdhgw3",
    "outputId": "5701f40c-9b36-4138-e183-04e6aea78f01"
   },
   "outputs": [
    {
     "data": {
      "text/plain": [
       "[('student', 0.8083399534225464),\n",
       " ('school', 0.7545564770698547),\n",
       " ('teaching', 0.7521439790725708),\n",
       " ('taught', 0.741184651851654),\n",
       " ('teachers', 0.7291542887687683),\n",
       " ('graduate', 0.7134960293769836),\n",
       " ('instructor', 0.7077120542526245),\n",
       " ('students', 0.6828974485397339),\n",
       " ('teaches', 0.6552315354347229),\n",
       " ('education', 0.6528989672660828)]"
      ]
     },
     "execution_count": 31,
     "metadata": {},
     "output_type": "execute_result"
    }
   ],
   "source": [
    "model2.most_similar('teacher')"
   ]
  },
  {
   "cell_type": "code",
   "execution_count": 32,
   "metadata": {
    "colab": {
     "base_uri": "https://localhost:8080/"
    },
    "id": "KNmWojuZhgw3",
    "outputId": "b6d16cfc-9dc5-494c-84f2-35e1d0fce126"
   },
   "outputs": [
    {
     "data": {
      "text/plain": [
       "[('physician', 0.7673239707946777),\n",
       " ('nurse', 0.75215083360672),\n",
       " ('dr.', 0.7175194025039673),\n",
       " ('doctors', 0.7080884575843811),\n",
       " ('patient', 0.7074184417724609),\n",
       " ('medical', 0.6995992660522461),\n",
       " ('surgeon', 0.6905338168144226),\n",
       " ('hospital', 0.6900930404663086),\n",
       " ('psychiatrist', 0.658909797668457),\n",
       " ('dentist', 0.6447421312332153)]"
      ]
     },
     "execution_count": 32,
     "metadata": {},
     "output_type": "execute_result"
    }
   ],
   "source": [
    "model2.most_similar('doctor')"
   ]
  },
  {
   "cell_type": "code",
   "execution_count": 33,
   "metadata": {
    "colab": {
     "base_uri": "https://localhost:8080/"
    },
    "id": "9aFh38wfhgw4",
    "outputId": "40e132d9-dd84-4332-ac1b-1a5d82cfef0b"
   },
   "outputs": [
    {
     "data": {
      "text/plain": [
       "[('daughter', 0.9090957045555115)]"
      ]
     },
     "execution_count": 33,
     "metadata": {},
     "output_type": "execute_result"
    }
   ],
   "source": [
    "model2.most_similar(positive=['woman', 'son'], negative=['man'], topn=1)"
   ]
  },
  {
   "cell_type": "code",
   "execution_count": 34,
   "metadata": {
    "colab": {
     "base_uri": "https://localhost:8080/"
    },
    "id": "xMS97rLshgw4",
    "outputId": "78699425-08f3-422a-d3e0-6655efd65c63"
   },
   "outputs": [
    {
     "data": {
      "text/plain": [
       "[('mother', 0.9024619460105896)]"
      ]
     },
     "execution_count": 34,
     "metadata": {},
     "output_type": "execute_result"
    }
   ],
   "source": [
    "model2.most_similar(positive=['woman', 'father'], negative=['man'], topn=1)"
   ]
  },
  {
   "cell_type": "code",
   "execution_count": 35,
   "metadata": {
    "colab": {
     "base_uri": "https://localhost:8080/"
    },
    "id": "J6nlSXaYhgw4",
    "outputId": "91e788d2-6f0d-470d-9fe4-32f9c46c14ad"
   },
   "outputs": [
    {
     "data": {
      "text/plain": [
       "[('aunt', 0.836803138256073)]"
      ]
     },
     "execution_count": 35,
     "metadata": {},
     "output_type": "execute_result"
    }
   ],
   "source": [
    "model2.most_similar(positive=['woman', 'uncle'], negative=['man'], topn=1)"
   ]
  },
  {
   "cell_type": "code",
   "execution_count": 36,
   "metadata": {
    "colab": {
     "base_uri": "https://localhost:8080/"
    },
    "id": "LuacFBIUhgw4",
    "outputId": "8f475a90-1cb1-42f6-c817-edb33e1def95"
   },
   "outputs": [
    {
     "data": {
      "text/plain": [
       "[('turkey', 0.81471186876297)]"
      ]
     },
     "execution_count": 36,
     "metadata": {},
     "output_type": "execute_result"
    }
   ],
   "source": [
    "model2.most_similar(positive=['ankara', 'germany'], negative=['berlin'], topn=1)"
   ]
  },
  {
   "cell_type": "code",
   "execution_count": 37,
   "metadata": {
    "colab": {
     "base_uri": "https://localhost:8080/"
    },
    "id": "tMY_xQ0dhgw4",
    "outputId": "554c4215-90d1-4f00-d29c-f29d7660ca2b"
   },
   "outputs": [
    {
     "data": {
      "text/plain": [
       "[('teacher', 0.7610154151916504)]"
      ]
     },
     "execution_count": 37,
     "metadata": {},
     "output_type": "execute_result"
    }
   ],
   "source": [
    "model2.most_similar(positive=['teach', 'doctor'], negative=['treat'], topn=1)"
   ]
  },
  {
   "cell_type": "code",
   "execution_count": 38,
   "metadata": {
    "colab": {
     "base_uri": "https://localhost:8080/"
    },
    "id": "CgHjIW6whgw5",
    "outputId": "454d73a7-ea46-4beb-a077-81ed8a96aab6"
   },
   "outputs": [
    {
     "data": {
      "text/plain": [
       "[('queen', 0.7698541283607483)]"
      ]
     },
     "execution_count": 38,
     "metadata": {},
     "output_type": "execute_result"
    }
   ],
   "source": [
    "model2.most_similar(positive=['woman', 'king'], negative=['man'], topn=1)"
   ]
  },
  {
   "cell_type": "code",
   "execution_count": 39,
   "metadata": {
    "colab": {
     "base_uri": "https://localhost:8080/"
    },
    "id": "Pj254mvQhgw5",
    "outputId": "4805b704-0173-47e3-8761-12f29c78d5ea"
   },
   "outputs": [
    {
     "data": {
      "text/plain": [
       "[('lover', 0.7032662630081177)]"
      ]
     },
     "execution_count": 39,
     "metadata": {},
     "output_type": "execute_result"
    }
   ],
   "source": [
    "model2.most_similar(positive=['love', 'jealous'], negative=['hate'], topn=1)"
   ]
  },
  {
   "cell_type": "code",
   "execution_count": null,
   "metadata": {
    "id": "WC3ff25Rhgw5"
   },
   "outputs": [],
   "source": []
  },
  {
   "cell_type": "code",
   "execution_count": null,
   "metadata": {
    "id": "8wwqqqgEhgw5"
   },
   "outputs": [],
   "source": []
  }
 ],
 "metadata": {
  "colab": {
   "provenance": []
  },
  "kernelspec": {
   "display_name": "Python 3 (ipykernel)",
   "language": "python",
   "name": "python3"
  },
  "language_info": {
   "codemirror_mode": {
    "name": "ipython",
    "version": 3
   },
   "file_extension": ".py",
   "mimetype": "text/x-python",
   "name": "python",
   "nbconvert_exporter": "python",
   "pygments_lexer": "ipython3",
   "version": "3.8.19"
  }
 },
 "nbformat": 4,
 "nbformat_minor": 4
}
